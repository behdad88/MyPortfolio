{
 "cells": [
  {
   "cell_type": "markdown",
   "metadata": {},
   "source": [
    "**Input Data:** There are two files in this folder, training_set and test_set.\n",
    "- Training Set: Contains almost one year of historical electricity price data presented through multiple features from column B:L. The target column contains electricity prices per hour.\n",
    "- Test Set: Contains all features for four days and the target value is not given.\n"
   ]
  },
  {
   "cell_type": "markdown",
   "metadata": {},
   "source": [
    "The goal is designing two AI models, **one deep model** and **one ensemble model**, based on training data and predicting target values during the test set.\n",
    "Feel free to:\n",
    "1. Create new features and add it to the data set or remove existing ones from the data set.\n",
    "2. Create the internal model architecture, parameters and fine-tuning process.\n"
   ]
  },
  {
   "cell_type": "markdown",
   "metadata": {},
   "source": [
    "What you need to deliver:\n",
    "1. In a word document, describe in your own words and in detail the data exploration and feature engineering steps and methods that you used.\n",
    "2. In the same word document, describe in your own words and in detail the model selection, design, and fine-tuning process that you used.\n",
    "3. Verify your data and submit an excel containing the forecasted values for the test data sets.\n",
    "4. Submit one or more, .py/.m file(s), for each step."
   ]
  },
  {
   "cell_type": "code",
   "execution_count": 1,
   "metadata": {},
   "outputs": [
    {
     "data": {
      "text/html": [
       "        <script type=\"text/javascript\">\n",
       "        window.PlotlyConfig = {MathJaxConfig: 'local'};\n",
       "        if (window.MathJax) {MathJax.Hub.Config({SVG: {font: \"STIX-Web\"}});}\n",
       "        if (typeof require !== 'undefined') {\n",
       "        require.undef(\"plotly\");\n",
       "        requirejs.config({\n",
       "            paths: {\n",
       "                'plotly': ['https://cdn.plot.ly/plotly-latest.min']\n",
       "            }\n",
       "        });\n",
       "        require(['plotly'], function(Plotly) {\n",
       "            window._Plotly = Plotly;\n",
       "        });\n",
       "        }\n",
       "        </script>\n",
       "        "
      ]
     },
     "metadata": {},
     "output_type": "display_data"
    }
   ],
   "source": [
    "# import libraries \n",
    "\n",
    "import pandas as pd\n",
    "import numpy as np\n",
    "\n",
    "import seaborn as sns\n",
    "import matplotlib.pyplot as plt\n",
    "%matplotlib inline\n",
    "\n",
    "import plotly.offline as py\n",
    "py.init_notebook_mode(connected=True)\n",
    "\n",
    "import warnings\n",
    "warnings.filterwarnings('ignore')"
   ]
  },
  {
   "cell_type": "code",
   "execution_count": 2,
   "metadata": {},
   "outputs": [],
   "source": [
    "train_df = pd.read_excel('Training Set.xlsx')\n",
    "test_df = pd.read_excel(\"Test Set.xlsx\")"
   ]
  },
  {
   "cell_type": "code",
   "execution_count": 3,
   "metadata": {},
   "outputs": [
    {
     "data": {
      "text/html": [
       "<div>\n",
       "<style scoped>\n",
       "    .dataframe tbody tr th:only-of-type {\n",
       "        vertical-align: middle;\n",
       "    }\n",
       "\n",
       "    .dataframe tbody tr th {\n",
       "        vertical-align: top;\n",
       "    }\n",
       "\n",
       "    .dataframe thead th {\n",
       "        text-align: right;\n",
       "    }\n",
       "</style>\n",
       "<table border=\"1\" class=\"dataframe\">\n",
       "  <thead>\n",
       "    <tr style=\"text-align: right;\">\n",
       "      <th></th>\n",
       "      <th>Date</th>\n",
       "      <th>Hour</th>\n",
       "      <th>Weekday</th>\n",
       "      <th>Is Working Day</th>\n",
       "      <th>Previous Hour Price</th>\n",
       "      <th>SDSH DAP</th>\n",
       "      <th>SDSH Volume</th>\n",
       "      <th>Sgn0 VolumeDir</th>\n",
       "      <th>P24HA Price</th>\n",
       "      <th>PDSH Price</th>\n",
       "      <th>PWSH Price</th>\n",
       "      <th>PWA Price</th>\n",
       "      <th>target</th>\n",
       "    </tr>\n",
       "  </thead>\n",
       "  <tbody>\n",
       "    <tr>\n",
       "      <th>0</th>\n",
       "      <td>2020-01-08 00:00:00</td>\n",
       "      <td>1</td>\n",
       "      <td>4</td>\n",
       "      <td>7</td>\n",
       "      <td>2400.41</td>\n",
       "      <td>2479.45</td>\n",
       "      <td>1383.7</td>\n",
       "      <td>-100.7</td>\n",
       "      <td>3654.911667</td>\n",
       "      <td>2473.00</td>\n",
       "      <td>1837.47</td>\n",
       "      <td>2296.059524</td>\n",
       "      <td>2475.68</td>\n",
       "    </tr>\n",
       "    <tr>\n",
       "      <th>1</th>\n",
       "      <td>2020-01-08 01:00:00</td>\n",
       "      <td>2</td>\n",
       "      <td>4</td>\n",
       "      <td>7</td>\n",
       "      <td>2475.68</td>\n",
       "      <td>2494.00</td>\n",
       "      <td>1339.3</td>\n",
       "      <td>-44.4</td>\n",
       "      <td>3655.023333</td>\n",
       "      <td>2459.38</td>\n",
       "      <td>1434.83</td>\n",
       "      <td>2299.858393</td>\n",
       "      <td>2484.40</td>\n",
       "    </tr>\n",
       "    <tr>\n",
       "      <th>2</th>\n",
       "      <td>2020-01-08 02:00:00</td>\n",
       "      <td>3</td>\n",
       "      <td>4</td>\n",
       "      <td>7</td>\n",
       "      <td>2484.40</td>\n",
       "      <td>2474.85</td>\n",
       "      <td>1309.4</td>\n",
       "      <td>-29.9</td>\n",
       "      <td>3656.065833</td>\n",
       "      <td>2370.61</td>\n",
       "      <td>1498.33</td>\n",
       "      <td>2306.105833</td>\n",
       "      <td>2486.89</td>\n",
       "    </tr>\n",
       "    <tr>\n",
       "      <th>3</th>\n",
       "      <td>2020-01-08 03:00:00</td>\n",
       "      <td>4</td>\n",
       "      <td>4</td>\n",
       "      <td>7</td>\n",
       "      <td>2486.89</td>\n",
       "      <td>2478.66</td>\n",
       "      <td>1294.7</td>\n",
       "      <td>-14.7</td>\n",
       "      <td>3660.910833</td>\n",
       "      <td>2021.43</td>\n",
       "      <td>1462.42</td>\n",
       "      <td>2311.990119</td>\n",
       "      <td>2533.42</td>\n",
       "    </tr>\n",
       "    <tr>\n",
       "      <th>4</th>\n",
       "      <td>2020-01-08 04:00:00</td>\n",
       "      <td>5</td>\n",
       "      <td>4</td>\n",
       "      <td>7</td>\n",
       "      <td>2533.42</td>\n",
       "      <td>2809.63</td>\n",
       "      <td>1361.4</td>\n",
       "      <td>66.7</td>\n",
       "      <td>3682.243750</td>\n",
       "      <td>2176.48</td>\n",
       "      <td>1455.85</td>\n",
       "      <td>2318.365119</td>\n",
       "      <td>2850.75</td>\n",
       "    </tr>\n",
       "  </tbody>\n",
       "</table>\n",
       "</div>"
      ],
      "text/plain": [
       "                 Date  Hour  Weekday  Is Working Day  Previous Hour Price  \\\n",
       "0 2020-01-08 00:00:00     1        4               7              2400.41   \n",
       "1 2020-01-08 01:00:00     2        4               7              2475.68   \n",
       "2 2020-01-08 02:00:00     3        4               7              2484.40   \n",
       "3 2020-01-08 03:00:00     4        4               7              2486.89   \n",
       "4 2020-01-08 04:00:00     5        4               7              2533.42   \n",
       "\n",
       "   SDSH DAP  SDSH Volume  Sgn0 VolumeDir  P24HA Price  PDSH Price  PWSH Price  \\\n",
       "0   2479.45       1383.7          -100.7  3654.911667     2473.00     1837.47   \n",
       "1   2494.00       1339.3           -44.4  3655.023333     2459.38     1434.83   \n",
       "2   2474.85       1309.4           -29.9  3656.065833     2370.61     1498.33   \n",
       "3   2478.66       1294.7           -14.7  3660.910833     2021.43     1462.42   \n",
       "4   2809.63       1361.4            66.7  3682.243750     2176.48     1455.85   \n",
       "\n",
       "     PWA Price   target  \n",
       "0  2296.059524  2475.68  \n",
       "1  2299.858393  2484.40  \n",
       "2  2306.105833  2486.89  \n",
       "3  2311.990119  2533.42  \n",
       "4  2318.365119  2850.75  "
      ]
     },
     "execution_count": 3,
     "metadata": {},
     "output_type": "execute_result"
    }
   ],
   "source": [
    "train_df.head()"
   ]
  },
  {
   "cell_type": "code",
   "execution_count": 4,
   "metadata": {},
   "outputs": [
    {
     "data": {
      "text/plain": [
       "(7584, 13)"
      ]
     },
     "execution_count": 4,
     "metadata": {},
     "output_type": "execute_result"
    }
   ],
   "source": [
    "train_df.shape"
   ]
  },
  {
   "cell_type": "code",
   "execution_count": 5,
   "metadata": {},
   "outputs": [
    {
     "name": "stdout",
     "output_type": "stream",
     "text": [
      "<class 'pandas.core.frame.DataFrame'>\n",
      "RangeIndex: 7584 entries, 0 to 7583\n",
      "Data columns (total 13 columns):\n",
      " #   Column               Non-Null Count  Dtype         \n",
      "---  ------               --------------  -----         \n",
      " 0   Date                 7584 non-null   datetime64[ns]\n",
      " 1   Hour                 7584 non-null   int64         \n",
      " 2   Weekday              7584 non-null   int64         \n",
      " 3   Is Working Day       7584 non-null   int64         \n",
      " 4   Previous Hour Price  7584 non-null   float64       \n",
      " 5   SDSH DAP             7584 non-null   float64       \n",
      " 6   SDSH Volume          7584 non-null   float64       \n",
      " 7   Sgn0 VolumeDir       7584 non-null   float64       \n",
      " 8   P24HA Price          7584 non-null   float64       \n",
      " 9   PDSH Price           7584 non-null   float64       \n",
      " 10  PWSH Price           7584 non-null   float64       \n",
      " 11  PWA Price            7584 non-null   float64       \n",
      " 12  target               7584 non-null   float64       \n",
      "dtypes: datetime64[ns](1), float64(9), int64(3)\n",
      "memory usage: 770.4 KB\n"
     ]
    }
   ],
   "source": [
    "train_df.info()"
   ]
  },
  {
   "cell_type": "code",
   "execution_count": 6,
   "metadata": {},
   "outputs": [
    {
     "data": {
      "text/html": [
       "<div>\n",
       "<style scoped>\n",
       "    .dataframe tbody tr th:only-of-type {\n",
       "        vertical-align: middle;\n",
       "    }\n",
       "\n",
       "    .dataframe tbody tr th {\n",
       "        vertical-align: top;\n",
       "    }\n",
       "\n",
       "    .dataframe thead th {\n",
       "        text-align: right;\n",
       "    }\n",
       "</style>\n",
       "<table border=\"1\" class=\"dataframe\">\n",
       "  <thead>\n",
       "    <tr style=\"text-align: right;\">\n",
       "      <th></th>\n",
       "      <th>Date</th>\n",
       "      <th>Hour</th>\n",
       "      <th>Weekday</th>\n",
       "      <th>Is Working Day</th>\n",
       "      <th>Previous Hour Price</th>\n",
       "      <th>SDSH DAP</th>\n",
       "      <th>SDSH Volume</th>\n",
       "      <th>Sgn0 VolumeDir</th>\n",
       "      <th>P24HA Price</th>\n",
       "      <th>PDSH Price</th>\n",
       "      <th>PWSH Price</th>\n",
       "      <th>PWA Price</th>\n",
       "      <th>target</th>\n",
       "    </tr>\n",
       "  </thead>\n",
       "  <tbody>\n",
       "    <tr>\n",
       "      <th>0</th>\n",
       "      <td>2020-11-19 00:00:00</td>\n",
       "      <td>1</td>\n",
       "      <td>5</td>\n",
       "      <td>5</td>\n",
       "      <td>1501.96</td>\n",
       "      <td>1501.70</td>\n",
       "      <td>1563.7</td>\n",
       "      <td>-50.6</td>\n",
       "      <td>1622.125000</td>\n",
       "      <td>1513.71</td>\n",
       "      <td>593.880</td>\n",
       "      <td>1458.818810</td>\n",
       "      <td>NaN</td>\n",
       "    </tr>\n",
       "    <tr>\n",
       "      <th>1</th>\n",
       "      <td>2020-11-19 01:00:00</td>\n",
       "      <td>2</td>\n",
       "      <td>5</td>\n",
       "      <td>5</td>\n",
       "      <td>1475.95</td>\n",
       "      <td>1508.89</td>\n",
       "      <td>1522.3</td>\n",
       "      <td>-41.4</td>\n",
       "      <td>1620.551667</td>\n",
       "      <td>1487.63</td>\n",
       "      <td>1004.500</td>\n",
       "      <td>1464.069226</td>\n",
       "      <td>NaN</td>\n",
       "    </tr>\n",
       "    <tr>\n",
       "      <th>2</th>\n",
       "      <td>2020-11-19 02:00:00</td>\n",
       "      <td>3</td>\n",
       "      <td>5</td>\n",
       "      <td>5</td>\n",
       "      <td>1479.86</td>\n",
       "      <td>1379.23</td>\n",
       "      <td>1468.5</td>\n",
       "      <td>-53.8</td>\n",
       "      <td>1620.227917</td>\n",
       "      <td>1368.59</td>\n",
       "      <td>1025.598</td>\n",
       "      <td>1466.898750</td>\n",
       "      <td>NaN</td>\n",
       "    </tr>\n",
       "    <tr>\n",
       "      <th>3</th>\n",
       "      <td>2020-11-19 03:00:00</td>\n",
       "      <td>4</td>\n",
       "      <td>5</td>\n",
       "      <td>5</td>\n",
       "      <td>1484.50</td>\n",
       "      <td>1335.80</td>\n",
       "      <td>1443.3</td>\n",
       "      <td>-25.2</td>\n",
       "      <td>1625.057500</td>\n",
       "      <td>1321.87</td>\n",
       "      <td>1046.696</td>\n",
       "      <td>1469.630310</td>\n",
       "      <td>NaN</td>\n",
       "    </tr>\n",
       "    <tr>\n",
       "      <th>4</th>\n",
       "      <td>2020-11-19 04:00:00</td>\n",
       "      <td>5</td>\n",
       "      <td>5</td>\n",
       "      <td>5</td>\n",
       "      <td>1318.03</td>\n",
       "      <td>1329.68</td>\n",
       "      <td>1445.1</td>\n",
       "      <td>1.8</td>\n",
       "      <td>1624.897500</td>\n",
       "      <td>1317.43</td>\n",
       "      <td>1067.794</td>\n",
       "      <td>1471.245393</td>\n",
       "      <td>NaN</td>\n",
       "    </tr>\n",
       "  </tbody>\n",
       "</table>\n",
       "</div>"
      ],
      "text/plain": [
       "                 Date  Hour  Weekday  Is Working Day  Previous Hour Price  \\\n",
       "0 2020-11-19 00:00:00     1        5               5              1501.96   \n",
       "1 2020-11-19 01:00:00     2        5               5              1475.95   \n",
       "2 2020-11-19 02:00:00     3        5               5              1479.86   \n",
       "3 2020-11-19 03:00:00     4        5               5              1484.50   \n",
       "4 2020-11-19 04:00:00     5        5               5              1318.03   \n",
       "\n",
       "   SDSH DAP  SDSH Volume  Sgn0 VolumeDir  P24HA Price  PDSH Price  PWSH Price  \\\n",
       "0   1501.70       1563.7           -50.6  1622.125000     1513.71     593.880   \n",
       "1   1508.89       1522.3           -41.4  1620.551667     1487.63    1004.500   \n",
       "2   1379.23       1468.5           -53.8  1620.227917     1368.59    1025.598   \n",
       "3   1335.80       1443.3           -25.2  1625.057500     1321.87    1046.696   \n",
       "4   1329.68       1445.1             1.8  1624.897500     1317.43    1067.794   \n",
       "\n",
       "     PWA Price  target  \n",
       "0  1458.818810     NaN  \n",
       "1  1464.069226     NaN  \n",
       "2  1466.898750     NaN  \n",
       "3  1469.630310     NaN  \n",
       "4  1471.245393     NaN  "
      ]
     },
     "execution_count": 6,
     "metadata": {},
     "output_type": "execute_result"
    }
   ],
   "source": [
    "test_df.head()"
   ]
  },
  {
   "cell_type": "code",
   "execution_count": 7,
   "metadata": {},
   "outputs": [
    {
     "data": {
      "text/plain": [
       "(96, 13)"
      ]
     },
     "execution_count": 7,
     "metadata": {},
     "output_type": "execute_result"
    }
   ],
   "source": [
    "test_df.shape"
   ]
  },
  {
   "cell_type": "code",
   "execution_count": 8,
   "metadata": {},
   "outputs": [
    {
     "name": "stdout",
     "output_type": "stream",
     "text": [
      "<class 'pandas.core.frame.DataFrame'>\n",
      "RangeIndex: 96 entries, 0 to 95\n",
      "Data columns (total 13 columns):\n",
      " #   Column               Non-Null Count  Dtype         \n",
      "---  ------               --------------  -----         \n",
      " 0   Date                 96 non-null     datetime64[ns]\n",
      " 1   Hour                 96 non-null     int64         \n",
      " 2   Weekday              96 non-null     int64         \n",
      " 3   Is Working Day       96 non-null     int64         \n",
      " 4   Previous Hour Price  96 non-null     float64       \n",
      " 5   SDSH DAP             96 non-null     float64       \n",
      " 6   SDSH Volume          96 non-null     float64       \n",
      " 7   Sgn0 VolumeDir       96 non-null     float64       \n",
      " 8   P24HA Price          96 non-null     float64       \n",
      " 9   PDSH Price           96 non-null     float64       \n",
      " 10  PWSH Price           96 non-null     float64       \n",
      " 11  PWA Price            96 non-null     float64       \n",
      " 12  target               0 non-null      float64       \n",
      "dtypes: datetime64[ns](1), float64(9), int64(3)\n",
      "memory usage: 9.9 KB\n"
     ]
    }
   ],
   "source": [
    "test_df.info()"
   ]
  },
  {
   "cell_type": "code",
   "execution_count": 9,
   "metadata": {},
   "outputs": [
    {
     "data": {
      "text/html": [
       "<div>\n",
       "<style scoped>\n",
       "    .dataframe tbody tr th:only-of-type {\n",
       "        vertical-align: middle;\n",
       "    }\n",
       "\n",
       "    .dataframe tbody tr th {\n",
       "        vertical-align: top;\n",
       "    }\n",
       "\n",
       "    .dataframe thead th {\n",
       "        text-align: right;\n",
       "    }\n",
       "</style>\n",
       "<table border=\"1\" class=\"dataframe\">\n",
       "  <thead>\n",
       "    <tr style=\"text-align: right;\">\n",
       "      <th></th>\n",
       "      <th>Hour</th>\n",
       "      <th>Weekday</th>\n",
       "      <th>Is Working Day</th>\n",
       "      <th>Previous Hour Price</th>\n",
       "      <th>SDSH DAP</th>\n",
       "      <th>SDSH Volume</th>\n",
       "      <th>Sgn0 VolumeDir</th>\n",
       "      <th>P24HA Price</th>\n",
       "      <th>PDSH Price</th>\n",
       "      <th>PWSH Price</th>\n",
       "      <th>PWA Price</th>\n",
       "      <th>target</th>\n",
       "    </tr>\n",
       "  </thead>\n",
       "  <tbody>\n",
       "    <tr>\n",
       "      <th>count</th>\n",
       "      <td>7584.00</td>\n",
       "      <td>7584.0</td>\n",
       "      <td>7584.00</td>\n",
       "      <td>7584.00</td>\n",
       "      <td>7584.00</td>\n",
       "      <td>7584.00</td>\n",
       "      <td>7584.00</td>\n",
       "      <td>7584.00</td>\n",
       "      <td>7584.00</td>\n",
       "      <td>7584.00</td>\n",
       "      <td>7584.00</td>\n",
       "      <td>7584.00</td>\n",
       "    </tr>\n",
       "    <tr>\n",
       "      <th>mean</th>\n",
       "      <td>12.50</td>\n",
       "      <td>4.0</td>\n",
       "      <td>4.57</td>\n",
       "      <td>2429.48</td>\n",
       "      <td>2327.52</td>\n",
       "      <td>1587.82</td>\n",
       "      <td>0.02</td>\n",
       "      <td>2433.18</td>\n",
       "      <td>2426.83</td>\n",
       "      <td>2464.85</td>\n",
       "      <td>2442.33</td>\n",
       "      <td>2429.37</td>\n",
       "    </tr>\n",
       "    <tr>\n",
       "      <th>std</th>\n",
       "      <td>6.92</td>\n",
       "      <td>2.0</td>\n",
       "      <td>1.39</td>\n",
       "      <td>1590.72</td>\n",
       "      <td>1419.11</td>\n",
       "      <td>213.11</td>\n",
       "      <td>73.09</td>\n",
       "      <td>1125.33</td>\n",
       "      <td>1564.73</td>\n",
       "      <td>1605.18</td>\n",
       "      <td>870.87</td>\n",
       "      <td>1590.75</td>\n",
       "    </tr>\n",
       "    <tr>\n",
       "      <th>min</th>\n",
       "      <td>1.00</td>\n",
       "      <td>1.0</td>\n",
       "      <td>1.00</td>\n",
       "      <td>124.16</td>\n",
       "      <td>87.38</td>\n",
       "      <td>1079.80</td>\n",
       "      <td>-465.20</td>\n",
       "      <td>1145.51</td>\n",
       "      <td>124.16</td>\n",
       "      <td>124.16</td>\n",
       "      <td>1409.44</td>\n",
       "      <td>124.16</td>\n",
       "    </tr>\n",
       "    <tr>\n",
       "      <th>25%</th>\n",
       "      <td>6.75</td>\n",
       "      <td>2.0</td>\n",
       "      <td>4.00</td>\n",
       "      <td>1664.40</td>\n",
       "      <td>1651.85</td>\n",
       "      <td>1400.98</td>\n",
       "      <td>-50.42</td>\n",
       "      <td>1722.83</td>\n",
       "      <td>1666.84</td>\n",
       "      <td>1676.70</td>\n",
       "      <td>1813.92</td>\n",
       "      <td>1664.35</td>\n",
       "    </tr>\n",
       "    <tr>\n",
       "      <th>50%</th>\n",
       "      <td>12.50</td>\n",
       "      <td>4.0</td>\n",
       "      <td>5.00</td>\n",
       "      <td>1945.81</td>\n",
       "      <td>1922.32</td>\n",
       "      <td>1583.30</td>\n",
       "      <td>-16.20</td>\n",
       "      <td>2029.11</td>\n",
       "      <td>1951.46</td>\n",
       "      <td>1967.16</td>\n",
       "      <td>2060.33</td>\n",
       "      <td>1945.70</td>\n",
       "    </tr>\n",
       "    <tr>\n",
       "      <th>75%</th>\n",
       "      <td>18.25</td>\n",
       "      <td>6.0</td>\n",
       "      <td>5.00</td>\n",
       "      <td>2568.55</td>\n",
       "      <td>2507.29</td>\n",
       "      <td>1757.62</td>\n",
       "      <td>43.30</td>\n",
       "      <td>2725.68</td>\n",
       "      <td>2595.94</td>\n",
       "      <td>2603.57</td>\n",
       "      <td>2823.23</td>\n",
       "      <td>2568.55</td>\n",
       "    </tr>\n",
       "    <tr>\n",
       "      <th>max</th>\n",
       "      <td>24.00</td>\n",
       "      <td>7.0</td>\n",
       "      <td>8.00</td>\n",
       "      <td>10117.86</td>\n",
       "      <td>9548.44</td>\n",
       "      <td>2192.30</td>\n",
       "      <td>661.20</td>\n",
       "      <td>7691.48</td>\n",
       "      <td>10117.86</td>\n",
       "      <td>10117.86</td>\n",
       "      <td>5520.09</td>\n",
       "      <td>10117.86</td>\n",
       "    </tr>\n",
       "  </tbody>\n",
       "</table>\n",
       "</div>"
      ],
      "text/plain": [
       "          Hour  Weekday  Is Working Day  Previous Hour Price  SDSH DAP  \\\n",
       "count  7584.00   7584.0         7584.00              7584.00   7584.00   \n",
       "mean     12.50      4.0            4.57              2429.48   2327.52   \n",
       "std       6.92      2.0            1.39              1590.72   1419.11   \n",
       "min       1.00      1.0            1.00               124.16     87.38   \n",
       "25%       6.75      2.0            4.00              1664.40   1651.85   \n",
       "50%      12.50      4.0            5.00              1945.81   1922.32   \n",
       "75%      18.25      6.0            5.00              2568.55   2507.29   \n",
       "max      24.00      7.0            8.00             10117.86   9548.44   \n",
       "\n",
       "       SDSH Volume  Sgn0 VolumeDir  P24HA Price  PDSH Price  PWSH Price  \\\n",
       "count      7584.00         7584.00      7584.00     7584.00     7584.00   \n",
       "mean       1587.82            0.02      2433.18     2426.83     2464.85   \n",
       "std         213.11           73.09      1125.33     1564.73     1605.18   \n",
       "min        1079.80         -465.20      1145.51      124.16      124.16   \n",
       "25%        1400.98          -50.42      1722.83     1666.84     1676.70   \n",
       "50%        1583.30          -16.20      2029.11     1951.46     1967.16   \n",
       "75%        1757.62           43.30      2725.68     2595.94     2603.57   \n",
       "max        2192.30          661.20      7691.48    10117.86    10117.86   \n",
       "\n",
       "       PWA Price    target  \n",
       "count    7584.00   7584.00  \n",
       "mean     2442.33   2429.37  \n",
       "std       870.87   1590.75  \n",
       "min      1409.44    124.16  \n",
       "25%      1813.92   1664.35  \n",
       "50%      2060.33   1945.70  \n",
       "75%      2823.23   2568.55  \n",
       "max      5520.09  10117.86  "
      ]
     },
     "execution_count": 9,
     "metadata": {},
     "output_type": "execute_result"
    }
   ],
   "source": [
    "train_df.describe().round(2)"
   ]
  },
  {
   "cell_type": "code",
   "execution_count": 10,
   "metadata": {},
   "outputs": [
    {
     "data": {
      "text/html": [
       "<div>\n",
       "<style scoped>\n",
       "    .dataframe tbody tr th:only-of-type {\n",
       "        vertical-align: middle;\n",
       "    }\n",
       "\n",
       "    .dataframe tbody tr th {\n",
       "        vertical-align: top;\n",
       "    }\n",
       "\n",
       "    .dataframe thead th {\n",
       "        text-align: right;\n",
       "    }\n",
       "</style>\n",
       "<table border=\"1\" class=\"dataframe\">\n",
       "  <thead>\n",
       "    <tr style=\"text-align: right;\">\n",
       "      <th></th>\n",
       "      <th>Hour</th>\n",
       "      <th>Weekday</th>\n",
       "      <th>Is Working Day</th>\n",
       "      <th>Previous Hour Price</th>\n",
       "      <th>SDSH DAP</th>\n",
       "      <th>SDSH Volume</th>\n",
       "      <th>Sgn0 VolumeDir</th>\n",
       "      <th>P24HA Price</th>\n",
       "      <th>PDSH Price</th>\n",
       "      <th>PWSH Price</th>\n",
       "      <th>PWA Price</th>\n",
       "      <th>target</th>\n",
       "    </tr>\n",
       "  </thead>\n",
       "  <tbody>\n",
       "    <tr>\n",
       "      <th>count</th>\n",
       "      <td>96.00</td>\n",
       "      <td>96.00</td>\n",
       "      <td>96.00</td>\n",
       "      <td>96.00</td>\n",
       "      <td>96.00</td>\n",
       "      <td>96.00</td>\n",
       "      <td>96.00</td>\n",
       "      <td>96.00</td>\n",
       "      <td>96.00</td>\n",
       "      <td>96.00</td>\n",
       "      <td>96.00</td>\n",
       "      <td>0.0</td>\n",
       "    </tr>\n",
       "    <tr>\n",
       "      <th>mean</th>\n",
       "      <td>12.50</td>\n",
       "      <td>4.75</td>\n",
       "      <td>4.00</td>\n",
       "      <td>1550.60</td>\n",
       "      <td>1549.67</td>\n",
       "      <td>1638.72</td>\n",
       "      <td>-1.76</td>\n",
       "      <td>1584.22</td>\n",
       "      <td>1520.71</td>\n",
       "      <td>1358.63</td>\n",
       "      <td>1546.61</td>\n",
       "      <td>NaN</td>\n",
       "    </tr>\n",
       "    <tr>\n",
       "      <th>std</th>\n",
       "      <td>6.96</td>\n",
       "      <td>2.29</td>\n",
       "      <td>1.23</td>\n",
       "      <td>260.32</td>\n",
       "      <td>241.88</td>\n",
       "      <td>209.62</td>\n",
       "      <td>77.61</td>\n",
       "      <td>83.06</td>\n",
       "      <td>367.22</td>\n",
       "      <td>512.76</td>\n",
       "      <td>41.11</td>\n",
       "      <td>NaN</td>\n",
       "    </tr>\n",
       "    <tr>\n",
       "      <th>min</th>\n",
       "      <td>1.00</td>\n",
       "      <td>1.00</td>\n",
       "      <td>2.00</td>\n",
       "      <td>1204.60</td>\n",
       "      <td>1225.07</td>\n",
       "      <td>1303.10</td>\n",
       "      <td>-120.40</td>\n",
       "      <td>1395.11</td>\n",
       "      <td>184.18</td>\n",
       "      <td>182.17</td>\n",
       "      <td>1458.82</td>\n",
       "      <td>NaN</td>\n",
       "    </tr>\n",
       "    <tr>\n",
       "      <th>25%</th>\n",
       "      <td>6.75</td>\n",
       "      <td>4.00</td>\n",
       "      <td>3.50</td>\n",
       "      <td>1357.13</td>\n",
       "      <td>1393.89</td>\n",
       "      <td>1447.88</td>\n",
       "      <td>-50.23</td>\n",
       "      <td>1515.97</td>\n",
       "      <td>1378.53</td>\n",
       "      <td>1214.70</td>\n",
       "      <td>1502.39</td>\n",
       "      <td>NaN</td>\n",
       "    </tr>\n",
       "    <tr>\n",
       "      <th>50%</th>\n",
       "      <td>12.50</td>\n",
       "      <td>5.50</td>\n",
       "      <td>4.50</td>\n",
       "      <td>1493.88</td>\n",
       "      <td>1509.78</td>\n",
       "      <td>1588.10</td>\n",
       "      <td>-24.15</td>\n",
       "      <td>1626.19</td>\n",
       "      <td>1483.94</td>\n",
       "      <td>1472.90</td>\n",
       "      <td>1554.20</td>\n",
       "      <td>NaN</td>\n",
       "    </tr>\n",
       "    <tr>\n",
       "      <th>75%</th>\n",
       "      <td>18.25</td>\n",
       "      <td>6.25</td>\n",
       "      <td>5.00</td>\n",
       "      <td>1566.80</td>\n",
       "      <td>1598.56</td>\n",
       "      <td>1822.40</td>\n",
       "      <td>19.70</td>\n",
       "      <td>1645.19</td>\n",
       "      <td>1579.28</td>\n",
       "      <td>1539.01</td>\n",
       "      <td>1584.21</td>\n",
       "      <td>NaN</td>\n",
       "    </tr>\n",
       "    <tr>\n",
       "      <th>max</th>\n",
       "      <td>24.00</td>\n",
       "      <td>7.00</td>\n",
       "      <td>5.00</td>\n",
       "      <td>2311.63</td>\n",
       "      <td>2372.21</td>\n",
       "      <td>2025.70</td>\n",
       "      <td>260.60</td>\n",
       "      <td>1668.11</td>\n",
       "      <td>2311.19</td>\n",
       "      <td>2957.65</td>\n",
       "      <td>1591.16</td>\n",
       "      <td>NaN</td>\n",
       "    </tr>\n",
       "  </tbody>\n",
       "</table>\n",
       "</div>"
      ],
      "text/plain": [
       "        Hour  Weekday  Is Working Day  Previous Hour Price  SDSH DAP  \\\n",
       "count  96.00    96.00           96.00                96.00     96.00   \n",
       "mean   12.50     4.75            4.00              1550.60   1549.67   \n",
       "std     6.96     2.29            1.23               260.32    241.88   \n",
       "min     1.00     1.00            2.00              1204.60   1225.07   \n",
       "25%     6.75     4.00            3.50              1357.13   1393.89   \n",
       "50%    12.50     5.50            4.50              1493.88   1509.78   \n",
       "75%    18.25     6.25            5.00              1566.80   1598.56   \n",
       "max    24.00     7.00            5.00              2311.63   2372.21   \n",
       "\n",
       "       SDSH Volume  Sgn0 VolumeDir  P24HA Price  PDSH Price  PWSH Price  \\\n",
       "count        96.00           96.00        96.00       96.00       96.00   \n",
       "mean       1638.72           -1.76      1584.22     1520.71     1358.63   \n",
       "std         209.62           77.61        83.06      367.22      512.76   \n",
       "min        1303.10         -120.40      1395.11      184.18      182.17   \n",
       "25%        1447.88          -50.23      1515.97     1378.53     1214.70   \n",
       "50%        1588.10          -24.15      1626.19     1483.94     1472.90   \n",
       "75%        1822.40           19.70      1645.19     1579.28     1539.01   \n",
       "max        2025.70          260.60      1668.11     2311.19     2957.65   \n",
       "\n",
       "       PWA Price  target  \n",
       "count      96.00     0.0  \n",
       "mean     1546.61     NaN  \n",
       "std        41.11     NaN  \n",
       "min      1458.82     NaN  \n",
       "25%      1502.39     NaN  \n",
       "50%      1554.20     NaN  \n",
       "75%      1584.21     NaN  \n",
       "max      1591.16     NaN  "
      ]
     },
     "execution_count": 10,
     "metadata": {},
     "output_type": "execute_result"
    }
   ],
   "source": [
    "test_df.describe().round(2)"
   ]
  },
  {
   "cell_type": "code",
   "execution_count": 11,
   "metadata": {},
   "outputs": [
    {
     "name": "stdout",
     "output_type": "stream",
     "text": [
      "Train Dataset time period:  315 days 23:00:00\n",
      "Test Dataset time period :  3 days 23:00:00\n"
     ]
    }
   ],
   "source": [
    "print('Train Dataset time period: ',train_df['Date'].max() - train_df['Date'].min())\n",
    "print('Test Dataset time period : ',test_df['Date'].max() - test_df['Date'].min())"
   ]
  },
  {
   "cell_type": "code",
   "execution_count": 12,
   "metadata": {},
   "outputs": [
    {
     "data": {
      "text/html": [
       "<div>\n",
       "<style scoped>\n",
       "    .dataframe tbody tr th:only-of-type {\n",
       "        vertical-align: middle;\n",
       "    }\n",
       "\n",
       "    .dataframe tbody tr th {\n",
       "        vertical-align: top;\n",
       "    }\n",
       "\n",
       "    .dataframe thead th {\n",
       "        text-align: right;\n",
       "    }\n",
       "</style>\n",
       "<table border=\"1\" class=\"dataframe\">\n",
       "  <thead>\n",
       "    <tr style=\"text-align: right;\">\n",
       "      <th></th>\n",
       "      <th>Date</th>\n",
       "      <th>Hour</th>\n",
       "      <th>Weekday</th>\n",
       "      <th>Is Working Day</th>\n",
       "      <th>Previous Hour Price</th>\n",
       "      <th>SDSH DAP</th>\n",
       "      <th>SDSH Volume</th>\n",
       "      <th>Sgn0 VolumeDir</th>\n",
       "      <th>P24HA Price</th>\n",
       "      <th>PDSH Price</th>\n",
       "      <th>PWSH Price</th>\n",
       "      <th>PWA Price</th>\n",
       "      <th>target</th>\n",
       "      <th>month</th>\n",
       "    </tr>\n",
       "  </thead>\n",
       "  <tbody>\n",
       "    <tr>\n",
       "      <th>0</th>\n",
       "      <td>2020-01-08 00:00:00</td>\n",
       "      <td>1</td>\n",
       "      <td>4</td>\n",
       "      <td>7</td>\n",
       "      <td>2400.41</td>\n",
       "      <td>2479.45</td>\n",
       "      <td>1383.7</td>\n",
       "      <td>-100.7</td>\n",
       "      <td>3654.911667</td>\n",
       "      <td>2473.00</td>\n",
       "      <td>1837.47</td>\n",
       "      <td>2296.059524</td>\n",
       "      <td>2475.68</td>\n",
       "      <td>1</td>\n",
       "    </tr>\n",
       "    <tr>\n",
       "      <th>1</th>\n",
       "      <td>2020-01-08 01:00:00</td>\n",
       "      <td>2</td>\n",
       "      <td>4</td>\n",
       "      <td>7</td>\n",
       "      <td>2475.68</td>\n",
       "      <td>2494.00</td>\n",
       "      <td>1339.3</td>\n",
       "      <td>-44.4</td>\n",
       "      <td>3655.023333</td>\n",
       "      <td>2459.38</td>\n",
       "      <td>1434.83</td>\n",
       "      <td>2299.858393</td>\n",
       "      <td>2484.40</td>\n",
       "      <td>1</td>\n",
       "    </tr>\n",
       "    <tr>\n",
       "      <th>2</th>\n",
       "      <td>2020-01-08 02:00:00</td>\n",
       "      <td>3</td>\n",
       "      <td>4</td>\n",
       "      <td>7</td>\n",
       "      <td>2484.40</td>\n",
       "      <td>2474.85</td>\n",
       "      <td>1309.4</td>\n",
       "      <td>-29.9</td>\n",
       "      <td>3656.065833</td>\n",
       "      <td>2370.61</td>\n",
       "      <td>1498.33</td>\n",
       "      <td>2306.105833</td>\n",
       "      <td>2486.89</td>\n",
       "      <td>1</td>\n",
       "    </tr>\n",
       "    <tr>\n",
       "      <th>3</th>\n",
       "      <td>2020-01-08 03:00:00</td>\n",
       "      <td>4</td>\n",
       "      <td>4</td>\n",
       "      <td>7</td>\n",
       "      <td>2486.89</td>\n",
       "      <td>2478.66</td>\n",
       "      <td>1294.7</td>\n",
       "      <td>-14.7</td>\n",
       "      <td>3660.910833</td>\n",
       "      <td>2021.43</td>\n",
       "      <td>1462.42</td>\n",
       "      <td>2311.990119</td>\n",
       "      <td>2533.42</td>\n",
       "      <td>1</td>\n",
       "    </tr>\n",
       "    <tr>\n",
       "      <th>4</th>\n",
       "      <td>2020-01-08 04:00:00</td>\n",
       "      <td>5</td>\n",
       "      <td>4</td>\n",
       "      <td>7</td>\n",
       "      <td>2533.42</td>\n",
       "      <td>2809.63</td>\n",
       "      <td>1361.4</td>\n",
       "      <td>66.7</td>\n",
       "      <td>3682.243750</td>\n",
       "      <td>2176.48</td>\n",
       "      <td>1455.85</td>\n",
       "      <td>2318.365119</td>\n",
       "      <td>2850.75</td>\n",
       "      <td>1</td>\n",
       "    </tr>\n",
       "  </tbody>\n",
       "</table>\n",
       "</div>"
      ],
      "text/plain": [
       "                 Date  Hour  Weekday  Is Working Day  Previous Hour Price  \\\n",
       "0 2020-01-08 00:00:00     1        4               7              2400.41   \n",
       "1 2020-01-08 01:00:00     2        4               7              2475.68   \n",
       "2 2020-01-08 02:00:00     3        4               7              2484.40   \n",
       "3 2020-01-08 03:00:00     4        4               7              2486.89   \n",
       "4 2020-01-08 04:00:00     5        4               7              2533.42   \n",
       "\n",
       "   SDSH DAP  SDSH Volume  Sgn0 VolumeDir  P24HA Price  PDSH Price  PWSH Price  \\\n",
       "0   2479.45       1383.7          -100.7  3654.911667     2473.00     1837.47   \n",
       "1   2494.00       1339.3           -44.4  3655.023333     2459.38     1434.83   \n",
       "2   2474.85       1309.4           -29.9  3656.065833     2370.61     1498.33   \n",
       "3   2478.66       1294.7           -14.7  3660.910833     2021.43     1462.42   \n",
       "4   2809.63       1361.4            66.7  3682.243750     2176.48     1455.85   \n",
       "\n",
       "     PWA Price   target  month  \n",
       "0  2296.059524  2475.68      1  \n",
       "1  2299.858393  2484.40      1  \n",
       "2  2306.105833  2486.89      1  \n",
       "3  2311.990119  2533.42      1  \n",
       "4  2318.365119  2850.75      1  "
      ]
     },
     "execution_count": 12,
     "metadata": {},
     "output_type": "execute_result"
    }
   ],
   "source": [
    "#let's break date to years, months\n",
    "train_df['month'] = train_df['Date'].apply(lambda date:date.month)\n",
    "train_df.head(5)"
   ]
  },
  {
   "cell_type": "code",
   "execution_count": 13,
   "metadata": {},
   "outputs": [
    {
     "data": {
      "text/html": [
       "<div>\n",
       "<style scoped>\n",
       "    .dataframe tbody tr th:only-of-type {\n",
       "        vertical-align: middle;\n",
       "    }\n",
       "\n",
       "    .dataframe tbody tr th {\n",
       "        vertical-align: top;\n",
       "    }\n",
       "\n",
       "    .dataframe thead th {\n",
       "        text-align: right;\n",
       "    }\n",
       "</style>\n",
       "<table border=\"1\" class=\"dataframe\">\n",
       "  <thead>\n",
       "    <tr style=\"text-align: right;\">\n",
       "      <th></th>\n",
       "      <th>Date</th>\n",
       "      <th>Hour</th>\n",
       "      <th>Weekday</th>\n",
       "      <th>Is Working Day</th>\n",
       "      <th>Previous Hour Price</th>\n",
       "      <th>SDSH DAP</th>\n",
       "      <th>SDSH Volume</th>\n",
       "      <th>Sgn0 VolumeDir</th>\n",
       "      <th>P24HA Price</th>\n",
       "      <th>PDSH Price</th>\n",
       "      <th>PWSH Price</th>\n",
       "      <th>PWA Price</th>\n",
       "      <th>target</th>\n",
       "      <th>month</th>\n",
       "    </tr>\n",
       "  </thead>\n",
       "  <tbody>\n",
       "    <tr>\n",
       "      <th>0</th>\n",
       "      <td>2020-11-19 00:00:00</td>\n",
       "      <td>1</td>\n",
       "      <td>5</td>\n",
       "      <td>5</td>\n",
       "      <td>1501.96</td>\n",
       "      <td>1501.70</td>\n",
       "      <td>1563.7</td>\n",
       "      <td>-50.6</td>\n",
       "      <td>1622.125000</td>\n",
       "      <td>1513.71</td>\n",
       "      <td>593.880</td>\n",
       "      <td>1458.818810</td>\n",
       "      <td>NaN</td>\n",
       "      <td>11</td>\n",
       "    </tr>\n",
       "    <tr>\n",
       "      <th>1</th>\n",
       "      <td>2020-11-19 01:00:00</td>\n",
       "      <td>2</td>\n",
       "      <td>5</td>\n",
       "      <td>5</td>\n",
       "      <td>1475.95</td>\n",
       "      <td>1508.89</td>\n",
       "      <td>1522.3</td>\n",
       "      <td>-41.4</td>\n",
       "      <td>1620.551667</td>\n",
       "      <td>1487.63</td>\n",
       "      <td>1004.500</td>\n",
       "      <td>1464.069226</td>\n",
       "      <td>NaN</td>\n",
       "      <td>11</td>\n",
       "    </tr>\n",
       "    <tr>\n",
       "      <th>2</th>\n",
       "      <td>2020-11-19 02:00:00</td>\n",
       "      <td>3</td>\n",
       "      <td>5</td>\n",
       "      <td>5</td>\n",
       "      <td>1479.86</td>\n",
       "      <td>1379.23</td>\n",
       "      <td>1468.5</td>\n",
       "      <td>-53.8</td>\n",
       "      <td>1620.227917</td>\n",
       "      <td>1368.59</td>\n",
       "      <td>1025.598</td>\n",
       "      <td>1466.898750</td>\n",
       "      <td>NaN</td>\n",
       "      <td>11</td>\n",
       "    </tr>\n",
       "    <tr>\n",
       "      <th>3</th>\n",
       "      <td>2020-11-19 03:00:00</td>\n",
       "      <td>4</td>\n",
       "      <td>5</td>\n",
       "      <td>5</td>\n",
       "      <td>1484.50</td>\n",
       "      <td>1335.80</td>\n",
       "      <td>1443.3</td>\n",
       "      <td>-25.2</td>\n",
       "      <td>1625.057500</td>\n",
       "      <td>1321.87</td>\n",
       "      <td>1046.696</td>\n",
       "      <td>1469.630310</td>\n",
       "      <td>NaN</td>\n",
       "      <td>11</td>\n",
       "    </tr>\n",
       "    <tr>\n",
       "      <th>4</th>\n",
       "      <td>2020-11-19 04:00:00</td>\n",
       "      <td>5</td>\n",
       "      <td>5</td>\n",
       "      <td>5</td>\n",
       "      <td>1318.03</td>\n",
       "      <td>1329.68</td>\n",
       "      <td>1445.1</td>\n",
       "      <td>1.8</td>\n",
       "      <td>1624.897500</td>\n",
       "      <td>1317.43</td>\n",
       "      <td>1067.794</td>\n",
       "      <td>1471.245393</td>\n",
       "      <td>NaN</td>\n",
       "      <td>11</td>\n",
       "    </tr>\n",
       "  </tbody>\n",
       "</table>\n",
       "</div>"
      ],
      "text/plain": [
       "                 Date  Hour  Weekday  Is Working Day  Previous Hour Price  \\\n",
       "0 2020-11-19 00:00:00     1        5               5              1501.96   \n",
       "1 2020-11-19 01:00:00     2        5               5              1475.95   \n",
       "2 2020-11-19 02:00:00     3        5               5              1479.86   \n",
       "3 2020-11-19 03:00:00     4        5               5              1484.50   \n",
       "4 2020-11-19 04:00:00     5        5               5              1318.03   \n",
       "\n",
       "   SDSH DAP  SDSH Volume  Sgn0 VolumeDir  P24HA Price  PDSH Price  PWSH Price  \\\n",
       "0   1501.70       1563.7           -50.6  1622.125000     1513.71     593.880   \n",
       "1   1508.89       1522.3           -41.4  1620.551667     1487.63    1004.500   \n",
       "2   1379.23       1468.5           -53.8  1620.227917     1368.59    1025.598   \n",
       "3   1335.80       1443.3           -25.2  1625.057500     1321.87    1046.696   \n",
       "4   1329.68       1445.1             1.8  1624.897500     1317.43    1067.794   \n",
       "\n",
       "     PWA Price  target  month  \n",
       "0  1458.818810     NaN     11  \n",
       "1  1464.069226     NaN     11  \n",
       "2  1466.898750     NaN     11  \n",
       "3  1469.630310     NaN     11  \n",
       "4  1471.245393     NaN     11  "
      ]
     },
     "execution_count": 13,
     "metadata": {},
     "output_type": "execute_result"
    }
   ],
   "source": [
    "#let's break date to years, months\n",
    "test_df['month'] = test_df['Date'].apply(lambda date:date.month)\n",
    "test_df.head(5)"
   ]
  },
  {
   "cell_type": "markdown",
   "metadata": {},
   "source": [
    "### Baseline Model — Multi-Linear Regression (MLR)"
   ]
  },
  {
   "cell_type": "code",
   "execution_count": 14,
   "metadata": {},
   "outputs": [
    {
     "data": {
      "text/html": [
       "<div>\n",
       "<style scoped>\n",
       "    .dataframe tbody tr th:only-of-type {\n",
       "        vertical-align: middle;\n",
       "    }\n",
       "\n",
       "    .dataframe tbody tr th {\n",
       "        vertical-align: top;\n",
       "    }\n",
       "\n",
       "    .dataframe thead th {\n",
       "        text-align: right;\n",
       "    }\n",
       "</style>\n",
       "<table border=\"1\" class=\"dataframe\">\n",
       "  <thead>\n",
       "    <tr style=\"text-align: right;\">\n",
       "      <th></th>\n",
       "      <th>Date</th>\n",
       "      <th>Hour</th>\n",
       "      <th>Weekday</th>\n",
       "      <th>Is Working Day</th>\n",
       "      <th>Previous Hour Price</th>\n",
       "      <th>SDSH DAP</th>\n",
       "      <th>SDSH Volume</th>\n",
       "      <th>Sgn0 VolumeDir</th>\n",
       "      <th>P24HA Price</th>\n",
       "      <th>PDSH Price</th>\n",
       "      <th>PWSH Price</th>\n",
       "      <th>PWA Price</th>\n",
       "      <th>target</th>\n",
       "      <th>month</th>\n",
       "    </tr>\n",
       "  </thead>\n",
       "  <tbody>\n",
       "    <tr>\n",
       "      <th>0</th>\n",
       "      <td>2020-01-08 00:00:00</td>\n",
       "      <td>1</td>\n",
       "      <td>4</td>\n",
       "      <td>7</td>\n",
       "      <td>2400.41</td>\n",
       "      <td>2479.45</td>\n",
       "      <td>1383.7</td>\n",
       "      <td>-100.7</td>\n",
       "      <td>3654.911667</td>\n",
       "      <td>2473.00</td>\n",
       "      <td>1837.47</td>\n",
       "      <td>2296.059524</td>\n",
       "      <td>2475.68</td>\n",
       "      <td>1</td>\n",
       "    </tr>\n",
       "    <tr>\n",
       "      <th>1</th>\n",
       "      <td>2020-01-08 01:00:00</td>\n",
       "      <td>2</td>\n",
       "      <td>4</td>\n",
       "      <td>7</td>\n",
       "      <td>2475.68</td>\n",
       "      <td>2494.00</td>\n",
       "      <td>1339.3</td>\n",
       "      <td>-44.4</td>\n",
       "      <td>3655.023333</td>\n",
       "      <td>2459.38</td>\n",
       "      <td>1434.83</td>\n",
       "      <td>2299.858393</td>\n",
       "      <td>2484.40</td>\n",
       "      <td>1</td>\n",
       "    </tr>\n",
       "    <tr>\n",
       "      <th>2</th>\n",
       "      <td>2020-01-08 02:00:00</td>\n",
       "      <td>3</td>\n",
       "      <td>4</td>\n",
       "      <td>7</td>\n",
       "      <td>2484.40</td>\n",
       "      <td>2474.85</td>\n",
       "      <td>1309.4</td>\n",
       "      <td>-29.9</td>\n",
       "      <td>3656.065833</td>\n",
       "      <td>2370.61</td>\n",
       "      <td>1498.33</td>\n",
       "      <td>2306.105833</td>\n",
       "      <td>2486.89</td>\n",
       "      <td>1</td>\n",
       "    </tr>\n",
       "    <tr>\n",
       "      <th>3</th>\n",
       "      <td>2020-01-08 03:00:00</td>\n",
       "      <td>4</td>\n",
       "      <td>4</td>\n",
       "      <td>7</td>\n",
       "      <td>2486.89</td>\n",
       "      <td>2478.66</td>\n",
       "      <td>1294.7</td>\n",
       "      <td>-14.7</td>\n",
       "      <td>3660.910833</td>\n",
       "      <td>2021.43</td>\n",
       "      <td>1462.42</td>\n",
       "      <td>2311.990119</td>\n",
       "      <td>2533.42</td>\n",
       "      <td>1</td>\n",
       "    </tr>\n",
       "    <tr>\n",
       "      <th>4</th>\n",
       "      <td>2020-01-08 04:00:00</td>\n",
       "      <td>5</td>\n",
       "      <td>4</td>\n",
       "      <td>7</td>\n",
       "      <td>2533.42</td>\n",
       "      <td>2809.63</td>\n",
       "      <td>1361.4</td>\n",
       "      <td>66.7</td>\n",
       "      <td>3682.243750</td>\n",
       "      <td>2176.48</td>\n",
       "      <td>1455.85</td>\n",
       "      <td>2318.365119</td>\n",
       "      <td>2850.75</td>\n",
       "      <td>1</td>\n",
       "    </tr>\n",
       "  </tbody>\n",
       "</table>\n",
       "</div>"
      ],
      "text/plain": [
       "                 Date  Hour  Weekday  Is Working Day  Previous Hour Price  \\\n",
       "0 2020-01-08 00:00:00     1        4               7              2400.41   \n",
       "1 2020-01-08 01:00:00     2        4               7              2475.68   \n",
       "2 2020-01-08 02:00:00     3        4               7              2484.40   \n",
       "3 2020-01-08 03:00:00     4        4               7              2486.89   \n",
       "4 2020-01-08 04:00:00     5        4               7              2533.42   \n",
       "\n",
       "   SDSH DAP  SDSH Volume  Sgn0 VolumeDir  P24HA Price  PDSH Price  PWSH Price  \\\n",
       "0   2479.45       1383.7          -100.7  3654.911667     2473.00     1837.47   \n",
       "1   2494.00       1339.3           -44.4  3655.023333     2459.38     1434.83   \n",
       "2   2474.85       1309.4           -29.9  3656.065833     2370.61     1498.33   \n",
       "3   2478.66       1294.7           -14.7  3660.910833     2021.43     1462.42   \n",
       "4   2809.63       1361.4            66.7  3682.243750     2176.48     1455.85   \n",
       "\n",
       "     PWA Price   target  month  \n",
       "0  2296.059524  2475.68      1  \n",
       "1  2299.858393  2484.40      1  \n",
       "2  2306.105833  2486.89      1  \n",
       "3  2311.990119  2533.42      1  \n",
       "4  2318.365119  2850.75      1  "
      ]
     },
     "execution_count": 14,
     "metadata": {},
     "output_type": "execute_result"
    }
   ],
   "source": [
    "# Generate dummy columns (while dropping first dummy col (drop_first = True) to prevent collinearity in MLR)\n",
    "train_df_lr = train_df.copy()\n",
    "train_df_lr.head()"
   ]
  },
  {
   "cell_type": "code",
   "execution_count": 15,
   "metadata": {},
   "outputs": [
    {
     "data": {
      "text/html": [
       "<div>\n",
       "<style scoped>\n",
       "    .dataframe tbody tr th:only-of-type {\n",
       "        vertical-align: middle;\n",
       "    }\n",
       "\n",
       "    .dataframe tbody tr th {\n",
       "        vertical-align: top;\n",
       "    }\n",
       "\n",
       "    .dataframe thead th {\n",
       "        text-align: right;\n",
       "    }\n",
       "</style>\n",
       "<table border=\"1\" class=\"dataframe\">\n",
       "  <thead>\n",
       "    <tr style=\"text-align: right;\">\n",
       "      <th></th>\n",
       "      <th>Hour</th>\n",
       "      <th>Weekday</th>\n",
       "      <th>Is Working Day</th>\n",
       "      <th>Previous Hour Price</th>\n",
       "      <th>SDSH DAP</th>\n",
       "      <th>SDSH Volume</th>\n",
       "      <th>Sgn0 VolumeDir</th>\n",
       "      <th>P24HA Price</th>\n",
       "      <th>PDSH Price</th>\n",
       "      <th>PWSH Price</th>\n",
       "      <th>PWA Price</th>\n",
       "      <th>target</th>\n",
       "      <th>month</th>\n",
       "    </tr>\n",
       "  </thead>\n",
       "  <tbody>\n",
       "    <tr>\n",
       "      <th>0</th>\n",
       "      <td>1</td>\n",
       "      <td>4</td>\n",
       "      <td>7</td>\n",
       "      <td>2400.41</td>\n",
       "      <td>2479.45</td>\n",
       "      <td>1383.7</td>\n",
       "      <td>-100.7</td>\n",
       "      <td>3654.911667</td>\n",
       "      <td>2473.00</td>\n",
       "      <td>1837.47</td>\n",
       "      <td>2296.059524</td>\n",
       "      <td>2475.68</td>\n",
       "      <td>1</td>\n",
       "    </tr>\n",
       "    <tr>\n",
       "      <th>1</th>\n",
       "      <td>2</td>\n",
       "      <td>4</td>\n",
       "      <td>7</td>\n",
       "      <td>2475.68</td>\n",
       "      <td>2494.00</td>\n",
       "      <td>1339.3</td>\n",
       "      <td>-44.4</td>\n",
       "      <td>3655.023333</td>\n",
       "      <td>2459.38</td>\n",
       "      <td>1434.83</td>\n",
       "      <td>2299.858393</td>\n",
       "      <td>2484.40</td>\n",
       "      <td>1</td>\n",
       "    </tr>\n",
       "  </tbody>\n",
       "</table>\n",
       "</div>"
      ],
      "text/plain": [
       "   Hour  Weekday  Is Working Day  Previous Hour Price  SDSH DAP  SDSH Volume  \\\n",
       "0     1        4               7              2400.41   2479.45       1383.7   \n",
       "1     2        4               7              2475.68   2494.00       1339.3   \n",
       "\n",
       "   Sgn0 VolumeDir  P24HA Price  PDSH Price  PWSH Price    PWA Price   target  \\\n",
       "0          -100.7  3654.911667     2473.00     1837.47  2296.059524  2475.68   \n",
       "1           -44.4  3655.023333     2459.38     1434.83  2299.858393  2484.40   \n",
       "\n",
       "   month  \n",
       "0      1  \n",
       "1      1  "
      ]
     },
     "execution_count": 15,
     "metadata": {},
     "output_type": "execute_result"
    }
   ],
   "source": [
    "train_df_lr.drop({'Date'} ,axis = 1,  inplace = True)\n",
    "train_df_lr.head(2)"
   ]
  },
  {
   "cell_type": "code",
   "execution_count": 16,
   "metadata": {},
   "outputs": [],
   "source": [
    "# Separate dependent(target) variable and independent variables\n",
    "X = train_df_lr.drop(['target'], axis = 1)\n",
    "y = train_df_lr['target']"
   ]
  },
  {
   "cell_type": "code",
   "execution_count": 17,
   "metadata": {},
   "outputs": [],
   "source": [
    "from sklearn.model_selection import train_test_split\n",
    "\n",
    "# Perform train test split\n",
    "X_train, X_val, y_train, y_val = train_test_split(X, y, test_size = 0.2)"
   ]
  },
  {
   "cell_type": "code",
   "execution_count": 18,
   "metadata": {},
   "outputs": [],
   "source": [
    "# Carry out standardization on numerical columns\n",
    "\n",
    "from sklearn.preprocessing import StandardScaler\n",
    "\n",
    "numerical_cols = ['Hour', 'Weekday' ,'Is Working Day' ,'Previous Hour Price','SDSH DAP','SDSH Volume', 'Sgn0 VolumeDir' ,\n",
    "                  'P24HA Price' , 'PDSH Price' , 'PWSH Price' , 'PWA Price','month']\n",
    "\n",
    "scaler = StandardScaler() \n",
    "\n",
    "\n",
    "X_train[numerical_cols] = scaler.fit_transform(X_train[numerical_cols])\n",
    "X_val[numerical_cols] = scaler.fit_transform(X_val[numerical_cols])"
   ]
  },
  {
   "cell_type": "code",
   "execution_count": 19,
   "metadata": {},
   "outputs": [
    {
     "data": {
      "text/html": [
       "<div>\n",
       "<style scoped>\n",
       "    .dataframe tbody tr th:only-of-type {\n",
       "        vertical-align: middle;\n",
       "    }\n",
       "\n",
       "    .dataframe tbody tr th {\n",
       "        vertical-align: top;\n",
       "    }\n",
       "\n",
       "    .dataframe thead th {\n",
       "        text-align: right;\n",
       "    }\n",
       "</style>\n",
       "<table border=\"1\" class=\"dataframe\">\n",
       "  <thead>\n",
       "    <tr style=\"text-align: right;\">\n",
       "      <th></th>\n",
       "      <th>Hour</th>\n",
       "      <th>Weekday</th>\n",
       "      <th>Is Working Day</th>\n",
       "      <th>Previous Hour Price</th>\n",
       "      <th>SDSH DAP</th>\n",
       "      <th>SDSH Volume</th>\n",
       "      <th>Sgn0 VolumeDir</th>\n",
       "      <th>P24HA Price</th>\n",
       "      <th>PDSH Price</th>\n",
       "      <th>PWSH Price</th>\n",
       "      <th>PWA Price</th>\n",
       "      <th>month</th>\n",
       "    </tr>\n",
       "  </thead>\n",
       "  <tbody>\n",
       "    <tr>\n",
       "      <th>6318</th>\n",
       "      <td>-0.791742</td>\n",
       "      <td>-1.521534</td>\n",
       "      <td>-0.401978</td>\n",
       "      <td>-0.581625</td>\n",
       "      <td>-0.596225</td>\n",
       "      <td>-1.629876</td>\n",
       "      <td>-0.279126</td>\n",
       "      <td>-0.441564</td>\n",
       "      <td>-0.724742</td>\n",
       "      <td>-0.722963</td>\n",
       "      <td>-0.123980</td>\n",
       "      <td>1.020213</td>\n",
       "    </tr>\n",
       "    <tr>\n",
       "      <th>7255</th>\n",
       "      <td>-0.646792</td>\n",
       "      <td>0.489938</td>\n",
       "      <td>0.312794</td>\n",
       "      <td>-0.726712</td>\n",
       "      <td>-0.475049</td>\n",
       "      <td>-0.577834</td>\n",
       "      <td>1.387219</td>\n",
       "      <td>-0.755956</td>\n",
       "      <td>-0.487475</td>\n",
       "      <td>-0.077200</td>\n",
       "      <td>-0.885346</td>\n",
       "      <td>1.686303</td>\n",
       "    </tr>\n",
       "  </tbody>\n",
       "</table>\n",
       "</div>"
      ],
      "text/plain": [
       "          Hour   Weekday  Is Working Day  Previous Hour Price  SDSH DAP  \\\n",
       "6318 -0.791742 -1.521534       -0.401978            -0.581625 -0.596225   \n",
       "7255 -0.646792  0.489938        0.312794            -0.726712 -0.475049   \n",
       "\n",
       "      SDSH Volume  Sgn0 VolumeDir  P24HA Price  PDSH Price  PWSH Price  \\\n",
       "6318    -1.629876       -0.279126    -0.441564   -0.724742   -0.722963   \n",
       "7255    -0.577834        1.387219    -0.755956   -0.487475   -0.077200   \n",
       "\n",
       "      PWA Price     month  \n",
       "6318  -0.123980  1.020213  \n",
       "7255  -0.885346  1.686303  "
      ]
     },
     "execution_count": 19,
     "metadata": {},
     "output_type": "execute_result"
    }
   ],
   "source": [
    "X_train.head(2)"
   ]
  },
  {
   "cell_type": "code",
   "execution_count": 20,
   "metadata": {},
   "outputs": [
    {
     "data": {
      "text/plain": [
       "LinearRegression()"
      ]
     },
     "execution_count": 20,
     "metadata": {},
     "output_type": "execute_result"
    }
   ],
   "source": [
    "from sklearn.linear_model import LinearRegression\n",
    "\n",
    "# Instantiate a Linear Regression model\n",
    "linear_reg = LinearRegression()\n",
    "linear_reg.fit(X_train, y_train)"
   ]
  },
  {
   "cell_type": "code",
   "execution_count": 21,
   "metadata": {},
   "outputs": [
    {
     "data": {
      "text/plain": [
       "array([2117.99272226, 1681.34633959, 1562.49239156, ..., 2484.29260565,\n",
       "       2075.98175647, 8146.11764099])"
      ]
     },
     "execution_count": 21,
     "metadata": {},
     "output_type": "execute_result"
    }
   ],
   "source": [
    "y_pred_val = linear_reg.predict(X_val)\n",
    "y_pred_val"
   ]
  },
  {
   "cell_type": "code",
   "execution_count": 22,
   "metadata": {},
   "outputs": [
    {
     "data": {
      "text/html": [
       "<div>\n",
       "<style scoped>\n",
       "    .dataframe tbody tr th:only-of-type {\n",
       "        vertical-align: middle;\n",
       "    }\n",
       "\n",
       "    .dataframe tbody tr th {\n",
       "        vertical-align: top;\n",
       "    }\n",
       "\n",
       "    .dataframe thead th {\n",
       "        text-align: right;\n",
       "    }\n",
       "</style>\n",
       "<table border=\"1\" class=\"dataframe\">\n",
       "  <thead>\n",
       "    <tr style=\"text-align: right;\">\n",
       "      <th></th>\n",
       "      <th>Actual</th>\n",
       "      <th>Prediction</th>\n",
       "    </tr>\n",
       "  </thead>\n",
       "  <tbody>\n",
       "    <tr>\n",
       "      <th>0</th>\n",
       "      <td>2041.18</td>\n",
       "      <td>2117.992722</td>\n",
       "    </tr>\n",
       "    <tr>\n",
       "      <th>1</th>\n",
       "      <td>1475.46</td>\n",
       "      <td>1681.346340</td>\n",
       "    </tr>\n",
       "    <tr>\n",
       "      <th>2</th>\n",
       "      <td>1579.12</td>\n",
       "      <td>1562.492392</td>\n",
       "    </tr>\n",
       "    <tr>\n",
       "      <th>3</th>\n",
       "      <td>1552.67</td>\n",
       "      <td>1510.391689</td>\n",
       "    </tr>\n",
       "    <tr>\n",
       "      <th>4</th>\n",
       "      <td>1721.17</td>\n",
       "      <td>1702.394862</td>\n",
       "    </tr>\n",
       "    <tr>\n",
       "      <th>...</th>\n",
       "      <td>...</td>\n",
       "      <td>...</td>\n",
       "    </tr>\n",
       "    <tr>\n",
       "      <th>1512</th>\n",
       "      <td>2441.90</td>\n",
       "      <td>2186.068588</td>\n",
       "    </tr>\n",
       "    <tr>\n",
       "      <th>1513</th>\n",
       "      <td>1685.98</td>\n",
       "      <td>1605.145522</td>\n",
       "    </tr>\n",
       "    <tr>\n",
       "      <th>1514</th>\n",
       "      <td>2535.42</td>\n",
       "      <td>2484.292606</td>\n",
       "    </tr>\n",
       "    <tr>\n",
       "      <th>1515</th>\n",
       "      <td>2100.73</td>\n",
       "      <td>2075.981756</td>\n",
       "    </tr>\n",
       "    <tr>\n",
       "      <th>1516</th>\n",
       "      <td>9263.34</td>\n",
       "      <td>8146.117641</td>\n",
       "    </tr>\n",
       "  </tbody>\n",
       "</table>\n",
       "<p>1517 rows × 2 columns</p>\n",
       "</div>"
      ],
      "text/plain": [
       "       Actual   Prediction\n",
       "0     2041.18  2117.992722\n",
       "1     1475.46  1681.346340\n",
       "2     1579.12  1562.492392\n",
       "3     1552.67  1510.391689\n",
       "4     1721.17  1702.394862\n",
       "...       ...          ...\n",
       "1512  2441.90  2186.068588\n",
       "1513  1685.98  1605.145522\n",
       "1514  2535.42  2484.292606\n",
       "1515  2100.73  2075.981756\n",
       "1516  9263.34  8146.117641\n",
       "\n",
       "[1517 rows x 2 columns]"
      ]
     },
     "execution_count": 22,
     "metadata": {},
     "output_type": "execute_result"
    }
   ],
   "source": [
    "result_df = pd.DataFrame({'Actual':np.array(y_val), 'Prediction':y_pred_val})\n",
    "result_df"
   ]
  },
  {
   "cell_type": "code",
   "execution_count": 23,
   "metadata": {},
   "outputs": [
    {
     "data": {
      "image/png": "[encoded data removed]",
      "text/plain": [
       "<Figure size 432x288 with 1 Axes>"
      ]
     },
     "metadata": {
      "needs_background": "light"
     },
     "output_type": "display_data"
    }
   ],
   "source": [
    "# Visualizing actual prices vs predicted values\n",
    "plt.scatter(y_val, y_pred_val)\n",
    "plt.xlabel(\"Actual Price\")\n",
    "plt.ylabel(\"Predicted Price\")\n",
    "plt.title(\"Actual Rental Price vs Predicted Rental Price\")\n",
    "plt.show()"
   ]
  },
  {
   "cell_type": "markdown",
   "metadata": {},
   "source": [
    "## Performing checks for multi-linear regression assumptions"
   ]
  },
  {
   "cell_type": "markdown",
   "metadata": {},
   "source": [
    "1) Equal Error Variance (Homoscedasticity)"
   ]
  },
  {
   "cell_type": "code",
   "execution_count": 24,
   "metadata": {},
   "outputs": [
    {
     "data": {
      "image/png": "[encoded data removed]",
      "text/plain": [
       "<Figure size 432x288 with 1 Axes>"
      ]
     },
     "metadata": {
      "needs_background": "light"
     },
     "output_type": "display_data"
    }
   ],
   "source": [
    "# Residual vs fit plot\n",
    "plt.scatter(y_pred_val, y_val - y_pred_val)\n",
    "plt.title(\"Residual vs Fit Plot\")\n",
    "plt.xlabel(\"Predicted\")\n",
    "plt.ylabel(\"Residuals\")\n",
    "plt.show()"
   ]
  },
  {
   "cell_type": "markdown",
   "metadata": {},
   "source": [
    "Homoscedasticity check shows some type of curvilinear pattern in the residual vs fit plot"
   ]
  },
  {
   "cell_type": "markdown",
   "metadata": {},
   "source": [
    "2) Normal Error (Multivariate Normality)"
   ]
  },
  {
   "cell_type": "code",
   "execution_count": 25,
   "metadata": {},
   "outputs": [
    {
     "data": {
      "image/png": "[encoded data removed]",
      "text/plain": [
       "<Figure size 432x288 with 1 Axes>"
      ]
     },
     "metadata": {
      "needs_background": "light"
     },
     "output_type": "display_data"
    }
   ],
   "source": [
    "# Normality of residuals\n",
    "sns.distplot(y_val-y_pred_val)\n",
    "plt.title(\"Normality of Residuals\")\n",
    "plt.xlabel(\"Residuals\")\n",
    "plt.ylabel(\"Frequency\")\n",
    "plt.show()"
   ]
  },
  {
   "cell_type": "markdown",
   "metadata": {},
   "source": [
    "The residuals are normally distributed, thus the normality assumption is satisfied"
   ]
  },
  {
   "cell_type": "markdown",
   "metadata": {},
   "source": [
    "3) Multi-Collinearity"
   ]
  },
  {
   "cell_type": "code",
   "execution_count": 26,
   "metadata": {},
   "outputs": [],
   "source": [
    "from statsmodels.stats.outliers_influence import variance_inflation_factor\n",
    "# Use variance inflation factor to identify any significant multi-collinearity\n",
    "def calc_vif(X):\n",
    "    vif = pd.DataFrame()\n",
    "    vif[\"variables\"] = X.columns\n",
    "    vif[\"VIF\"] = [variance_inflation_factor(X.values, i) for i in range(X.shape[1])]\n",
    "    return(vif)"
   ]
  },
  {
   "cell_type": "code",
   "execution_count": 27,
   "metadata": {},
   "outputs": [
    {
     "data": {
      "text/html": [
       "<div>\n",
       "<style scoped>\n",
       "    .dataframe tbody tr th:only-of-type {\n",
       "        vertical-align: middle;\n",
       "    }\n",
       "\n",
       "    .dataframe tbody tr th {\n",
       "        vertical-align: top;\n",
       "    }\n",
       "\n",
       "    .dataframe thead th {\n",
       "        text-align: right;\n",
       "    }\n",
       "</style>\n",
       "<table border=\"1\" class=\"dataframe\">\n",
       "  <thead>\n",
       "    <tr style=\"text-align: right;\">\n",
       "      <th></th>\n",
       "      <th>variables</th>\n",
       "      <th>VIF</th>\n",
       "    </tr>\n",
       "  </thead>\n",
       "  <tbody>\n",
       "    <tr>\n",
       "      <th>0</th>\n",
       "      <td>Hour</td>\n",
       "      <td>1.650085</td>\n",
       "    </tr>\n",
       "    <tr>\n",
       "      <th>1</th>\n",
       "      <td>Weekday</td>\n",
       "      <td>1.262057</td>\n",
       "    </tr>\n",
       "    <tr>\n",
       "      <th>2</th>\n",
       "      <td>Is Working Day</td>\n",
       "      <td>1.279491</td>\n",
       "    </tr>\n",
       "    <tr>\n",
       "      <th>3</th>\n",
       "      <td>Previous Hour Price</td>\n",
       "      <td>3.414653</td>\n",
       "    </tr>\n",
       "    <tr>\n",
       "      <th>4</th>\n",
       "      <td>SDSH DAP</td>\n",
       "      <td>3.014194</td>\n",
       "    </tr>\n",
       "    <tr>\n",
       "      <th>5</th>\n",
       "      <td>SDSH Volume</td>\n",
       "      <td>2.287269</td>\n",
       "    </tr>\n",
       "    <tr>\n",
       "      <th>6</th>\n",
       "      <td>Sgn0 VolumeDir</td>\n",
       "      <td>1.331840</td>\n",
       "    </tr>\n",
       "    <tr>\n",
       "      <th>7</th>\n",
       "      <td>P24HA Price</td>\n",
       "      <td>3.115340</td>\n",
       "    </tr>\n",
       "    <tr>\n",
       "      <th>8</th>\n",
       "      <td>PDSH Price</td>\n",
       "      <td>2.013569</td>\n",
       "    </tr>\n",
       "    <tr>\n",
       "      <th>9</th>\n",
       "      <td>PWSH Price</td>\n",
       "      <td>1.707085</td>\n",
       "    </tr>\n",
       "    <tr>\n",
       "      <th>10</th>\n",
       "      <td>PWA Price</td>\n",
       "      <td>2.487402</td>\n",
       "    </tr>\n",
       "    <tr>\n",
       "      <th>11</th>\n",
       "      <td>month</td>\n",
       "      <td>1.170671</td>\n",
       "    </tr>\n",
       "  </tbody>\n",
       "</table>\n",
       "</div>"
      ],
      "text/plain": [
       "              variables       VIF\n",
       "0                  Hour  1.650085\n",
       "1               Weekday  1.262057\n",
       "2        Is Working Day  1.279491\n",
       "3   Previous Hour Price  3.414653\n",
       "4              SDSH DAP  3.014194\n",
       "5           SDSH Volume  2.287269\n",
       "6        Sgn0 VolumeDir  1.331840\n",
       "7           P24HA Price  3.115340\n",
       "8            PDSH Price  2.013569\n",
       "9            PWSH Price  1.707085\n",
       "10            PWA Price  2.487402\n",
       "11                month  1.170671"
      ]
     },
     "execution_count": 27,
     "metadata": {},
     "output_type": "execute_result"
    }
   ],
   "source": [
    "calc_vif(X_train)"
   ]
  },
  {
   "cell_type": "markdown",
   "metadata": {},
   "source": [
    "VIF values all below 10, so we pass this check."
   ]
  },
  {
   "cell_type": "markdown",
   "metadata": {},
   "source": [
    "4) Linearity"
   ]
  },
  {
   "cell_type": "code",
   "execution_count": 28,
   "metadata": {},
   "outputs": [],
   "source": [
    "cols = X.columns"
   ]
  },
  {
   "cell_type": "code",
   "execution_count": 29,
   "metadata": {},
   "outputs": [
    {
     "data": {
      "image/png": "[encoded data removed]",
      "text/plain": [
       "<Figure size 1080x720 with 12 Axes>"
      ]
     },
     "metadata": {
      "needs_background": "light"
     },
     "output_type": "display_data"
    }
   ],
   "source": [
    "X_plot = X.loc[:,cols]\n",
    "fig, axs = plt.subplots(ncols=3, nrows=4, figsize=(15, 10))\n",
    "\n",
    "axs = axs.flatten()\n",
    "for i, k in enumerate(numerical_cols):\n",
    "    sns.regplot(y=y, x=X_plot[k], ax=axs[i], scatter_kws={\"color\": \"blue\"}, line_kws={\"color\": \"red\"})\n",
    "plt.tight_layout(pad=0.4, w_pad=0.5, h_pad=5.0)"
   ]
  },
  {
   "cell_type": "code",
   "execution_count": 30,
   "metadata": {},
   "outputs": [
    {
     "data": {
      "text/html": [
       "<div>\n",
       "<style scoped>\n",
       "    .dataframe tbody tr th:only-of-type {\n",
       "        vertical-align: middle;\n",
       "    }\n",
       "\n",
       "    .dataframe tbody tr th {\n",
       "        vertical-align: top;\n",
       "    }\n",
       "\n",
       "    .dataframe thead th {\n",
       "        text-align: right;\n",
       "    }\n",
       "</style>\n",
       "<table border=\"1\" class=\"dataframe\">\n",
       "  <thead>\n",
       "    <tr style=\"text-align: right;\">\n",
       "      <th></th>\n",
       "      <th>Feature</th>\n",
       "      <th>Importance Score</th>\n",
       "    </tr>\n",
       "  </thead>\n",
       "  <tbody>\n",
       "    <tr>\n",
       "      <th>4</th>\n",
       "      <td>SDSH DAP</td>\n",
       "      <td>811.047</td>\n",
       "    </tr>\n",
       "    <tr>\n",
       "      <th>3</th>\n",
       "      <td>Previous Hour Price</td>\n",
       "      <td>617.702</td>\n",
       "    </tr>\n",
       "    <tr>\n",
       "      <th>6</th>\n",
       "      <td>Sgn0 VolumeDir</td>\n",
       "      <td>110.948</td>\n",
       "    </tr>\n",
       "    <tr>\n",
       "      <th>7</th>\n",
       "      <td>P24HA Price</td>\n",
       "      <td>81.3785</td>\n",
       "    </tr>\n",
       "    <tr>\n",
       "      <th>8</th>\n",
       "      <td>PDSH Price</td>\n",
       "      <td>79.7053</td>\n",
       "    </tr>\n",
       "    <tr>\n",
       "      <th>5</th>\n",
       "      <td>SDSH Volume</td>\n",
       "      <td>49.1757</td>\n",
       "    </tr>\n",
       "    <tr>\n",
       "      <th>9</th>\n",
       "      <td>PWSH Price</td>\n",
       "      <td>7.23487</td>\n",
       "    </tr>\n",
       "    <tr>\n",
       "      <th>11</th>\n",
       "      <td>month</td>\n",
       "      <td>-0.318515</td>\n",
       "    </tr>\n",
       "    <tr>\n",
       "      <th>0</th>\n",
       "      <td>Hour</td>\n",
       "      <td>-7.70042</td>\n",
       "    </tr>\n",
       "    <tr>\n",
       "      <th>1</th>\n",
       "      <td>Weekday</td>\n",
       "      <td>-11.2856</td>\n",
       "    </tr>\n",
       "    <tr>\n",
       "      <th>2</th>\n",
       "      <td>Is Working Day</td>\n",
       "      <td>-16.7439</td>\n",
       "    </tr>\n",
       "    <tr>\n",
       "      <th>10</th>\n",
       "      <td>PWA Price</td>\n",
       "      <td>-20.0248</td>\n",
       "    </tr>\n",
       "  </tbody>\n",
       "</table>\n",
       "</div>"
      ],
      "text/plain": [
       "                Feature Importance Score\n",
       "4              SDSH DAP          811.047\n",
       "3   Previous Hour Price          617.702\n",
       "6        Sgn0 VolumeDir          110.948\n",
       "7           P24HA Price          81.3785\n",
       "8            PDSH Price          79.7053\n",
       "5           SDSH Volume          49.1757\n",
       "9            PWSH Price          7.23487\n",
       "11                month        -0.318515\n",
       "0                  Hour         -7.70042\n",
       "1               Weekday         -11.2856\n",
       "2        Is Working Day         -16.7439\n",
       "10            PWA Price         -20.0248"
      ]
     },
     "execution_count": 30,
     "metadata": {},
     "output_type": "execute_result"
    }
   ],
   "source": [
    "# Display coefficients (Indicator for feature importance)\n",
    "linear_reg_features = pd.DataFrame([X_train.columns, linear_reg.coef_]).T\n",
    "linear_reg_features = linear_reg_features.rename(columns={0: 'Feature', 1: 'Importance Score'})\n",
    "linear_reg_features.sort_values(by='Importance Score', ascending = False)"
   ]
  },
  {
   "cell_type": "code",
   "execution_count": 31,
   "metadata": {},
   "outputs": [],
   "source": [
    "from sklearn import metrics\n",
    "\n",
    "# Store results as dataframe\n",
    "lr_dict = {'Model':'Multi-Linear Regression',\n",
    "          'R^2':metrics.r2_score(y_val, y_pred_val),\n",
    "          'Adjusted R^2':(1 - (1-metrics.r2_score(y_val, y_pred_val))*(len(y_val)-1)/(len(y_val)-X_val.shape[1]-1)),\n",
    "          'MAE':metrics.mean_absolute_error(y_val, y_pred_val),\n",
    "          'MSE':metrics.mean_squared_error(y_val, y_pred_val),\n",
    "          'RMSE':np.sqrt(metrics.mean_squared_error(y_val, y_pred_val))}"
   ]
  },
  {
   "cell_type": "code",
   "execution_count": 32,
   "metadata": {},
   "outputs": [
    {
     "data": {
      "text/html": [
       "<div>\n",
       "<style scoped>\n",
       "    .dataframe tbody tr th:only-of-type {\n",
       "        vertical-align: middle;\n",
       "    }\n",
       "\n",
       "    .dataframe tbody tr th {\n",
       "        vertical-align: top;\n",
       "    }\n",
       "\n",
       "    .dataframe thead th {\n",
       "        text-align: right;\n",
       "    }\n",
       "</style>\n",
       "<table border=\"1\" class=\"dataframe\">\n",
       "  <thead>\n",
       "    <tr style=\"text-align: right;\">\n",
       "      <th></th>\n",
       "      <th>Model</th>\n",
       "      <th>R^2</th>\n",
       "      <th>Adjusted R^2</th>\n",
       "      <th>MAE</th>\n",
       "      <th>MSE</th>\n",
       "      <th>RMSE</th>\n",
       "    </tr>\n",
       "  </thead>\n",
       "  <tbody>\n",
       "    <tr>\n",
       "      <th>0</th>\n",
       "      <td>Multi-Linear Regression</td>\n",
       "      <td>0.857144</td>\n",
       "      <td>0.856004</td>\n",
       "      <td>280.904</td>\n",
       "      <td>350955</td>\n",
       "      <td>592.415</td>\n",
       "    </tr>\n",
       "  </tbody>\n",
       "</table>\n",
       "</div>"
      ],
      "text/plain": [
       "                     Model       R^2 Adjusted R^2      MAE     MSE     RMSE\n",
       "0  Multi-Linear Regression  0.857144     0.856004  280.904  350955  592.415"
      ]
     },
     "execution_count": 32,
     "metadata": {},
     "output_type": "execute_result"
    }
   ],
   "source": [
    "linear_reg_metrics = pd.DataFrame.from_dict(lr_dict, orient = 'index').T\n",
    "linear_reg_metrics"
   ]
  },
  {
   "cell_type": "markdown",
   "metadata": {},
   "source": [
    "## On test unseen data"
   ]
  },
  {
   "cell_type": "code",
   "execution_count": 36,
   "metadata": {},
   "outputs": [
    {
     "data": {
      "text/html": [
       "<div>\n",
       "<style scoped>\n",
       "    .dataframe tbody tr th:only-of-type {\n",
       "        vertical-align: middle;\n",
       "    }\n",
       "\n",
       "    .dataframe tbody tr th {\n",
       "        vertical-align: top;\n",
       "    }\n",
       "\n",
       "    .dataframe thead th {\n",
       "        text-align: right;\n",
       "    }\n",
       "</style>\n",
       "<table border=\"1\" class=\"dataframe\">\n",
       "  <thead>\n",
       "    <tr style=\"text-align: right;\">\n",
       "      <th></th>\n",
       "      <th>Hour</th>\n",
       "      <th>Weekday</th>\n",
       "      <th>Is Working Day</th>\n",
       "      <th>Previous Hour Price</th>\n",
       "      <th>SDSH DAP</th>\n",
       "      <th>SDSH Volume</th>\n",
       "      <th>Sgn0 VolumeDir</th>\n",
       "      <th>P24HA Price</th>\n",
       "      <th>PDSH Price</th>\n",
       "      <th>PWSH Price</th>\n",
       "      <th>PWA Price</th>\n",
       "      <th>month</th>\n",
       "    </tr>\n",
       "  </thead>\n",
       "  <tbody>\n",
       "    <tr>\n",
       "      <th>0</th>\n",
       "      <td>-1.661325</td>\n",
       "      <td>0.109764</td>\n",
       "      <td>0.816497</td>\n",
       "      <td>-0.187823</td>\n",
       "      <td>-0.199346</td>\n",
       "      <td>-0.359765</td>\n",
       "      <td>-0.632577</td>\n",
       "      <td>0.458700</td>\n",
       "      <td>-0.019155</td>\n",
       "      <td>-1.499269</td>\n",
       "      <td>-2.146682</td>\n",
       "      <td>0.0</td>\n",
       "    </tr>\n",
       "    <tr>\n",
       "      <th>1</th>\n",
       "      <td>-1.516862</td>\n",
       "      <td>0.109764</td>\n",
       "      <td>0.816497</td>\n",
       "      <td>-0.288263</td>\n",
       "      <td>-0.169465</td>\n",
       "      <td>-0.558301</td>\n",
       "      <td>-0.513418</td>\n",
       "      <td>0.439659</td>\n",
       "      <td>-0.090548</td>\n",
       "      <td>-0.694259</td>\n",
       "      <td>-2.018304</td>\n",
       "      <td>0.0</td>\n",
       "    </tr>\n",
       "    <tr>\n",
       "      <th>2</th>\n",
       "      <td>-1.372399</td>\n",
       "      <td>0.109764</td>\n",
       "      <td>0.816497</td>\n",
       "      <td>-0.273164</td>\n",
       "      <td>-0.708325</td>\n",
       "      <td>-0.816301</td>\n",
       "      <td>-0.674024</td>\n",
       "      <td>0.435740</td>\n",
       "      <td>-0.416413</td>\n",
       "      <td>-0.652897</td>\n",
       "      <td>-1.949119</td>\n",
       "      <td>0.0</td>\n",
       "    </tr>\n",
       "    <tr>\n",
       "      <th>3</th>\n",
       "      <td>-1.227936</td>\n",
       "      <td>0.109764</td>\n",
       "      <td>0.816497</td>\n",
       "      <td>-0.255247</td>\n",
       "      <td>-0.888817</td>\n",
       "      <td>-0.937148</td>\n",
       "      <td>-0.303593</td>\n",
       "      <td>0.494191</td>\n",
       "      <td>-0.544307</td>\n",
       "      <td>-0.611535</td>\n",
       "      <td>-1.882329</td>\n",
       "      <td>0.0</td>\n",
       "    </tr>\n",
       "    <tr>\n",
       "      <th>4</th>\n",
       "      <td>-1.083473</td>\n",
       "      <td>0.109764</td>\n",
       "      <td>0.816497</td>\n",
       "      <td>-0.898088</td>\n",
       "      <td>-0.914252</td>\n",
       "      <td>-0.928516</td>\n",
       "      <td>0.046115</td>\n",
       "      <td>0.492255</td>\n",
       "      <td>-0.556461</td>\n",
       "      <td>-0.570173</td>\n",
       "      <td>-1.842839</td>\n",
       "      <td>0.0</td>\n",
       "    </tr>\n",
       "  </tbody>\n",
       "</table>\n",
       "</div>"
      ],
      "text/plain": [
       "       Hour   Weekday  Is Working Day  Previous Hour Price  SDSH DAP  \\\n",
       "0 -1.661325  0.109764        0.816497            -0.187823 -0.199346   \n",
       "1 -1.516862  0.109764        0.816497            -0.288263 -0.169465   \n",
       "2 -1.372399  0.109764        0.816497            -0.273164 -0.708325   \n",
       "3 -1.227936  0.109764        0.816497            -0.255247 -0.888817   \n",
       "4 -1.083473  0.109764        0.816497            -0.898088 -0.914252   \n",
       "\n",
       "   SDSH Volume  Sgn0 VolumeDir  P24HA Price  PDSH Price  PWSH Price  \\\n",
       "0    -0.359765       -0.632577     0.458700   -0.019155   -1.499269   \n",
       "1    -0.558301       -0.513418     0.439659   -0.090548   -0.694259   \n",
       "2    -0.816301       -0.674024     0.435740   -0.416413   -0.652897   \n",
       "3    -0.937148       -0.303593     0.494191   -0.544307   -0.611535   \n",
       "4    -0.928516        0.046115     0.492255   -0.556461   -0.570173   \n",
       "\n",
       "   PWA Price  month  \n",
       "0  -2.146682    0.0  \n",
       "1  -2.018304    0.0  \n",
       "2  -1.949119    0.0  \n",
       "3  -1.882329    0.0  \n",
       "4  -1.842839    0.0  "
      ]
     },
     "execution_count": 36,
     "metadata": {},
     "output_type": "execute_result"
    }
   ],
   "source": [
    "test=test_df.copy()\n",
    "test = test.drop({'Date','target'},axis=1)\n",
    "test[numerical_cols] = scaler.fit_transform(test[numerical_cols])\n",
    "test.head()"
   ]
  },
  {
   "cell_type": "code",
   "execution_count": 37,
   "metadata": {},
   "outputs": [
    {
     "data": {
      "text/plain": [
       "array([2131.42963327, 2091.98100861, 1605.26988017, 1497.51765814,\n",
       "       1116.29862305, 1254.59300367, 1823.37434476, 2157.99143318,\n",
       "       3370.60318214, 4685.0822919 , 6667.37769626, 3881.14520273,\n",
       "       3290.22209563, 4995.90793698, 5531.98222576, 4243.70924163,\n",
       "       3145.16222721, 4745.19968957, 3607.45334828, 2059.97738787,\n",
       "       2056.44675653, 3710.07964463, 4098.58597747, 2368.92960133,\n",
       "       2756.20711325, 2259.14352887, 2153.449257  , 2122.7973152 ,\n",
       "       1811.85963207, 1249.62941662, 1435.68752511, 1716.94662204,\n",
       "       2284.63359494, 1946.43984407, 2775.14909588, 2982.75384217,\n",
       "       2539.11868828, 3237.14946247, 4450.50823191, 4013.06719916,\n",
       "       3046.19818447, 4128.62097916, 3994.15888152, 3090.07561629,\n",
       "       3848.57815533, 4472.51317658, 5699.46968798, 2855.78313471,\n",
       "       2095.76208417, 1966.43290592, 2144.75046696, 1461.47550935,\n",
       "       1661.3245665 , 1454.45661748, 1513.85584244,  548.1370444 ,\n",
       "       2684.92205107, 3156.79738023, 3849.28669182, 2005.42795555,\n",
       "       2684.95756009, 2512.86646287, 2455.62167003, 2144.00869629,\n",
       "       3011.18589753, 3940.95069416, 3496.90031818, 2446.52774751,\n",
       "       2372.50392494, 1436.56392654, 1732.56720418, 1312.46781643,\n",
       "       1222.59884822, 2207.54784701, 1978.44189872, 1679.1837238 ,\n",
       "       1333.39322515,  744.99128325,  577.47171949,  579.8286633 ,\n",
       "        814.05682407,  910.38638876, 1547.61614294, 1452.60207343,\n",
       "       1360.03907145,  723.8767274 ,  771.55158584,  752.40909082,\n",
       "        871.88468272, 2980.2071344 , 2416.89151321, 1835.78592814,\n",
       "       1815.1682107 , 1698.49239997, 1298.90953626,  723.72952757])"
      ]
     },
     "execution_count": 37,
     "metadata": {},
     "output_type": "execute_result"
    }
   ],
   "source": [
    "y_pred_test = linear_reg.predict(test)\n",
    "y_pred_test"
   ]
  },
  {
   "cell_type": "code",
   "execution_count": 38,
   "metadata": {},
   "outputs": [
    {
     "data": {
      "text/html": [
       "<div>\n",
       "<style scoped>\n",
       "    .dataframe tbody tr th:only-of-type {\n",
       "        vertical-align: middle;\n",
       "    }\n",
       "\n",
       "    .dataframe tbody tr th {\n",
       "        vertical-align: top;\n",
       "    }\n",
       "\n",
       "    .dataframe thead th {\n",
       "        text-align: right;\n",
       "    }\n",
       "</style>\n",
       "<table border=\"1\" class=\"dataframe\">\n",
       "  <thead>\n",
       "    <tr style=\"text-align: right;\">\n",
       "      <th></th>\n",
       "      <th>Date</th>\n",
       "      <th>Hour</th>\n",
       "      <th>Weekday</th>\n",
       "      <th>Is Working Day</th>\n",
       "      <th>Previous Hour Price</th>\n",
       "      <th>SDSH DAP</th>\n",
       "      <th>SDSH Volume</th>\n",
       "      <th>Sgn0 VolumeDir</th>\n",
       "      <th>P24HA Price</th>\n",
       "      <th>PDSH Price</th>\n",
       "      <th>PWSH Price</th>\n",
       "      <th>PWA Price</th>\n",
       "      <th>target</th>\n",
       "      <th>month</th>\n",
       "    </tr>\n",
       "  </thead>\n",
       "  <tbody>\n",
       "    <tr>\n",
       "      <th>0</th>\n",
       "      <td>2020-11-19 00:00:00</td>\n",
       "      <td>1</td>\n",
       "      <td>5</td>\n",
       "      <td>5</td>\n",
       "      <td>1501.96</td>\n",
       "      <td>1501.70</td>\n",
       "      <td>1563.7</td>\n",
       "      <td>-50.6</td>\n",
       "      <td>1622.125000</td>\n",
       "      <td>1513.71</td>\n",
       "      <td>593.880</td>\n",
       "      <td>1458.818810</td>\n",
       "      <td>2131.429633</td>\n",
       "      <td>11</td>\n",
       "    </tr>\n",
       "    <tr>\n",
       "      <th>1</th>\n",
       "      <td>2020-11-19 01:00:00</td>\n",
       "      <td>2</td>\n",
       "      <td>5</td>\n",
       "      <td>5</td>\n",
       "      <td>1475.95</td>\n",
       "      <td>1508.89</td>\n",
       "      <td>1522.3</td>\n",
       "      <td>-41.4</td>\n",
       "      <td>1620.551667</td>\n",
       "      <td>1487.63</td>\n",
       "      <td>1004.500</td>\n",
       "      <td>1464.069226</td>\n",
       "      <td>2091.981009</td>\n",
       "      <td>11</td>\n",
       "    </tr>\n",
       "    <tr>\n",
       "      <th>2</th>\n",
       "      <td>2020-11-19 02:00:00</td>\n",
       "      <td>3</td>\n",
       "      <td>5</td>\n",
       "      <td>5</td>\n",
       "      <td>1479.86</td>\n",
       "      <td>1379.23</td>\n",
       "      <td>1468.5</td>\n",
       "      <td>-53.8</td>\n",
       "      <td>1620.227917</td>\n",
       "      <td>1368.59</td>\n",
       "      <td>1025.598</td>\n",
       "      <td>1466.898750</td>\n",
       "      <td>1605.269880</td>\n",
       "      <td>11</td>\n",
       "    </tr>\n",
       "    <tr>\n",
       "      <th>3</th>\n",
       "      <td>2020-11-19 03:00:00</td>\n",
       "      <td>4</td>\n",
       "      <td>5</td>\n",
       "      <td>5</td>\n",
       "      <td>1484.50</td>\n",
       "      <td>1335.80</td>\n",
       "      <td>1443.3</td>\n",
       "      <td>-25.2</td>\n",
       "      <td>1625.057500</td>\n",
       "      <td>1321.87</td>\n",
       "      <td>1046.696</td>\n",
       "      <td>1469.630310</td>\n",
       "      <td>1497.517658</td>\n",
       "      <td>11</td>\n",
       "    </tr>\n",
       "    <tr>\n",
       "      <th>4</th>\n",
       "      <td>2020-11-19 04:00:00</td>\n",
       "      <td>5</td>\n",
       "      <td>5</td>\n",
       "      <td>5</td>\n",
       "      <td>1318.03</td>\n",
       "      <td>1329.68</td>\n",
       "      <td>1445.1</td>\n",
       "      <td>1.8</td>\n",
       "      <td>1624.897500</td>\n",
       "      <td>1317.43</td>\n",
       "      <td>1067.794</td>\n",
       "      <td>1471.245393</td>\n",
       "      <td>1116.298623</td>\n",
       "      <td>11</td>\n",
       "    </tr>\n",
       "  </tbody>\n",
       "</table>\n",
       "</div>"
      ],
      "text/plain": [
       "                 Date  Hour  Weekday  Is Working Day  Previous Hour Price  \\\n",
       "0 2020-11-19 00:00:00     1        5               5              1501.96   \n",
       "1 2020-11-19 01:00:00     2        5               5              1475.95   \n",
       "2 2020-11-19 02:00:00     3        5               5              1479.86   \n",
       "3 2020-11-19 03:00:00     4        5               5              1484.50   \n",
       "4 2020-11-19 04:00:00     5        5               5              1318.03   \n",
       "\n",
       "   SDSH DAP  SDSH Volume  Sgn0 VolumeDir  P24HA Price  PDSH Price  PWSH Price  \\\n",
       "0   1501.70       1563.7           -50.6  1622.125000     1513.71     593.880   \n",
       "1   1508.89       1522.3           -41.4  1620.551667     1487.63    1004.500   \n",
       "2   1379.23       1468.5           -53.8  1620.227917     1368.59    1025.598   \n",
       "3   1335.80       1443.3           -25.2  1625.057500     1321.87    1046.696   \n",
       "4   1329.68       1445.1             1.8  1624.897500     1317.43    1067.794   \n",
       "\n",
       "     PWA Price       target  month  \n",
       "0  1458.818810  2131.429633     11  \n",
       "1  1464.069226  2091.981009     11  \n",
       "2  1466.898750  1605.269880     11  \n",
       "3  1469.630310  1497.517658     11  \n",
       "4  1471.245393  1116.298623     11  "
      ]
     },
     "execution_count": 38,
     "metadata": {},
     "output_type": "execute_result"
    }
   ],
   "source": [
    "test_df['target'] = y_pred_test\n",
    "test_df.head()"
   ]
  },
  {
   "cell_type": "markdown",
   "metadata": {},
   "source": [
    "### Modeling - Random Forest Regressor"
   ]
  },
  {
   "cell_type": "code",
   "execution_count": 39,
   "metadata": {},
   "outputs": [],
   "source": [
    "from sklearn.ensemble import RandomForestRegressor\n",
    "from sklearn.model_selection import train_test_split, RandomizedSearchCV, GridSearchCV"
   ]
  },
  {
   "cell_type": "code",
   "execution_count": 40,
   "metadata": {},
   "outputs": [],
   "source": [
    "# Create the parameter grid for GridSearchCV\n",
    "rf_param_grid = {\n",
    "    'max_depth': [80, 90, 100], # Maximum number of levels in each decision tree\n",
    "    'max_features': ['auto', 'sqrt', 'log2'], # Maximum number of features considered for splitting a node\n",
    "    'min_samples_leaf': [1, 3, 4, 5], # Minimum number of data points allowed in a leaf node\n",
    "    'n_estimators': [100, 300, 600] # Number of trees in the forest\n",
    "}"
   ]
  },
  {
   "cell_type": "code",
   "execution_count": 41,
   "metadata": {},
   "outputs": [],
   "source": [
    "# Instantiate a Random Forest Regressor\n",
    "rf_reg = RandomForestRegressor()"
   ]
  },
  {
   "cell_type": "code",
   "execution_count": 42,
   "metadata": {},
   "outputs": [],
   "source": [
    "# Setup grid search\n",
    "rf_grid = GridSearchCV(estimator = rf_reg, param_grid = rf_param_grid, cv=5, n_jobs=-1, verbose=2)"
   ]
  },
  {
   "cell_type": "code",
   "execution_count": 43,
   "metadata": {},
   "outputs": [
    {
     "name": "stdout",
     "output_type": "stream",
     "text": [
      "Fitting 5 folds for each of 108 candidates, totalling 540 fits\n"
     ]
    },
    {
     "name": "stderr",
     "output_type": "stream",
     "text": [
      "[Parallel(n_jobs=-1)]: Using backend LokyBackend with 4 concurrent workers.\n",
      "[Parallel(n_jobs=-1)]: Done  33 tasks      | elapsed:  3.5min\n",
      "[Parallel(n_jobs=-1)]: Done 154 tasks      | elapsed:  9.5min\n",
      "[Parallel(n_jobs=-1)]: Done 357 tasks      | elapsed: 21.2min\n",
      "[Parallel(n_jobs=-1)]: Done 540 out of 540 | elapsed: 32.2min finished\n"
     ]
    },
    {
     "data": {
      "text/plain": [
       "GridSearchCV(cv=5, estimator=RandomForestRegressor(), n_jobs=-1,\n",
       "             param_grid={'max_depth': [80, 90, 100],\n",
       "                         'max_features': ['auto', 'sqrt', 'log2'],\n",
       "                         'min_samples_leaf': [1, 3, 4, 5],\n",
       "                         'n_estimators': [100, 300, 600]},\n",
       "             verbose=2)"
      ]
     },
     "execution_count": 43,
     "metadata": {},
     "output_type": "execute_result"
    }
   ],
   "source": [
    "# Fit the grid search model on training dataset\n",
    "rf_grid.fit(X_train, y_train)"
   ]
  },
  {
   "cell_type": "code",
   "execution_count": 44,
   "metadata": {},
   "outputs": [
    {
     "data": {
      "text/plain": [
       "{'max_depth': 100,\n",
       " 'max_features': 'log2',\n",
       " 'min_samples_leaf': 1,\n",
       " 'n_estimators': 100}"
      ]
     },
     "execution_count": 44,
     "metadata": {},
     "output_type": "execute_result"
    }
   ],
   "source": [
    "rf_grid.best_params_"
   ]
  },
  {
   "cell_type": "code",
   "execution_count": 45,
   "metadata": {},
   "outputs": [
    {
     "data": {
      "text/plain": [
       "array([2043.6567    , 1576.861     , 1577.87790571, ..., 2412.0465    ,\n",
       "       2077.6675    , 8507.04203904])"
      ]
     },
     "execution_count": 45,
     "metadata": {},
     "output_type": "execute_result"
    }
   ],
   "source": [
    "# Get best RF estimator based on best parameters\n",
    "rf_best = rf_grid.best_estimator_\n",
    "\n",
    "# Use RF regressor to predict on test set\n",
    "y_pred_val = rf_best.predict(X_val)\n",
    "y_pred_val"
   ]
  },
  {
   "cell_type": "code",
   "execution_count": 46,
   "metadata": {},
   "outputs": [
    {
     "data": {
      "text/html": [
       "<div>\n",
       "<style scoped>\n",
       "    .dataframe tbody tr th:only-of-type {\n",
       "        vertical-align: middle;\n",
       "    }\n",
       "\n",
       "    .dataframe tbody tr th {\n",
       "        vertical-align: top;\n",
       "    }\n",
       "\n",
       "    .dataframe thead th {\n",
       "        text-align: right;\n",
       "    }\n",
       "</style>\n",
       "<table border=\"1\" class=\"dataframe\">\n",
       "  <thead>\n",
       "    <tr style=\"text-align: right;\">\n",
       "      <th></th>\n",
       "      <th>Actual</th>\n",
       "      <th>Prediction</th>\n",
       "    </tr>\n",
       "  </thead>\n",
       "  <tbody>\n",
       "    <tr>\n",
       "      <th>0</th>\n",
       "      <td>2041.18</td>\n",
       "      <td>2043.656700</td>\n",
       "    </tr>\n",
       "    <tr>\n",
       "      <th>1</th>\n",
       "      <td>1475.46</td>\n",
       "      <td>1576.861000</td>\n",
       "    </tr>\n",
       "    <tr>\n",
       "      <th>2</th>\n",
       "      <td>1579.12</td>\n",
       "      <td>1577.877906</td>\n",
       "    </tr>\n",
       "    <tr>\n",
       "      <th>3</th>\n",
       "      <td>1552.67</td>\n",
       "      <td>1577.120452</td>\n",
       "    </tr>\n",
       "    <tr>\n",
       "      <th>4</th>\n",
       "      <td>1721.17</td>\n",
       "      <td>1796.681233</td>\n",
       "    </tr>\n",
       "    <tr>\n",
       "      <th>...</th>\n",
       "      <td>...</td>\n",
       "      <td>...</td>\n",
       "    </tr>\n",
       "    <tr>\n",
       "      <th>1512</th>\n",
       "      <td>2441.90</td>\n",
       "      <td>2241.864800</td>\n",
       "    </tr>\n",
       "    <tr>\n",
       "      <th>1513</th>\n",
       "      <td>1685.98</td>\n",
       "      <td>1736.836200</td>\n",
       "    </tr>\n",
       "    <tr>\n",
       "      <th>1514</th>\n",
       "      <td>2535.42</td>\n",
       "      <td>2412.046500</td>\n",
       "    </tr>\n",
       "    <tr>\n",
       "      <th>1515</th>\n",
       "      <td>2100.73</td>\n",
       "      <td>2077.667500</td>\n",
       "    </tr>\n",
       "    <tr>\n",
       "      <th>1516</th>\n",
       "      <td>9263.34</td>\n",
       "      <td>8507.042039</td>\n",
       "    </tr>\n",
       "  </tbody>\n",
       "</table>\n",
       "<p>1517 rows × 2 columns</p>\n",
       "</div>"
      ],
      "text/plain": [
       "       Actual   Prediction\n",
       "0     2041.18  2043.656700\n",
       "1     1475.46  1576.861000\n",
       "2     1579.12  1577.877906\n",
       "3     1552.67  1577.120452\n",
       "4     1721.17  1796.681233\n",
       "...       ...          ...\n",
       "1512  2441.90  2241.864800\n",
       "1513  1685.98  1736.836200\n",
       "1514  2535.42  2412.046500\n",
       "1515  2100.73  2077.667500\n",
       "1516  9263.34  8507.042039\n",
       "\n",
       "[1517 rows x 2 columns]"
      ]
     },
     "execution_count": 46,
     "metadata": {},
     "output_type": "execute_result"
    }
   ],
   "source": [
    "result_df = pd.DataFrame({'Actual':np.array(y_val), 'Prediction':y_pred_val})\n",
    "result_df"
   ]
  },
  {
   "cell_type": "code",
   "execution_count": 47,
   "metadata": {},
   "outputs": [
    {
     "data": {
      "image/png": "[encoded data removed]",
      "text/plain": [
       "<Figure size 432x288 with 1 Axes>"
      ]
     },
     "metadata": {
      "needs_background": "light"
     },
     "output_type": "display_data"
    }
   ],
   "source": [
    "# Visualizing actual prices vs predicted values\n",
    "plt.scatter(y_val, y_pred_val)\n",
    "plt.xlabel(\"Actual Price\")\n",
    "plt.ylabel(\"Predicted Price\")\n",
    "plt.title(\"Actual Rental Price vs Predicted Rental Price\")\n",
    "plt.show()"
   ]
  },
  {
   "cell_type": "code",
   "execution_count": 48,
   "metadata": {},
   "outputs": [
    {
     "data": {
      "text/html": [
       "<div>\n",
       "<style scoped>\n",
       "    .dataframe tbody tr th:only-of-type {\n",
       "        vertical-align: middle;\n",
       "    }\n",
       "\n",
       "    .dataframe tbody tr th {\n",
       "        vertical-align: top;\n",
       "    }\n",
       "\n",
       "    .dataframe thead th {\n",
       "        text-align: right;\n",
       "    }\n",
       "</style>\n",
       "<table border=\"1\" class=\"dataframe\">\n",
       "  <thead>\n",
       "    <tr style=\"text-align: right;\">\n",
       "      <th></th>\n",
       "      <th>Model</th>\n",
       "      <th>R^2</th>\n",
       "      <th>Adjusted R^2</th>\n",
       "      <th>MAE</th>\n",
       "      <th>MSE</th>\n",
       "      <th>RMSE</th>\n",
       "    </tr>\n",
       "  </thead>\n",
       "  <tbody>\n",
       "    <tr>\n",
       "      <th>0</th>\n",
       "      <td>Random Forest Regressor</td>\n",
       "      <td>0.880056</td>\n",
       "      <td>0.879099</td>\n",
       "      <td>245.179</td>\n",
       "      <td>294666</td>\n",
       "      <td>542.831</td>\n",
       "    </tr>\n",
       "  </tbody>\n",
       "</table>\n",
       "</div>"
      ],
      "text/plain": [
       "                     Model       R^2 Adjusted R^2      MAE     MSE     RMSE\n",
       "0  Random Forest Regressor  0.880056     0.879099  245.179  294666  542.831"
      ]
     },
     "execution_count": 48,
     "metadata": {},
     "output_type": "execute_result"
    }
   ],
   "source": [
    "# Store results as dataframe\n",
    "rf_dict = {'Model':'Random Forest Regressor',\n",
    "          'R^2':metrics.r2_score(y_val, y_pred_val),\n",
    "          'Adjusted R^2':(1 - (1-metrics.r2_score(y_val, y_pred_val))*(len(y_val)-1)/(len(y_val)-X_val.shape[1]-1)),\n",
    "          'MAE':metrics.mean_absolute_error(y_val, y_pred_val),\n",
    "          'MSE':metrics.mean_squared_error(y_val, y_pred_val),\n",
    "          'RMSE':np.sqrt(metrics.mean_squared_error(y_val, y_pred_val))}\n",
    "\n",
    "rf_reg_metrics = pd.DataFrame.from_dict(rf_dict, orient = 'index').T\n",
    "\n",
    "# Display model performance metrics\n",
    "rf_reg_metrics"
   ]
  },
  {
   "cell_type": "code",
   "execution_count": 50,
   "metadata": {},
   "outputs": [
    {
     "data": {
      "text/html": [
       "<div>\n",
       "<style scoped>\n",
       "    .dataframe tbody tr th:only-of-type {\n",
       "        vertical-align: middle;\n",
       "    }\n",
       "\n",
       "    .dataframe tbody tr th {\n",
       "        vertical-align: top;\n",
       "    }\n",
       "\n",
       "    .dataframe thead th {\n",
       "        text-align: right;\n",
       "    }\n",
       "</style>\n",
       "<table border=\"1\" class=\"dataframe\">\n",
       "  <thead>\n",
       "    <tr style=\"text-align: right;\">\n",
       "      <th></th>\n",
       "      <th>Feature</th>\n",
       "      <th>Importance Score</th>\n",
       "    </tr>\n",
       "  </thead>\n",
       "  <tbody>\n",
       "    <tr>\n",
       "      <th>4</th>\n",
       "      <td>SDSH DAP</td>\n",
       "      <td>0.346857</td>\n",
       "    </tr>\n",
       "    <tr>\n",
       "      <th>3</th>\n",
       "      <td>Previous Hour Price</td>\n",
       "      <td>0.257692</td>\n",
       "    </tr>\n",
       "    <tr>\n",
       "      <th>7</th>\n",
       "      <td>P24HA Price</td>\n",
       "      <td>0.12018</td>\n",
       "    </tr>\n",
       "    <tr>\n",
       "      <th>8</th>\n",
       "      <td>PDSH Price</td>\n",
       "      <td>0.070922</td>\n",
       "    </tr>\n",
       "    <tr>\n",
       "      <th>5</th>\n",
       "      <td>SDSH Volume</td>\n",
       "      <td>0.058751</td>\n",
       "    </tr>\n",
       "    <tr>\n",
       "      <th>10</th>\n",
       "      <td>PWA Price</td>\n",
       "      <td>0.0414819</td>\n",
       "    </tr>\n",
       "    <tr>\n",
       "      <th>9</th>\n",
       "      <td>PWSH Price</td>\n",
       "      <td>0.0250388</td>\n",
       "    </tr>\n",
       "    <tr>\n",
       "      <th>11</th>\n",
       "      <td>month</td>\n",
       "      <td>0.0238263</td>\n",
       "    </tr>\n",
       "    <tr>\n",
       "      <th>6</th>\n",
       "      <td>Sgn0 VolumeDir</td>\n",
       "      <td>0.0221447</td>\n",
       "    </tr>\n",
       "    <tr>\n",
       "      <th>0</th>\n",
       "      <td>Hour</td>\n",
       "      <td>0.0191917</td>\n",
       "    </tr>\n",
       "    <tr>\n",
       "      <th>1</th>\n",
       "      <td>Weekday</td>\n",
       "      <td>0.00759184</td>\n",
       "    </tr>\n",
       "    <tr>\n",
       "      <th>2</th>\n",
       "      <td>Is Working Day</td>\n",
       "      <td>0.00632374</td>\n",
       "    </tr>\n",
       "  </tbody>\n",
       "</table>\n",
       "</div>"
      ],
      "text/plain": [
       "                Feature Importance Score\n",
       "4              SDSH DAP         0.346857\n",
       "3   Previous Hour Price         0.257692\n",
       "7           P24HA Price          0.12018\n",
       "8            PDSH Price         0.070922\n",
       "5           SDSH Volume         0.058751\n",
       "10            PWA Price        0.0414819\n",
       "9            PWSH Price        0.0250388\n",
       "11                month        0.0238263\n",
       "6        Sgn0 VolumeDir        0.0221447\n",
       "0                  Hour        0.0191917\n",
       "1               Weekday       0.00759184\n",
       "2        Is Working Day       0.00632374"
      ]
     },
     "execution_count": 50,
     "metadata": {},
     "output_type": "execute_result"
    }
   ],
   "source": [
    "rf_features = pd.DataFrame([X_train.columns, rf_best.feature_importances_]).T\n",
    "rf_features = rf_features.rename(columns={0: 'Feature', 1: 'Importance Score'})\n",
    "rf_features.sort_values(by = 'Importance Score', ascending = False)"
   ]
  },
  {
   "cell_type": "markdown",
   "metadata": {},
   "source": [
    "## On test unseen data"
   ]
  },
  {
   "cell_type": "code",
   "execution_count": 51,
   "metadata": {},
   "outputs": [
    {
     "data": {
      "text/html": [
       "<div>\n",
       "<style scoped>\n",
       "    .dataframe tbody tr th:only-of-type {\n",
       "        vertical-align: middle;\n",
       "    }\n",
       "\n",
       "    .dataframe tbody tr th {\n",
       "        vertical-align: top;\n",
       "    }\n",
       "\n",
       "    .dataframe thead th {\n",
       "        text-align: right;\n",
       "    }\n",
       "</style>\n",
       "<table border=\"1\" class=\"dataframe\">\n",
       "  <thead>\n",
       "    <tr style=\"text-align: right;\">\n",
       "      <th></th>\n",
       "      <th>Hour</th>\n",
       "      <th>Weekday</th>\n",
       "      <th>Is Working Day</th>\n",
       "      <th>Previous Hour Price</th>\n",
       "      <th>SDSH DAP</th>\n",
       "      <th>SDSH Volume</th>\n",
       "      <th>Sgn0 VolumeDir</th>\n",
       "      <th>P24HA Price</th>\n",
       "      <th>PDSH Price</th>\n",
       "      <th>PWSH Price</th>\n",
       "      <th>PWA Price</th>\n",
       "      <th>month</th>\n",
       "    </tr>\n",
       "  </thead>\n",
       "  <tbody>\n",
       "    <tr>\n",
       "      <th>0</th>\n",
       "      <td>1</td>\n",
       "      <td>5</td>\n",
       "      <td>5</td>\n",
       "      <td>1501.96</td>\n",
       "      <td>1501.70</td>\n",
       "      <td>1563.7</td>\n",
       "      <td>-50.6</td>\n",
       "      <td>1622.125000</td>\n",
       "      <td>1513.71</td>\n",
       "      <td>593.880</td>\n",
       "      <td>1458.818810</td>\n",
       "      <td>11</td>\n",
       "    </tr>\n",
       "    <tr>\n",
       "      <th>1</th>\n",
       "      <td>2</td>\n",
       "      <td>5</td>\n",
       "      <td>5</td>\n",
       "      <td>1475.95</td>\n",
       "      <td>1508.89</td>\n",
       "      <td>1522.3</td>\n",
       "      <td>-41.4</td>\n",
       "      <td>1620.551667</td>\n",
       "      <td>1487.63</td>\n",
       "      <td>1004.500</td>\n",
       "      <td>1464.069226</td>\n",
       "      <td>11</td>\n",
       "    </tr>\n",
       "    <tr>\n",
       "      <th>2</th>\n",
       "      <td>3</td>\n",
       "      <td>5</td>\n",
       "      <td>5</td>\n",
       "      <td>1479.86</td>\n",
       "      <td>1379.23</td>\n",
       "      <td>1468.5</td>\n",
       "      <td>-53.8</td>\n",
       "      <td>1620.227917</td>\n",
       "      <td>1368.59</td>\n",
       "      <td>1025.598</td>\n",
       "      <td>1466.898750</td>\n",
       "      <td>11</td>\n",
       "    </tr>\n",
       "    <tr>\n",
       "      <th>3</th>\n",
       "      <td>4</td>\n",
       "      <td>5</td>\n",
       "      <td>5</td>\n",
       "      <td>1484.50</td>\n",
       "      <td>1335.80</td>\n",
       "      <td>1443.3</td>\n",
       "      <td>-25.2</td>\n",
       "      <td>1625.057500</td>\n",
       "      <td>1321.87</td>\n",
       "      <td>1046.696</td>\n",
       "      <td>1469.630310</td>\n",
       "      <td>11</td>\n",
       "    </tr>\n",
       "    <tr>\n",
       "      <th>4</th>\n",
       "      <td>5</td>\n",
       "      <td>5</td>\n",
       "      <td>5</td>\n",
       "      <td>1318.03</td>\n",
       "      <td>1329.68</td>\n",
       "      <td>1445.1</td>\n",
       "      <td>1.8</td>\n",
       "      <td>1624.897500</td>\n",
       "      <td>1317.43</td>\n",
       "      <td>1067.794</td>\n",
       "      <td>1471.245393</td>\n",
       "      <td>11</td>\n",
       "    </tr>\n",
       "  </tbody>\n",
       "</table>\n",
       "</div>"
      ],
      "text/plain": [
       "   Hour  Weekday  Is Working Day  Previous Hour Price  SDSH DAP  SDSH Volume  \\\n",
       "0     1        5               5              1501.96   1501.70       1563.7   \n",
       "1     2        5               5              1475.95   1508.89       1522.3   \n",
       "2     3        5               5              1479.86   1379.23       1468.5   \n",
       "3     4        5               5              1484.50   1335.80       1443.3   \n",
       "4     5        5               5              1318.03   1329.68       1445.1   \n",
       "\n",
       "   Sgn0 VolumeDir  P24HA Price  PDSH Price  PWSH Price    PWA Price  month  \n",
       "0           -50.6  1622.125000     1513.71     593.880  1458.818810     11  \n",
       "1           -41.4  1620.551667     1487.63    1004.500  1464.069226     11  \n",
       "2           -53.8  1620.227917     1368.59    1025.598  1466.898750     11  \n",
       "3           -25.2  1625.057500     1321.87    1046.696  1469.630310     11  \n",
       "4             1.8  1624.897500     1317.43    1067.794  1471.245393     11  "
      ]
     },
     "execution_count": 51,
     "metadata": {},
     "output_type": "execute_result"
    }
   ],
   "source": [
    "test=test_df.copy()\n",
    "test = test.drop({'Date','target'},axis=1)\n",
    "test.head()"
   ]
  },
  {
   "cell_type": "code",
   "execution_count": 52,
   "metadata": {},
   "outputs": [
    {
     "data": {
      "text/plain": [
       "array([8644.07327994, 8411.08370949, 8411.08370949, 8411.08370949,\n",
       "       8733.18113403, 8733.18113403, 8411.08370949, 8733.18113403,\n",
       "       8733.18113403, 8733.18113403, 8733.18113403, 8411.08370949,\n",
       "       8411.08370949, 8733.18113403, 8411.08370949, 8411.08370949,\n",
       "       8411.08370949, 8733.18113403, 8411.08370949, 8411.08370949,\n",
       "       8411.08370949, 8411.08370949, 8411.08370949, 8411.08370949,\n",
       "       8644.07327994, 8411.08370949, 8411.08370949, 8411.08370949,\n",
       "       8733.18113403, 8733.18113403, 8733.18113403, 8733.18113403,\n",
       "       8733.18113403, 8733.18113403, 8733.18113403, 8411.08370949,\n",
       "       8411.08370949, 8733.18113403, 8411.08370949, 8411.08370949,\n",
       "       8411.08370949, 8733.18113403, 8411.08370949, 8411.08370949,\n",
       "       8411.08370949, 8411.08370949, 8411.08370949, 8411.08370949,\n",
       "       8647.78547994, 8414.79590949, 8414.79590949, 8414.79590949,\n",
       "       8510.35447176, 8736.89333403, 8414.79590949, 8736.89333403,\n",
       "       8736.89333403, 8736.89333403, 8736.89333403, 8414.79590949,\n",
       "       8414.79590949, 8736.89333403, 8736.89333403, 8414.79590949,\n",
       "       8414.79590949, 8736.89333403, 8414.79590949, 8414.79590949,\n",
       "       8414.79590949, 8414.79590949, 8414.79590949, 8414.79590949,\n",
       "       8623.08873403, 8388.95800949, 8388.95800949, 8388.95800949,\n",
       "       8883.47046675, 8388.95800949, 8388.95800949, 8744.46934221,\n",
       "       8744.46934221, 8744.46934221, 8744.46934221, 8388.95800949,\n",
       "       8744.46934221, 8388.95800949, 8880.92030448, 8388.95800949,\n",
       "       8744.46934221, 8744.46934221, 8388.95800949, 8388.95800949,\n",
       "       8388.95800949, 8388.95800949, 8388.95800949, 8388.95800949])"
      ]
     },
     "execution_count": 52,
     "metadata": {},
     "output_type": "execute_result"
    }
   ],
   "source": [
    "y_pred_test = rf_best.predict(test)\n",
    "y_pred_test"
   ]
  },
  {
   "cell_type": "markdown",
   "metadata": {},
   "source": [
    "### Modeling - XGBoost Regressor"
   ]
  },
  {
   "cell_type": "code",
   "execution_count": 53,
   "metadata": {},
   "outputs": [],
   "source": [
    "from sklearn.model_selection import train_test_split, RandomizedSearchCV, GridSearchCV\n",
    "\n",
    "import xgboost as xgb\n",
    "from xgboost import plot_importance\n",
    "import lightgbm as lgb\n",
    "from catboost import Pool, CatBoostRegressor"
   ]
  },
  {
   "cell_type": "code",
   "execution_count": 54,
   "metadata": {},
   "outputs": [],
   "source": [
    "xgb_param_grid = {\"learning_rate\": [0.05, 0.1, 0.2], # Step size shrinkage used in update to prevents overfitting.\n",
    "                  \"max_depth\"        : [6, 8, 9, 10], # Maximum depth of a tree. \n",
    "                  \"min_child_weight\" : [1, 3, 5, 7], # Minimum number of instances required in a child node\n",
    "                  \"gamma\"            : [0.0, 0.1, 0.2, 0.3], # Minimum loss reduction required to make a further partition on a leaf node of the tree.\n",
    "                  \"colsample_bytree\" : [0.3, 0.4, 0.6, 0.8] # Number of features supplied to a tree\n",
    "}\n",
    "\n",
    "xgb_reg = xgb.XGBRegressor(seed = 42, objective ='reg:squarederror')\n",
    "\n",
    "xgb_reg_grid = GridSearchCV(estimator = xgb_reg, param_grid = xgb_param_grid, cv=5, n_jobs=-1, verbose=2)"
   ]
  },
  {
   "cell_type": "code",
   "execution_count": 55,
   "metadata": {},
   "outputs": [
    {
     "name": "stdout",
     "output_type": "stream",
     "text": [
      "Fitting 5 folds for each of 768 candidates, totalling 3840 fits\n"
     ]
    },
    {
     "name": "stderr",
     "output_type": "stream",
     "text": [
      "[Parallel(n_jobs=-1)]: Using backend LokyBackend with 4 concurrent workers.\n",
      "[Parallel(n_jobs=-1)]: Done  33 tasks      | elapsed:   40.6s\n",
      "[Parallel(n_jobs=-1)]: Done 154 tasks      | elapsed:  1.7min\n",
      "[Parallel(n_jobs=-1)]: Done 357 tasks      | elapsed:  3.2min\n",
      "[Parallel(n_jobs=-1)]: Done 640 tasks      | elapsed:  5.3min\n",
      "[Parallel(n_jobs=-1)]: Done 1005 tasks      | elapsed:  8.1min\n",
      "[Parallel(n_jobs=-1)]: Done 1450 tasks      | elapsed: 12.0min\n",
      "[Parallel(n_jobs=-1)]: Done 1977 tasks      | elapsed: 17.0min\n",
      "[Parallel(n_jobs=-1)]: Done 2584 tasks      | elapsed: 24.8min\n",
      "[Parallel(n_jobs=-1)]: Done 3273 tasks      | elapsed: 34.7min\n",
      "[Parallel(n_jobs=-1)]: Done 3840 out of 3840 | elapsed: 43.9min finished\n"
     ]
    },
    {
     "data": {
      "text/plain": [
       "GridSearchCV(cv=5,\n",
       "             estimator=XGBRegressor(base_score=None, booster=None,\n",
       "                                    colsample_bylevel=None,\n",
       "                                    colsample_bynode=None,\n",
       "                                    colsample_bytree=None, gamma=None,\n",
       "                                    gpu_id=None, importance_type='gain',\n",
       "                                    interaction_constraints=None,\n",
       "                                    learning_rate=None, max_delta_step=None,\n",
       "                                    max_depth=None, min_child_weight=None,\n",
       "                                    missing=nan, monotone_constraints=None,\n",
       "                                    n_estimators=100, n_jobs=...\n",
       "                                    num_parallel_tree=None, random_state=None,\n",
       "                                    reg_alpha=None, reg_lambda=None,\n",
       "                                    scale_pos_weight=None, seed=42,\n",
       "                                    subsample=None, tree_method=None,\n",
       "                                    validate_parameters=None, verbosity=None),\n",
       "             n_jobs=-1,\n",
       "             param_grid={'colsample_bytree': [0.3, 0.4, 0.6, 0.8],\n",
       "                         'gamma': [0.0, 0.1, 0.2, 0.3],\n",
       "                         'learning_rate': [0.05, 0.1, 0.2],\n",
       "                         'max_depth': [6, 8, 9, 10],\n",
       "                         'min_child_weight': [1, 3, 5, 7]},\n",
       "             verbose=2)"
      ]
     },
     "execution_count": 55,
     "metadata": {},
     "output_type": "execute_result"
    }
   ],
   "source": [
    "xgb_reg_grid.fit(X_train, y_train)"
   ]
  },
  {
   "cell_type": "code",
   "execution_count": 56,
   "metadata": {},
   "outputs": [
    {
     "data": {
      "text/plain": [
       "{'colsample_bytree': 0.6,\n",
       " 'gamma': 0.0,\n",
       " 'learning_rate': 0.05,\n",
       " 'max_depth': 6,\n",
       " 'min_child_weight': 5}"
      ]
     },
     "execution_count": 56,
     "metadata": {},
     "output_type": "execute_result"
    }
   ],
   "source": [
    "xgb_reg_grid.best_params_"
   ]
  },
  {
   "cell_type": "code",
   "execution_count": 57,
   "metadata": {},
   "outputs": [],
   "source": [
    "# Get best model (based on best parameters) and predict on test set\n",
    "best_xgb_reg = xgb_reg_grid.best_estimator_\n",
    "y_pred_val = best_xgb_reg.predict(X_val)"
   ]
  },
  {
   "cell_type": "code",
   "execution_count": 58,
   "metadata": {},
   "outputs": [
    {
     "data": {
      "text/html": [
       "<div>\n",
       "<style scoped>\n",
       "    .dataframe tbody tr th:only-of-type {\n",
       "        vertical-align: middle;\n",
       "    }\n",
       "\n",
       "    .dataframe tbody tr th {\n",
       "        vertical-align: top;\n",
       "    }\n",
       "\n",
       "    .dataframe thead th {\n",
       "        text-align: right;\n",
       "    }\n",
       "</style>\n",
       "<table border=\"1\" class=\"dataframe\">\n",
       "  <thead>\n",
       "    <tr style=\"text-align: right;\">\n",
       "      <th></th>\n",
       "      <th>Actual</th>\n",
       "      <th>Prediction</th>\n",
       "    </tr>\n",
       "  </thead>\n",
       "  <tbody>\n",
       "    <tr>\n",
       "      <th>0</th>\n",
       "      <td>2041.18</td>\n",
       "      <td>2021.469238</td>\n",
       "    </tr>\n",
       "    <tr>\n",
       "      <th>1</th>\n",
       "      <td>1475.46</td>\n",
       "      <td>1680.756348</td>\n",
       "    </tr>\n",
       "    <tr>\n",
       "      <th>2</th>\n",
       "      <td>1579.12</td>\n",
       "      <td>1559.479370</td>\n",
       "    </tr>\n",
       "    <tr>\n",
       "      <th>3</th>\n",
       "      <td>1552.67</td>\n",
       "      <td>1543.234497</td>\n",
       "    </tr>\n",
       "    <tr>\n",
       "      <th>4</th>\n",
       "      <td>1721.17</td>\n",
       "      <td>1744.637451</td>\n",
       "    </tr>\n",
       "    <tr>\n",
       "      <th>...</th>\n",
       "      <td>...</td>\n",
       "      <td>...</td>\n",
       "    </tr>\n",
       "    <tr>\n",
       "      <th>1512</th>\n",
       "      <td>2441.90</td>\n",
       "      <td>2246.831055</td>\n",
       "    </tr>\n",
       "    <tr>\n",
       "      <th>1513</th>\n",
       "      <td>1685.98</td>\n",
       "      <td>1664.194702</td>\n",
       "    </tr>\n",
       "    <tr>\n",
       "      <th>1514</th>\n",
       "      <td>2535.42</td>\n",
       "      <td>2308.857910</td>\n",
       "    </tr>\n",
       "    <tr>\n",
       "      <th>1515</th>\n",
       "      <td>2100.73</td>\n",
       "      <td>2037.286621</td>\n",
       "    </tr>\n",
       "    <tr>\n",
       "      <th>1516</th>\n",
       "      <td>9263.34</td>\n",
       "      <td>8267.458984</td>\n",
       "    </tr>\n",
       "  </tbody>\n",
       "</table>\n",
       "<p>1517 rows × 2 columns</p>\n",
       "</div>"
      ],
      "text/plain": [
       "       Actual   Prediction\n",
       "0     2041.18  2021.469238\n",
       "1     1475.46  1680.756348\n",
       "2     1579.12  1559.479370\n",
       "3     1552.67  1543.234497\n",
       "4     1721.17  1744.637451\n",
       "...       ...          ...\n",
       "1512  2441.90  2246.831055\n",
       "1513  1685.98  1664.194702\n",
       "1514  2535.42  2308.857910\n",
       "1515  2100.73  2037.286621\n",
       "1516  9263.34  8267.458984\n",
       "\n",
       "[1517 rows x 2 columns]"
      ]
     },
     "execution_count": 58,
     "metadata": {},
     "output_type": "execute_result"
    }
   ],
   "source": [
    "result_df = pd.DataFrame({'Actual':np.array(y_val), 'Prediction':y_pred_val})\n",
    "result_df"
   ]
  },
  {
   "cell_type": "code",
   "execution_count": 59,
   "metadata": {},
   "outputs": [
    {
     "data": {
      "text/html": [
       "<div>\n",
       "<style scoped>\n",
       "    .dataframe tbody tr th:only-of-type {\n",
       "        vertical-align: middle;\n",
       "    }\n",
       "\n",
       "    .dataframe tbody tr th {\n",
       "        vertical-align: top;\n",
       "    }\n",
       "\n",
       "    .dataframe thead th {\n",
       "        text-align: right;\n",
       "    }\n",
       "</style>\n",
       "<table border=\"1\" class=\"dataframe\">\n",
       "  <thead>\n",
       "    <tr style=\"text-align: right;\">\n",
       "      <th></th>\n",
       "      <th>Model</th>\n",
       "      <th>R^2</th>\n",
       "      <th>Adjusted R^2</th>\n",
       "      <th>MAE</th>\n",
       "      <th>MSE</th>\n",
       "      <th>RMSE</th>\n",
       "    </tr>\n",
       "  </thead>\n",
       "  <tbody>\n",
       "    <tr>\n",
       "      <th>0</th>\n",
       "      <td>XGBoost Regressor</td>\n",
       "      <td>0.868303</td>\n",
       "      <td>0.867252</td>\n",
       "      <td>254.051</td>\n",
       "      <td>323540</td>\n",
       "      <td>568.806</td>\n",
       "    </tr>\n",
       "  </tbody>\n",
       "</table>\n",
       "</div>"
      ],
      "text/plain": [
       "               Model       R^2 Adjusted R^2      MAE     MSE     RMSE\n",
       "0  XGBoost Regressor  0.868303     0.867252  254.051  323540  568.806"
      ]
     },
     "execution_count": 59,
     "metadata": {},
     "output_type": "execute_result"
    }
   ],
   "source": [
    "# Store results as dataframe\n",
    "xgb_dict = {'Model':'XGBoost Regressor',\n",
    "          'R^2':metrics.r2_score(y_val, y_pred_val),\n",
    "          'Adjusted R^2':(1 - (1-metrics.r2_score(y_val, y_pred_val))*(len(y_val)-1)/(len(y_val)-X_val.shape[1]-1)),\n",
    "          'MAE':metrics.mean_absolute_error(y_val, y_pred_val),\n",
    "          'MSE':metrics.mean_squared_error(y_val, y_pred_val),\n",
    "          'RMSE':np.sqrt(metrics.mean_squared_error(y_val, y_pred_val))}\n",
    "\n",
    "# Display model performance metrics\n",
    "xgb_metrics = pd.DataFrame.from_dict(xgb_dict, orient = 'index').T\n",
    "xgb_metrics"
   ]
  },
  {
   "cell_type": "code",
   "execution_count": 60,
   "metadata": {},
   "outputs": [
    {
     "data": {
      "text/html": [
       "<div>\n",
       "<style scoped>\n",
       "    .dataframe tbody tr th:only-of-type {\n",
       "        vertical-align: middle;\n",
       "    }\n",
       "\n",
       "    .dataframe tbody tr th {\n",
       "        vertical-align: top;\n",
       "    }\n",
       "\n",
       "    .dataframe thead th {\n",
       "        text-align: right;\n",
       "    }\n",
       "</style>\n",
       "<table border=\"1\" class=\"dataframe\">\n",
       "  <thead>\n",
       "    <tr style=\"text-align: right;\">\n",
       "      <th></th>\n",
       "      <th>Feature</th>\n",
       "      <th>Importance Score</th>\n",
       "    </tr>\n",
       "  </thead>\n",
       "  <tbody>\n",
       "    <tr>\n",
       "      <th>4</th>\n",
       "      <td>SDSH DAP</td>\n",
       "      <td>0.539875</td>\n",
       "    </tr>\n",
       "    <tr>\n",
       "      <th>3</th>\n",
       "      <td>Previous Hour Price</td>\n",
       "      <td>0.161987</td>\n",
       "    </tr>\n",
       "    <tr>\n",
       "      <th>7</th>\n",
       "      <td>P24HA Price</td>\n",
       "      <td>0.106608</td>\n",
       "    </tr>\n",
       "    <tr>\n",
       "      <th>5</th>\n",
       "      <td>SDSH Volume</td>\n",
       "      <td>0.0496643</td>\n",
       "    </tr>\n",
       "    <tr>\n",
       "      <th>6</th>\n",
       "      <td>Sgn0 VolumeDir</td>\n",
       "      <td>0.0235596</td>\n",
       "    </tr>\n",
       "    <tr>\n",
       "      <th>11</th>\n",
       "      <td>month</td>\n",
       "      <td>0.020186</td>\n",
       "    </tr>\n",
       "    <tr>\n",
       "      <th>0</th>\n",
       "      <td>Hour</td>\n",
       "      <td>0.0186311</td>\n",
       "    </tr>\n",
       "    <tr>\n",
       "      <th>8</th>\n",
       "      <td>PDSH Price</td>\n",
       "      <td>0.0176653</td>\n",
       "    </tr>\n",
       "    <tr>\n",
       "      <th>2</th>\n",
       "      <td>Is Working Day</td>\n",
       "      <td>0.016336</td>\n",
       "    </tr>\n",
       "    <tr>\n",
       "      <th>9</th>\n",
       "      <td>PWSH Price</td>\n",
       "      <td>0.0162697</td>\n",
       "    </tr>\n",
       "    <tr>\n",
       "      <th>1</th>\n",
       "      <td>Weekday</td>\n",
       "      <td>0.0152333</td>\n",
       "    </tr>\n",
       "    <tr>\n",
       "      <th>10</th>\n",
       "      <td>PWA Price</td>\n",
       "      <td>0.0139845</td>\n",
       "    </tr>\n",
       "  </tbody>\n",
       "</table>\n",
       "</div>"
      ],
      "text/plain": [
       "                Feature Importance Score\n",
       "4              SDSH DAP         0.539875\n",
       "3   Previous Hour Price         0.161987\n",
       "7           P24HA Price         0.106608\n",
       "5           SDSH Volume        0.0496643\n",
       "6        Sgn0 VolumeDir        0.0235596\n",
       "11                month         0.020186\n",
       "0                  Hour        0.0186311\n",
       "8            PDSH Price        0.0176653\n",
       "2        Is Working Day         0.016336\n",
       "9            PWSH Price        0.0162697\n",
       "1               Weekday        0.0152333\n",
       "10            PWA Price        0.0139845"
      ]
     },
     "execution_count": 60,
     "metadata": {},
     "output_type": "execute_result"
    }
   ],
   "source": [
    "xgb_features = pd.DataFrame([X_train.columns, best_xgb_reg.feature_importances_]).T\n",
    "xgb_features = xgb_features.rename(columns={0: 'Feature', 1: 'Importance Score'})\n",
    "xgb_features.sort_values(by = 'Importance Score', ascending = False).head(15)"
   ]
  },
  {
   "cell_type": "code",
   "execution_count": 61,
   "metadata": {},
   "outputs": [
    {
     "data": {
      "text/plain": [
       "<AxesSubplot:title={'center':'Feature importance'}, xlabel='F score', ylabel='Features'>"
      ]
     },
     "execution_count": 61,
     "metadata": {},
     "output_type": "execute_result"
    },
    {
     "data": {
      "image/png": "[encoded data removed]",
      "text/plain": [
       "<Figure size 432x288 with 1 Axes>"
      ]
     },
     "metadata": {
      "needs_background": "light"
     },
     "output_type": "display_data"
    }
   ],
   "source": [
    "plot_importance(best_xgb_reg, max_num_features = 10)"
   ]
  },
  {
   "cell_type": "code",
   "execution_count": null,
   "metadata": {},
   "outputs": [],
   "source": []
  },
  {
   "cell_type": "code",
   "execution_count": null,
   "metadata": {},
   "outputs": [],
   "source": []
  },
  {
   "cell_type": "markdown",
   "metadata": {},
   "source": [
    "## On test unseen data"
   ]
  },
  {
   "cell_type": "code",
   "execution_count": 62,
   "metadata": {},
   "outputs": [
    {
     "data": {
      "text/html": [
       "<div>\n",
       "<style scoped>\n",
       "    .dataframe tbody tr th:only-of-type {\n",
       "        vertical-align: middle;\n",
       "    }\n",
       "\n",
       "    .dataframe tbody tr th {\n",
       "        vertical-align: top;\n",
       "    }\n",
       "\n",
       "    .dataframe thead th {\n",
       "        text-align: right;\n",
       "    }\n",
       "</style>\n",
       "<table border=\"1\" class=\"dataframe\">\n",
       "  <thead>\n",
       "    <tr style=\"text-align: right;\">\n",
       "      <th></th>\n",
       "      <th>Hour</th>\n",
       "      <th>Weekday</th>\n",
       "      <th>Is Working Day</th>\n",
       "      <th>Previous Hour Price</th>\n",
       "      <th>SDSH DAP</th>\n",
       "      <th>SDSH Volume</th>\n",
       "      <th>Sgn0 VolumeDir</th>\n",
       "      <th>P24HA Price</th>\n",
       "      <th>PDSH Price</th>\n",
       "      <th>PWSH Price</th>\n",
       "      <th>PWA Price</th>\n",
       "      <th>month</th>\n",
       "    </tr>\n",
       "  </thead>\n",
       "  <tbody>\n",
       "    <tr>\n",
       "      <th>0</th>\n",
       "      <td>1</td>\n",
       "      <td>5</td>\n",
       "      <td>5</td>\n",
       "      <td>1501.96</td>\n",
       "      <td>1501.70</td>\n",
       "      <td>1563.7</td>\n",
       "      <td>-50.6</td>\n",
       "      <td>1622.125000</td>\n",
       "      <td>1513.71</td>\n",
       "      <td>593.880</td>\n",
       "      <td>1458.818810</td>\n",
       "      <td>11</td>\n",
       "    </tr>\n",
       "    <tr>\n",
       "      <th>1</th>\n",
       "      <td>2</td>\n",
       "      <td>5</td>\n",
       "      <td>5</td>\n",
       "      <td>1475.95</td>\n",
       "      <td>1508.89</td>\n",
       "      <td>1522.3</td>\n",
       "      <td>-41.4</td>\n",
       "      <td>1620.551667</td>\n",
       "      <td>1487.63</td>\n",
       "      <td>1004.500</td>\n",
       "      <td>1464.069226</td>\n",
       "      <td>11</td>\n",
       "    </tr>\n",
       "    <tr>\n",
       "      <th>2</th>\n",
       "      <td>3</td>\n",
       "      <td>5</td>\n",
       "      <td>5</td>\n",
       "      <td>1479.86</td>\n",
       "      <td>1379.23</td>\n",
       "      <td>1468.5</td>\n",
       "      <td>-53.8</td>\n",
       "      <td>1620.227917</td>\n",
       "      <td>1368.59</td>\n",
       "      <td>1025.598</td>\n",
       "      <td>1466.898750</td>\n",
       "      <td>11</td>\n",
       "    </tr>\n",
       "    <tr>\n",
       "      <th>3</th>\n",
       "      <td>4</td>\n",
       "      <td>5</td>\n",
       "      <td>5</td>\n",
       "      <td>1484.50</td>\n",
       "      <td>1335.80</td>\n",
       "      <td>1443.3</td>\n",
       "      <td>-25.2</td>\n",
       "      <td>1625.057500</td>\n",
       "      <td>1321.87</td>\n",
       "      <td>1046.696</td>\n",
       "      <td>1469.630310</td>\n",
       "      <td>11</td>\n",
       "    </tr>\n",
       "    <tr>\n",
       "      <th>4</th>\n",
       "      <td>5</td>\n",
       "      <td>5</td>\n",
       "      <td>5</td>\n",
       "      <td>1318.03</td>\n",
       "      <td>1329.68</td>\n",
       "      <td>1445.1</td>\n",
       "      <td>1.8</td>\n",
       "      <td>1624.897500</td>\n",
       "      <td>1317.43</td>\n",
       "      <td>1067.794</td>\n",
       "      <td>1471.245393</td>\n",
       "      <td>11</td>\n",
       "    </tr>\n",
       "  </tbody>\n",
       "</table>\n",
       "</div>"
      ],
      "text/plain": [
       "   Hour  Weekday  Is Working Day  Previous Hour Price  SDSH DAP  SDSH Volume  \\\n",
       "0     1        5               5              1501.96   1501.70       1563.7   \n",
       "1     2        5               5              1475.95   1508.89       1522.3   \n",
       "2     3        5               5              1479.86   1379.23       1468.5   \n",
       "3     4        5               5              1484.50   1335.80       1443.3   \n",
       "4     5        5               5              1318.03   1329.68       1445.1   \n",
       "\n",
       "   Sgn0 VolumeDir  P24HA Price  PDSH Price  PWSH Price    PWA Price  month  \n",
       "0           -50.6  1622.125000     1513.71     593.880  1458.818810     11  \n",
       "1           -41.4  1620.551667     1487.63    1004.500  1464.069226     11  \n",
       "2           -53.8  1620.227917     1368.59    1025.598  1466.898750     11  \n",
       "3           -25.2  1625.057500     1321.87    1046.696  1469.630310     11  \n",
       "4             1.8  1624.897500     1317.43    1067.794  1471.245393     11  "
      ]
     },
     "execution_count": 62,
     "metadata": {},
     "output_type": "execute_result"
    }
   ],
   "source": [
    "test=test_df.copy()\n",
    "test = test.drop({'Date','target'},axis=1)\n",
    "test.head()"
   ]
  },
  {
   "cell_type": "code",
   "execution_count": 63,
   "metadata": {},
   "outputs": [
    {
     "data": {
      "text/plain": [
       "array([ 9122.054,  9584.472,  9584.472,  9584.472,  9869.824, 10104.229,\n",
       "        9584.472, 10104.229, 10104.229, 10104.229, 10104.229,  9584.472,\n",
       "        9584.472, 10104.229,  9584.472,  9584.472,  9584.472, 10104.229,\n",
       "        9584.472,  9584.472,  9584.472,  9584.472,  9584.472,  9584.472,\n",
       "        9122.054,  9584.472,  9584.472,  9584.472, 10104.229, 10104.229,\n",
       "       10104.229, 10104.229, 10104.229, 10104.229, 10104.229,  9584.472,\n",
       "        9584.472, 10104.229,  9584.472,  9584.472,  9584.472, 10104.229,\n",
       "        9584.472,  9584.472,  9584.472,  9584.472,  9584.472,  9584.472,\n",
       "        9122.054,  9584.472,  9584.472,  9584.472,  9765.505, 10104.229,\n",
       "        9584.472, 10104.229, 10104.229, 10104.229, 10104.229,  9584.472,\n",
       "        9584.472, 10104.229, 10104.229,  9584.472,  9584.472, 10104.229,\n",
       "        9584.472,  9584.472,  9584.472,  9584.472,  9584.472,  9584.472,\n",
       "        9122.054,  9584.472,  9584.472,  9584.472,  9843.376,  9584.472,\n",
       "        9584.472, 10104.229, 10104.229, 10104.229, 10104.229,  9584.472,\n",
       "       10104.229,  9584.472,  9844.112,  9584.472, 10104.229, 10104.229,\n",
       "        9584.472,  9584.472,  9584.472,  9584.472,  9584.472,  9584.472],\n",
       "      dtype=float32)"
      ]
     },
     "execution_count": 63,
     "metadata": {},
     "output_type": "execute_result"
    }
   ],
   "source": [
    "y_pred_test = best_xgb_reg.predict(test)\n",
    "y_pred_test"
   ]
  },
  {
   "cell_type": "code",
   "execution_count": null,
   "metadata": {},
   "outputs": [],
   "source": []
  },
  {
   "cell_type": "code",
   "execution_count": null,
   "metadata": {},
   "outputs": [],
   "source": []
  },
  {
   "cell_type": "markdown",
   "metadata": {},
   "source": [
    " ###  Modeling - LightGBM Regressor"
   ]
  },
  {
   "cell_type": "code",
   "execution_count": 64,
   "metadata": {},
   "outputs": [
    {
     "name": "stdout",
     "output_type": "stream",
     "text": [
      "Fitting 5 folds for each of 540 candidates, totalling 2700 fits\n"
     ]
    },
    {
     "name": "stderr",
     "output_type": "stream",
     "text": [
      "[Parallel(n_jobs=-1)]: Using backend LokyBackend with 4 concurrent workers.\n",
      "[Parallel(n_jobs=-1)]: Done  42 tasks      | elapsed:  1.3min\n",
      "[Parallel(n_jobs=-1)]: Done 192 tasks      | elapsed:  5.3min\n",
      "[Parallel(n_jobs=-1)]: Done 442 tasks      | elapsed: 12.1min\n",
      "[Parallel(n_jobs=-1)]: Done 792 tasks      | elapsed: 22.5min\n",
      "[Parallel(n_jobs=-1)]: Done 1242 tasks      | elapsed: 34.8min\n",
      "[Parallel(n_jobs=-1)]: Done 1792 tasks      | elapsed: 51.0min\n",
      "[Parallel(n_jobs=-1)]: Done 2442 tasks      | elapsed: 70.2min\n",
      "[Parallel(n_jobs=-1)]: Done 2700 out of 2700 | elapsed: 86.9min finished\n"
     ]
    },
    {
     "name": "stdout",
     "output_type": "stream",
     "text": [
      "[LightGBM] [Warning] feature_fraction is set=0.8, colsample_bytree=1.0 will be ignored. Current value: feature_fraction=0.8\n",
      "[LightGBM] [Warning] min_data_in_leaf is set=50, min_child_samples=20 will be ignored. Current value: min_data_in_leaf=50\n",
      "[LightGBM] [Warning] bagging_fraction is set=0.8, subsample=1.0 will be ignored. Current value: bagging_fraction=0.8\n"
     ]
    },
    {
     "data": {
      "text/plain": [
       "GridSearchCV(cv=5, estimator=LGBMRegressor(num_iterations=1200, seed=42),\n",
       "             n_jobs=-1,\n",
       "             param_grid={'bagging_fraction': [0.8, 0.9, 1],\n",
       "                         'feature_fraction': [0.8, 0.9, 1],\n",
       "                         'learning_rate': [0.01, 0.05, 0.1, 0.2],\n",
       "                         'max_depth': [9, 10, 11, 12, 13], 'metric': ['rmse'],\n",
       "                         'min_data_in_leaf': [20, 50, 80]},\n",
       "             verbose=1)"
      ]
     },
     "execution_count": 64,
     "metadata": {},
     "output_type": "execute_result"
    }
   ],
   "source": [
    "gbm_param_grid = {'metric': ['rmse'],\n",
    "                  'max_depth': [9,10,11,12,13], \n",
    "                  'bagging_fraction': [0.8, 0.9, 1],\n",
    "                  'feature_fraction': [0.8, 0.9, 1],\n",
    "                  'min_data_in_leaf': [20,50,80],\n",
    "                  'learning_rate': [0.01,0.05,0.1,0.2]}\n",
    "\n",
    "light_gbm_reg = lgb.LGBMRegressor(seed = 42, num_iterations = 1200)\n",
    "\n",
    "light_gbm_grid = GridSearchCV(estimator = light_gbm_reg, param_grid = gbm_param_grid, cv=5, n_jobs=-1, verbose=1) \n",
    "\n",
    "light_gbm_grid.fit(X_train, y_train)"
   ]
  },
  {
   "cell_type": "code",
   "execution_count": 65,
   "metadata": {},
   "outputs": [
    {
     "data": {
      "text/plain": [
       "{'bagging_fraction': 0.8,\n",
       " 'feature_fraction': 0.8,\n",
       " 'learning_rate': 0.01,\n",
       " 'max_depth': 10,\n",
       " 'metric': 'rmse',\n",
       " 'min_data_in_leaf': 50}"
      ]
     },
     "execution_count": 65,
     "metadata": {},
     "output_type": "execute_result"
    }
   ],
   "source": [
    "light_gbm_grid.best_params_"
   ]
  },
  {
   "cell_type": "code",
   "execution_count": 66,
   "metadata": {},
   "outputs": [],
   "source": [
    "best_light_gbm = light_gbm_grid.best_estimator_\n",
    "y_pred_val = best_light_gbm.predict(X_val)"
   ]
  },
  {
   "cell_type": "code",
   "execution_count": 67,
   "metadata": {},
   "outputs": [
    {
     "data": {
      "text/html": [
       "<div>\n",
       "<style scoped>\n",
       "    .dataframe tbody tr th:only-of-type {\n",
       "        vertical-align: middle;\n",
       "    }\n",
       "\n",
       "    .dataframe tbody tr th {\n",
       "        vertical-align: top;\n",
       "    }\n",
       "\n",
       "    .dataframe thead th {\n",
       "        text-align: right;\n",
       "    }\n",
       "</style>\n",
       "<table border=\"1\" class=\"dataframe\">\n",
       "  <thead>\n",
       "    <tr style=\"text-align: right;\">\n",
       "      <th></th>\n",
       "      <th>Actual</th>\n",
       "      <th>Prediction</th>\n",
       "    </tr>\n",
       "  </thead>\n",
       "  <tbody>\n",
       "    <tr>\n",
       "      <th>0</th>\n",
       "      <td>2041.18</td>\n",
       "      <td>2001.412918</td>\n",
       "    </tr>\n",
       "    <tr>\n",
       "      <th>1</th>\n",
       "      <td>1475.46</td>\n",
       "      <td>1674.111177</td>\n",
       "    </tr>\n",
       "    <tr>\n",
       "      <th>2</th>\n",
       "      <td>1579.12</td>\n",
       "      <td>1577.083525</td>\n",
       "    </tr>\n",
       "    <tr>\n",
       "      <th>3</th>\n",
       "      <td>1552.67</td>\n",
       "      <td>1589.277105</td>\n",
       "    </tr>\n",
       "    <tr>\n",
       "      <th>4</th>\n",
       "      <td>1721.17</td>\n",
       "      <td>1790.264675</td>\n",
       "    </tr>\n",
       "    <tr>\n",
       "      <th>...</th>\n",
       "      <td>...</td>\n",
       "      <td>...</td>\n",
       "    </tr>\n",
       "    <tr>\n",
       "      <th>1512</th>\n",
       "      <td>2441.90</td>\n",
       "      <td>2302.343560</td>\n",
       "    </tr>\n",
       "    <tr>\n",
       "      <th>1513</th>\n",
       "      <td>1685.98</td>\n",
       "      <td>1622.775586</td>\n",
       "    </tr>\n",
       "    <tr>\n",
       "      <th>1514</th>\n",
       "      <td>2535.42</td>\n",
       "      <td>2373.801260</td>\n",
       "    </tr>\n",
       "    <tr>\n",
       "      <th>1515</th>\n",
       "      <td>2100.73</td>\n",
       "      <td>2041.414697</td>\n",
       "    </tr>\n",
       "    <tr>\n",
       "      <th>1516</th>\n",
       "      <td>9263.34</td>\n",
       "      <td>8836.743308</td>\n",
       "    </tr>\n",
       "  </tbody>\n",
       "</table>\n",
       "<p>1517 rows × 2 columns</p>\n",
       "</div>"
      ],
      "text/plain": [
       "       Actual   Prediction\n",
       "0     2041.18  2001.412918\n",
       "1     1475.46  1674.111177\n",
       "2     1579.12  1577.083525\n",
       "3     1552.67  1589.277105\n",
       "4     1721.17  1790.264675\n",
       "...       ...          ...\n",
       "1512  2441.90  2302.343560\n",
       "1513  1685.98  1622.775586\n",
       "1514  2535.42  2373.801260\n",
       "1515  2100.73  2041.414697\n",
       "1516  9263.34  8836.743308\n",
       "\n",
       "[1517 rows x 2 columns]"
      ]
     },
     "execution_count": 67,
     "metadata": {},
     "output_type": "execute_result"
    }
   ],
   "source": [
    "result_df = pd.DataFrame({'Actual':np.array(y_val), 'Prediction':y_pred_val})\n",
    "result_df"
   ]
  },
  {
   "cell_type": "code",
   "execution_count": 68,
   "metadata": {},
   "outputs": [
    {
     "data": {
      "text/html": [
       "<div>\n",
       "<style scoped>\n",
       "    .dataframe tbody tr th:only-of-type {\n",
       "        vertical-align: middle;\n",
       "    }\n",
       "\n",
       "    .dataframe tbody tr th {\n",
       "        vertical-align: top;\n",
       "    }\n",
       "\n",
       "    .dataframe thead th {\n",
       "        text-align: right;\n",
       "    }\n",
       "</style>\n",
       "<table border=\"1\" class=\"dataframe\">\n",
       "  <thead>\n",
       "    <tr style=\"text-align: right;\">\n",
       "      <th></th>\n",
       "      <th>Model</th>\n",
       "      <th>R^2</th>\n",
       "      <th>Adjusted R^2</th>\n",
       "      <th>MAE</th>\n",
       "      <th>MSE</th>\n",
       "      <th>RMSE</th>\n",
       "    </tr>\n",
       "  </thead>\n",
       "  <tbody>\n",
       "    <tr>\n",
       "      <th>0</th>\n",
       "      <td>LightGBM Regressor</td>\n",
       "      <td>0.86512</td>\n",
       "      <td>0.864043</td>\n",
       "      <td>260.231</td>\n",
       "      <td>331361</td>\n",
       "      <td>575.64</td>\n",
       "    </tr>\n",
       "  </tbody>\n",
       "</table>\n",
       "</div>"
      ],
      "text/plain": [
       "                Model      R^2 Adjusted R^2      MAE     MSE    RMSE\n",
       "0  LightGBM Regressor  0.86512     0.864043  260.231  331361  575.64"
      ]
     },
     "execution_count": 68,
     "metadata": {},
     "output_type": "execute_result"
    }
   ],
   "source": [
    "# Store results as dataframe\n",
    "lgbm_dict = {'Model':'LightGBM Regressor',\n",
    "          'R^2':metrics.r2_score(y_val, y_pred_val),\n",
    "          'Adjusted R^2':(1 - (1-metrics.r2_score(y_val, y_pred_val))*(len(y_val)-1)/(len(y_val)-X_val.shape[1]-1)),\n",
    "          'MAE':metrics.mean_absolute_error(y_val, y_pred_val),\n",
    "          'MSE':metrics.mean_squared_error(y_val, y_pred_val),\n",
    "          'RMSE':np.sqrt(metrics.mean_squared_error(y_val, y_pred_val))}\n",
    "\n",
    "lgbm_metrics = pd.DataFrame.from_dict(lgbm_dict, orient = 'index').T\n",
    "\n",
    "# Show model performance metrics\n",
    "lgbm_metrics"
   ]
  },
  {
   "cell_type": "code",
   "execution_count": 69,
   "metadata": {},
   "outputs": [
    {
     "data": {
      "text/html": [
       "<div>\n",
       "<style scoped>\n",
       "    .dataframe tbody tr th:only-of-type {\n",
       "        vertical-align: middle;\n",
       "    }\n",
       "\n",
       "    .dataframe tbody tr th {\n",
       "        vertical-align: top;\n",
       "    }\n",
       "\n",
       "    .dataframe thead th {\n",
       "        text-align: right;\n",
       "    }\n",
       "</style>\n",
       "<table border=\"1\" class=\"dataframe\">\n",
       "  <thead>\n",
       "    <tr style=\"text-align: right;\">\n",
       "      <th></th>\n",
       "      <th>Feature</th>\n",
       "      <th>Importance Score</th>\n",
       "    </tr>\n",
       "  </thead>\n",
       "  <tbody>\n",
       "    <tr>\n",
       "      <th>4</th>\n",
       "      <td>SDSH DAP</td>\n",
       "      <td>5520</td>\n",
       "    </tr>\n",
       "    <tr>\n",
       "      <th>3</th>\n",
       "      <td>Previous Hour Price</td>\n",
       "      <td>5294</td>\n",
       "    </tr>\n",
       "    <tr>\n",
       "      <th>5</th>\n",
       "      <td>SDSH Volume</td>\n",
       "      <td>3240</td>\n",
       "    </tr>\n",
       "    <tr>\n",
       "      <th>7</th>\n",
       "      <td>P24HA Price</td>\n",
       "      <td>3211</td>\n",
       "    </tr>\n",
       "    <tr>\n",
       "      <th>6</th>\n",
       "      <td>Sgn0 VolumeDir</td>\n",
       "      <td>2827</td>\n",
       "    </tr>\n",
       "    <tr>\n",
       "      <th>8</th>\n",
       "      <td>PDSH Price</td>\n",
       "      <td>2485</td>\n",
       "    </tr>\n",
       "    <tr>\n",
       "      <th>9</th>\n",
       "      <td>PWSH Price</td>\n",
       "      <td>2096</td>\n",
       "    </tr>\n",
       "    <tr>\n",
       "      <th>10</th>\n",
       "      <td>PWA Price</td>\n",
       "      <td>1737</td>\n",
       "    </tr>\n",
       "    <tr>\n",
       "      <th>0</th>\n",
       "      <td>Hour</td>\n",
       "      <td>1718</td>\n",
       "    </tr>\n",
       "    <tr>\n",
       "      <th>11</th>\n",
       "      <td>month</td>\n",
       "      <td>1533</td>\n",
       "    </tr>\n",
       "    <tr>\n",
       "      <th>1</th>\n",
       "      <td>Weekday</td>\n",
       "      <td>558</td>\n",
       "    </tr>\n",
       "    <tr>\n",
       "      <th>2</th>\n",
       "      <td>Is Working Day</td>\n",
       "      <td>394</td>\n",
       "    </tr>\n",
       "  </tbody>\n",
       "</table>\n",
       "</div>"
      ],
      "text/plain": [
       "                Feature Importance Score\n",
       "4              SDSH DAP             5520\n",
       "3   Previous Hour Price             5294\n",
       "5           SDSH Volume             3240\n",
       "7           P24HA Price             3211\n",
       "6        Sgn0 VolumeDir             2827\n",
       "8            PDSH Price             2485\n",
       "9            PWSH Price             2096\n",
       "10            PWA Price             1737\n",
       "0                  Hour             1718\n",
       "11                month             1533\n",
       "1               Weekday              558\n",
       "2        Is Working Day              394"
      ]
     },
     "execution_count": 69,
     "metadata": {},
     "output_type": "execute_result"
    }
   ],
   "source": [
    "lgb_features = pd.DataFrame([X_train.columns, best_light_gbm.feature_importances_]).T\n",
    "lgb_features = lgb_features.rename(columns={0: 'Feature', 1: 'Importance Score'})\n",
    "lgb_features.sort_values(by = 'Importance Score', ascending = False).head(15)"
   ]
  },
  {
   "cell_type": "code",
   "execution_count": 70,
   "metadata": {},
   "outputs": [
    {
     "data": {
      "text/plain": [
       "<AxesSubplot:title={'center':'Feature importance'}, xlabel='Feature importance', ylabel='Features'>"
      ]
     },
     "execution_count": 70,
     "metadata": {},
     "output_type": "execute_result"
    },
    {
     "data": {
      "image/png": "[encoded data removed]",
      "text/plain": [
       "<Figure size 432x288 with 1 Axes>"
      ]
     },
     "metadata": {
      "needs_background": "light"
     },
     "output_type": "display_data"
    }
   ],
   "source": [
    "lgb.plot_importance(best_light_gbm, max_num_features = 10)"
   ]
  },
  {
   "cell_type": "markdown",
   "metadata": {},
   "source": [
    "## On test unseen data"
   ]
  },
  {
   "cell_type": "code",
   "execution_count": 71,
   "metadata": {},
   "outputs": [
    {
     "data": {
      "text/html": [
       "<div>\n",
       "<style scoped>\n",
       "    .dataframe tbody tr th:only-of-type {\n",
       "        vertical-align: middle;\n",
       "    }\n",
       "\n",
       "    .dataframe tbody tr th {\n",
       "        vertical-align: top;\n",
       "    }\n",
       "\n",
       "    .dataframe thead th {\n",
       "        text-align: right;\n",
       "    }\n",
       "</style>\n",
       "<table border=\"1\" class=\"dataframe\">\n",
       "  <thead>\n",
       "    <tr style=\"text-align: right;\">\n",
       "      <th></th>\n",
       "      <th>Hour</th>\n",
       "      <th>Weekday</th>\n",
       "      <th>Is Working Day</th>\n",
       "      <th>Previous Hour Price</th>\n",
       "      <th>SDSH DAP</th>\n",
       "      <th>SDSH Volume</th>\n",
       "      <th>Sgn0 VolumeDir</th>\n",
       "      <th>P24HA Price</th>\n",
       "      <th>PDSH Price</th>\n",
       "      <th>PWSH Price</th>\n",
       "      <th>PWA Price</th>\n",
       "      <th>month</th>\n",
       "    </tr>\n",
       "  </thead>\n",
       "  <tbody>\n",
       "    <tr>\n",
       "      <th>0</th>\n",
       "      <td>1</td>\n",
       "      <td>5</td>\n",
       "      <td>5</td>\n",
       "      <td>1501.96</td>\n",
       "      <td>1501.70</td>\n",
       "      <td>1563.7</td>\n",
       "      <td>-50.6</td>\n",
       "      <td>1622.125000</td>\n",
       "      <td>1513.71</td>\n",
       "      <td>593.880</td>\n",
       "      <td>1458.818810</td>\n",
       "      <td>11</td>\n",
       "    </tr>\n",
       "    <tr>\n",
       "      <th>1</th>\n",
       "      <td>2</td>\n",
       "      <td>5</td>\n",
       "      <td>5</td>\n",
       "      <td>1475.95</td>\n",
       "      <td>1508.89</td>\n",
       "      <td>1522.3</td>\n",
       "      <td>-41.4</td>\n",
       "      <td>1620.551667</td>\n",
       "      <td>1487.63</td>\n",
       "      <td>1004.500</td>\n",
       "      <td>1464.069226</td>\n",
       "      <td>11</td>\n",
       "    </tr>\n",
       "    <tr>\n",
       "      <th>2</th>\n",
       "      <td>3</td>\n",
       "      <td>5</td>\n",
       "      <td>5</td>\n",
       "      <td>1479.86</td>\n",
       "      <td>1379.23</td>\n",
       "      <td>1468.5</td>\n",
       "      <td>-53.8</td>\n",
       "      <td>1620.227917</td>\n",
       "      <td>1368.59</td>\n",
       "      <td>1025.598</td>\n",
       "      <td>1466.898750</td>\n",
       "      <td>11</td>\n",
       "    </tr>\n",
       "    <tr>\n",
       "      <th>3</th>\n",
       "      <td>4</td>\n",
       "      <td>5</td>\n",
       "      <td>5</td>\n",
       "      <td>1484.50</td>\n",
       "      <td>1335.80</td>\n",
       "      <td>1443.3</td>\n",
       "      <td>-25.2</td>\n",
       "      <td>1625.057500</td>\n",
       "      <td>1321.87</td>\n",
       "      <td>1046.696</td>\n",
       "      <td>1469.630310</td>\n",
       "      <td>11</td>\n",
       "    </tr>\n",
       "    <tr>\n",
       "      <th>4</th>\n",
       "      <td>5</td>\n",
       "      <td>5</td>\n",
       "      <td>5</td>\n",
       "      <td>1318.03</td>\n",
       "      <td>1329.68</td>\n",
       "      <td>1445.1</td>\n",
       "      <td>1.8</td>\n",
       "      <td>1624.897500</td>\n",
       "      <td>1317.43</td>\n",
       "      <td>1067.794</td>\n",
       "      <td>1471.245393</td>\n",
       "      <td>11</td>\n",
       "    </tr>\n",
       "  </tbody>\n",
       "</table>\n",
       "</div>"
      ],
      "text/plain": [
       "   Hour  Weekday  Is Working Day  Previous Hour Price  SDSH DAP  SDSH Volume  \\\n",
       "0     1        5               5              1501.96   1501.70       1563.7   \n",
       "1     2        5               5              1475.95   1508.89       1522.3   \n",
       "2     3        5               5              1479.86   1379.23       1468.5   \n",
       "3     4        5               5              1484.50   1335.80       1443.3   \n",
       "4     5        5               5              1318.03   1329.68       1445.1   \n",
       "\n",
       "   Sgn0 VolumeDir  P24HA Price  PDSH Price  PWSH Price    PWA Price  month  \n",
       "0           -50.6  1622.125000     1513.71     593.880  1458.818810     11  \n",
       "1           -41.4  1620.551667     1487.63    1004.500  1464.069226     11  \n",
       "2           -53.8  1620.227917     1368.59    1025.598  1466.898750     11  \n",
       "3           -25.2  1625.057500     1321.87    1046.696  1469.630310     11  \n",
       "4             1.8  1624.897500     1317.43    1067.794  1471.245393     11  "
      ]
     },
     "execution_count": 71,
     "metadata": {},
     "output_type": "execute_result"
    }
   ],
   "source": [
    "test=test_df.copy()\n",
    "test = test.drop({'Date','target'},axis=1)\n",
    "test.head()"
   ]
  },
  {
   "cell_type": "code",
   "execution_count": 72,
   "metadata": {},
   "outputs": [
    {
     "data": {
      "text/plain": [
       "array([ 9837.34644125, 10401.04728367, 10401.04728367, 10401.04728367,\n",
       "       10676.23923424, 10782.5413427 , 10401.04728367, 10782.5413427 ,\n",
       "       10782.5413427 , 10782.5413427 , 10782.5413427 , 10401.04728367,\n",
       "       10401.04728367, 10782.5413427 , 10401.04728367, 10401.04728367,\n",
       "       10401.04728367, 10782.5413427 , 10401.04728367, 10401.04728367,\n",
       "       10401.04728367, 10401.04728367, 10401.04728367, 10401.04728367,\n",
       "        9837.34644125, 10401.04728367, 10401.04728367, 10401.04728367,\n",
       "       10782.5413427 , 10782.5413427 , 10782.5413427 , 10782.5413427 ,\n",
       "       10782.5413427 , 10782.5413427 , 10782.5413427 , 10401.04728367,\n",
       "       10401.04728367, 10782.5413427 , 10401.04728367, 10401.04728367,\n",
       "       10401.04728367, 10782.5413427 , 10401.04728367, 10401.04728367,\n",
       "       10401.04728367, 10401.04728367, 10401.04728367, 10401.04728367,\n",
       "        9702.42500701, 10266.12584944, 10266.12584944, 10266.12584944,\n",
       "       10310.96077772, 10652.08479551, 10266.12584944, 10652.08479551,\n",
       "       10652.08479551, 10652.08479551, 10652.08479551, 10266.12584944,\n",
       "       10266.12584944, 10652.08479551, 10652.08479551, 10266.12584944,\n",
       "       10266.12584944, 10652.08479551, 10266.12584944, 10266.12584944,\n",
       "       10266.12584944, 10266.12584944, 10266.12584944, 10266.12584944,\n",
       "        9837.34644125, 10401.04728367, 10401.04728367, 10401.04728367,\n",
       "       10739.98233686, 10401.04728367, 10401.04728367, 10782.5413427 ,\n",
       "       10782.5413427 , 10782.5413427 , 10782.5413427 , 10401.04728367,\n",
       "       10782.5413427 , 10401.04728367, 10774.21362338, 10401.04728367,\n",
       "       10782.5413427 , 10782.5413427 , 10401.04728367, 10401.04728367,\n",
       "       10401.04728367, 10401.04728367, 10401.04728367, 10401.04728367])"
      ]
     },
     "execution_count": 72,
     "metadata": {},
     "output_type": "execute_result"
    }
   ],
   "source": [
    "y_pred_test = best_light_gbm.predict(test)\n",
    "y_pred_test"
   ]
  },
  {
   "cell_type": "markdown",
   "metadata": {},
   "source": [
    "### Modeling - CatBoost Regressor"
   ]
  },
  {
   "cell_type": "code",
   "execution_count": 73,
   "metadata": {},
   "outputs": [],
   "source": [
    "# initialize Pool\n",
    "train_pool = Pool(X_train, y_train)\n",
    "test_pool = Pool(X_val)"
   ]
  },
  {
   "cell_type": "code",
   "execution_count": 74,
   "metadata": {},
   "outputs": [],
   "source": [
    "catboost_param_grid = {'learning_rate': [0.03, 0.1, 0.15],\n",
    "                        'depth': [4,6,8,9,10,11],\n",
    "                        'l2_leaf_reg': [1, 3, 5]}"
   ]
  },
  {
   "cell_type": "code",
   "execution_count": 75,
   "metadata": {},
   "outputs": [
    {
     "name": "stdout",
     "output_type": "stream",
     "text": [
      "Fitting 5 folds for each of 54 candidates, totalling 270 fits\n"
     ]
    },
    {
     "name": "stderr",
     "output_type": "stream",
     "text": [
      "[Parallel(n_jobs=-1)]: Using backend LokyBackend with 4 concurrent workers.\n",
      "[Parallel(n_jobs=-1)]: Done  33 tasks      | elapsed:   33.6s\n",
      "[Parallel(n_jobs=-1)]: Done 154 tasks      | elapsed:  2.1min\n",
      "[Parallel(n_jobs=-1)]: Done 270 out of 270 | elapsed: 10.9min finished\n"
     ]
    },
    {
     "name": "stdout",
     "output_type": "stream",
     "text": [
      "0:\tlearn: 1487.9774811\ttotal: 148ms\tremaining: 14.6s\n",
      "1:\tlearn: 1390.6373648\ttotal: 159ms\tremaining: 7.79s\n",
      "2:\tlearn: 1297.3789232\ttotal: 181ms\tremaining: 5.86s\n",
      "3:\tlearn: 1211.0552504\ttotal: 192ms\tremaining: 4.6s\n",
      "4:\tlearn: 1142.0989843\ttotal: 206ms\tremaining: 3.92s\n",
      "5:\tlearn: 1077.5277645\ttotal: 215ms\tremaining: 3.36s\n",
      "6:\tlearn: 1018.2272816\ttotal: 219ms\tremaining: 2.91s\n",
      "7:\tlearn: 968.7639380\ttotal: 224ms\tremaining: 2.58s\n",
      "8:\tlearn: 923.1686295\ttotal: 229ms\tremaining: 2.31s\n",
      "9:\tlearn: 882.4654694\ttotal: 233ms\tremaining: 2.1s\n",
      "10:\tlearn: 846.3112922\ttotal: 238ms\tremaining: 1.93s\n",
      "11:\tlearn: 816.0526299\ttotal: 243ms\tremaining: 1.78s\n",
      "12:\tlearn: 786.2249045\ttotal: 247ms\tremaining: 1.66s\n",
      "13:\tlearn: 759.6269215\ttotal: 252ms\tremaining: 1.55s\n",
      "14:\tlearn: 737.2931715\ttotal: 257ms\tremaining: 1.46s\n",
      "15:\tlearn: 717.4082110\ttotal: 262ms\tremaining: 1.37s\n",
      "16:\tlearn: 700.9418595\ttotal: 266ms\tremaining: 1.3s\n",
      "17:\tlearn: 684.6668707\ttotal: 271ms\tremaining: 1.24s\n",
      "18:\tlearn: 670.5723992\ttotal: 276ms\tremaining: 1.18s\n",
      "19:\tlearn: 658.3252668\ttotal: 281ms\tremaining: 1.12s\n",
      "20:\tlearn: 645.6359365\ttotal: 286ms\tremaining: 1.07s\n",
      "21:\tlearn: 635.1668858\ttotal: 291ms\tremaining: 1.03s\n",
      "22:\tlearn: 625.0915747\ttotal: 295ms\tremaining: 988ms\n",
      "23:\tlearn: 617.2142764\ttotal: 300ms\tremaining: 950ms\n",
      "24:\tlearn: 610.1806529\ttotal: 305ms\tremaining: 915ms\n",
      "25:\tlearn: 603.1352436\ttotal: 310ms\tremaining: 882ms\n",
      "26:\tlearn: 596.3915141\ttotal: 317ms\tremaining: 857ms\n",
      "27:\tlearn: 591.6553952\ttotal: 475ms\tremaining: 1.22s\n",
      "28:\tlearn: 586.7867270\ttotal: 486ms\tremaining: 1.19s\n",
      "29:\tlearn: 582.1589919\ttotal: 495ms\tremaining: 1.15s\n",
      "30:\tlearn: 578.3192190\ttotal: 544ms\tremaining: 1.21s\n",
      "31:\tlearn: 574.5517055\ttotal: 555ms\tremaining: 1.18s\n",
      "32:\tlearn: 571.4360654\ttotal: 560ms\tremaining: 1.14s\n",
      "33:\tlearn: 568.4388225\ttotal: 566ms\tremaining: 1.1s\n",
      "34:\tlearn: 564.9583891\ttotal: 571ms\tremaining: 1.06s\n",
      "35:\tlearn: 562.7574959\ttotal: 576ms\tremaining: 1.02s\n",
      "36:\tlearn: 559.6384655\ttotal: 581ms\tremaining: 990ms\n",
      "37:\tlearn: 556.8423597\ttotal: 586ms\tremaining: 956ms\n",
      "38:\tlearn: 555.0084076\ttotal: 591ms\tremaining: 924ms\n",
      "39:\tlearn: 553.7584032\ttotal: 595ms\tremaining: 893ms\n",
      "40:\tlearn: 551.3419399\ttotal: 602ms\tremaining: 867ms\n",
      "41:\tlearn: 549.4286365\ttotal: 608ms\tremaining: 840ms\n",
      "42:\tlearn: 547.0108806\ttotal: 613ms\tremaining: 813ms\n",
      "43:\tlearn: 544.9145165\ttotal: 620ms\tremaining: 789ms\n",
      "44:\tlearn: 542.7934708\ttotal: 628ms\tremaining: 768ms\n",
      "45:\tlearn: 541.4402781\ttotal: 639ms\tremaining: 750ms\n",
      "46:\tlearn: 540.1317593\ttotal: 648ms\tremaining: 730ms\n",
      "47:\tlearn: 538.0035723\ttotal: 654ms\tremaining: 708ms\n",
      "48:\tlearn: 536.5649982\ttotal: 659ms\tremaining: 686ms\n",
      "49:\tlearn: 534.5222750\ttotal: 665ms\tremaining: 665ms\n",
      "50:\tlearn: 533.4959390\ttotal: 671ms\tremaining: 645ms\n",
      "51:\tlearn: 532.0310189\ttotal: 677ms\tremaining: 625ms\n",
      "52:\tlearn: 530.2059033\ttotal: 682ms\tremaining: 605ms\n",
      "53:\tlearn: 528.8592249\ttotal: 687ms\tremaining: 585ms\n",
      "54:\tlearn: 527.3111597\ttotal: 692ms\tremaining: 566ms\n",
      "55:\tlearn: 525.9534390\ttotal: 701ms\tremaining: 551ms\n",
      "56:\tlearn: 524.9335989\ttotal: 710ms\tremaining: 536ms\n",
      "57:\tlearn: 524.0783746\ttotal: 715ms\tremaining: 518ms\n",
      "58:\tlearn: 522.9005220\ttotal: 721ms\tremaining: 501ms\n",
      "59:\tlearn: 521.1006216\ttotal: 727ms\tremaining: 485ms\n",
      "60:\tlearn: 520.0364315\ttotal: 731ms\tremaining: 468ms\n",
      "61:\tlearn: 519.1486350\ttotal: 736ms\tremaining: 451ms\n",
      "62:\tlearn: 518.0121214\ttotal: 742ms\tremaining: 436ms\n",
      "63:\tlearn: 516.1798542\ttotal: 746ms\tremaining: 420ms\n",
      "64:\tlearn: 514.6503483\ttotal: 752ms\tremaining: 405ms\n",
      "65:\tlearn: 513.7230537\ttotal: 759ms\tremaining: 391ms\n",
      "66:\tlearn: 512.2353489\ttotal: 765ms\tremaining: 377ms\n",
      "67:\tlearn: 510.9576340\ttotal: 774ms\tremaining: 364ms\n",
      "68:\tlearn: 509.1559423\ttotal: 782ms\tremaining: 351ms\n",
      "69:\tlearn: 507.9085991\ttotal: 790ms\tremaining: 339ms\n",
      "70:\tlearn: 506.5911834\ttotal: 796ms\tremaining: 325ms\n",
      "71:\tlearn: 505.4350853\ttotal: 801ms\tremaining: 311ms\n",
      "72:\tlearn: 504.1871887\ttotal: 806ms\tremaining: 298ms\n",
      "73:\tlearn: 502.8480800\ttotal: 811ms\tremaining: 285ms\n",
      "74:\tlearn: 500.5243334\ttotal: 816ms\tremaining: 272ms\n",
      "75:\tlearn: 499.3421069\ttotal: 821ms\tremaining: 259ms\n",
      "76:\tlearn: 498.7913825\ttotal: 826ms\tremaining: 247ms\n",
      "77:\tlearn: 496.0166261\ttotal: 831ms\tremaining: 234ms\n",
      "78:\tlearn: 494.6556546\ttotal: 835ms\tremaining: 222ms\n",
      "79:\tlearn: 493.2671255\ttotal: 840ms\tremaining: 210ms\n",
      "80:\tlearn: 492.1615379\ttotal: 845ms\tremaining: 198ms\n",
      "81:\tlearn: 491.6479264\ttotal: 851ms\tremaining: 187ms\n",
      "82:\tlearn: 490.8183712\ttotal: 855ms\tremaining: 175ms\n",
      "83:\tlearn: 490.1159736\ttotal: 860ms\tremaining: 164ms\n",
      "84:\tlearn: 489.1683758\ttotal: 865ms\tremaining: 153ms\n",
      "85:\tlearn: 487.6998133\ttotal: 869ms\tremaining: 142ms\n",
      "86:\tlearn: 486.2540341\ttotal: 874ms\tremaining: 131ms\n",
      "87:\tlearn: 484.8381969\ttotal: 879ms\tremaining: 120ms\n",
      "88:\tlearn: 483.8271237\ttotal: 884ms\tremaining: 109ms\n",
      "89:\tlearn: 482.6969214\ttotal: 890ms\tremaining: 98.9ms\n",
      "90:\tlearn: 481.3703303\ttotal: 895ms\tremaining: 88.5ms\n",
      "91:\tlearn: 479.4819526\ttotal: 899ms\tremaining: 78.2ms\n",
      "92:\tlearn: 479.0837676\ttotal: 905ms\tremaining: 68.1ms\n",
      "93:\tlearn: 478.2491357\ttotal: 909ms\tremaining: 58ms\n",
      "94:\tlearn: 476.4012367\ttotal: 914ms\tremaining: 48.1ms\n",
      "95:\tlearn: 475.0058926\ttotal: 919ms\tremaining: 38.3ms\n",
      "96:\tlearn: 474.2601741\ttotal: 924ms\tremaining: 28.6ms\n",
      "97:\tlearn: 473.6085829\ttotal: 928ms\tremaining: 18.9ms\n",
      "98:\tlearn: 472.8397602\ttotal: 933ms\tremaining: 9.42ms\n",
      "99:\tlearn: 471.8093846\ttotal: 937ms\tremaining: 0us\n"
     ]
    },
    {
     "data": {
      "text/plain": [
       "GridSearchCV(cv=5,\n",
       "             estimator=<catboost.core.CatBoostRegressor object at 0x000002C95A803730>,\n",
       "             n_jobs=-1,\n",
       "             param_grid={'depth': [4, 6, 8, 9, 10, 11],\n",
       "                         'l2_leaf_reg': [1, 3, 5],\n",
       "                         'learning_rate': [0.03, 0.1, 0.15]},\n",
       "             verbose=2)"
      ]
     },
     "execution_count": 75,
     "metadata": {},
     "output_type": "execute_result"
    }
   ],
   "source": [
    "# Initiate CatBoost regressor instance\n",
    "catboost_reg = CatBoostRegressor(random_seed = 42, iterations=100, loss_function='RMSE')\n",
    "\n",
    "catboost_reg_grid = GridSearchCV(estimator = catboost_reg, param_grid = catboost_param_grid, cv=5, n_jobs=-1, verbose=2) \n",
    "\n",
    "catboost_reg_grid.fit(X_train, y_train)"
   ]
  },
  {
   "cell_type": "code",
   "execution_count": 76,
   "metadata": {},
   "outputs": [
    {
     "data": {
      "text/plain": [
       "{'depth': 6, 'l2_leaf_reg': 5, 'learning_rate': 0.1}"
      ]
     },
     "execution_count": 76,
     "metadata": {},
     "output_type": "execute_result"
    }
   ],
   "source": [
    "catboost_reg_grid.best_params_"
   ]
  },
  {
   "cell_type": "code",
   "execution_count": 77,
   "metadata": {},
   "outputs": [],
   "source": [
    "best_catboost_reg = catboost_reg_grid.best_estimator_\n",
    "\n",
    "# Make prediction\n",
    "y_pred_val = best_catboost_reg.predict(X_val)"
   ]
  },
  {
   "cell_type": "code",
   "execution_count": 78,
   "metadata": {},
   "outputs": [
    {
     "data": {
      "text/html": [
       "<div>\n",
       "<style scoped>\n",
       "    .dataframe tbody tr th:only-of-type {\n",
       "        vertical-align: middle;\n",
       "    }\n",
       "\n",
       "    .dataframe tbody tr th {\n",
       "        vertical-align: top;\n",
       "    }\n",
       "\n",
       "    .dataframe thead th {\n",
       "        text-align: right;\n",
       "    }\n",
       "</style>\n",
       "<table border=\"1\" class=\"dataframe\">\n",
       "  <thead>\n",
       "    <tr style=\"text-align: right;\">\n",
       "      <th></th>\n",
       "      <th>Actual</th>\n",
       "      <th>Prediction</th>\n",
       "    </tr>\n",
       "  </thead>\n",
       "  <tbody>\n",
       "    <tr>\n",
       "      <th>0</th>\n",
       "      <td>2041.18</td>\n",
       "      <td>1991.886371</td>\n",
       "    </tr>\n",
       "    <tr>\n",
       "      <th>1</th>\n",
       "      <td>1475.46</td>\n",
       "      <td>1559.417497</td>\n",
       "    </tr>\n",
       "    <tr>\n",
       "      <th>2</th>\n",
       "      <td>1579.12</td>\n",
       "      <td>1583.507802</td>\n",
       "    </tr>\n",
       "    <tr>\n",
       "      <th>3</th>\n",
       "      <td>1552.67</td>\n",
       "      <td>1552.429959</td>\n",
       "    </tr>\n",
       "    <tr>\n",
       "      <th>4</th>\n",
       "      <td>1721.17</td>\n",
       "      <td>1792.591608</td>\n",
       "    </tr>\n",
       "    <tr>\n",
       "      <th>...</th>\n",
       "      <td>...</td>\n",
       "      <td>...</td>\n",
       "    </tr>\n",
       "    <tr>\n",
       "      <th>1512</th>\n",
       "      <td>2441.90</td>\n",
       "      <td>2212.163340</td>\n",
       "    </tr>\n",
       "    <tr>\n",
       "      <th>1513</th>\n",
       "      <td>1685.98</td>\n",
       "      <td>1704.892736</td>\n",
       "    </tr>\n",
       "    <tr>\n",
       "      <th>1514</th>\n",
       "      <td>2535.42</td>\n",
       "      <td>2440.297084</td>\n",
       "    </tr>\n",
       "    <tr>\n",
       "      <th>1515</th>\n",
       "      <td>2100.73</td>\n",
       "      <td>2188.754206</td>\n",
       "    </tr>\n",
       "    <tr>\n",
       "      <th>1516</th>\n",
       "      <td>9263.34</td>\n",
       "      <td>9126.159892</td>\n",
       "    </tr>\n",
       "  </tbody>\n",
       "</table>\n",
       "<p>1517 rows × 2 columns</p>\n",
       "</div>"
      ],
      "text/plain": [
       "       Actual   Prediction\n",
       "0     2041.18  1991.886371\n",
       "1     1475.46  1559.417497\n",
       "2     1579.12  1583.507802\n",
       "3     1552.67  1552.429959\n",
       "4     1721.17  1792.591608\n",
       "...       ...          ...\n",
       "1512  2441.90  2212.163340\n",
       "1513  1685.98  1704.892736\n",
       "1514  2535.42  2440.297084\n",
       "1515  2100.73  2188.754206\n",
       "1516  9263.34  9126.159892\n",
       "\n",
       "[1517 rows x 2 columns]"
      ]
     },
     "execution_count": 78,
     "metadata": {},
     "output_type": "execute_result"
    }
   ],
   "source": [
    "result_df = pd.DataFrame({'Actual':np.array(y_val), 'Prediction':y_pred_val})\n",
    "result_df"
   ]
  },
  {
   "cell_type": "code",
   "execution_count": 79,
   "metadata": {},
   "outputs": [
    {
     "data": {
      "text/html": [
       "<div>\n",
       "<style scoped>\n",
       "    .dataframe tbody tr th:only-of-type {\n",
       "        vertical-align: middle;\n",
       "    }\n",
       "\n",
       "    .dataframe tbody tr th {\n",
       "        vertical-align: top;\n",
       "    }\n",
       "\n",
       "    .dataframe thead th {\n",
       "        text-align: right;\n",
       "    }\n",
       "</style>\n",
       "<table border=\"1\" class=\"dataframe\">\n",
       "  <thead>\n",
       "    <tr style=\"text-align: right;\">\n",
       "      <th></th>\n",
       "      <th>Model</th>\n",
       "      <th>R^2</th>\n",
       "      <th>Adjusted R^2</th>\n",
       "      <th>MAE</th>\n",
       "      <th>MSE</th>\n",
       "      <th>RMSE</th>\n",
       "    </tr>\n",
       "  </thead>\n",
       "  <tbody>\n",
       "    <tr>\n",
       "      <th>0</th>\n",
       "      <td>CatBoost Regressor</td>\n",
       "      <td>0.879081</td>\n",
       "      <td>0.878116</td>\n",
       "      <td>246.641</td>\n",
       "      <td>297063</td>\n",
       "      <td>545.035</td>\n",
       "    </tr>\n",
       "  </tbody>\n",
       "</table>\n",
       "</div>"
      ],
      "text/plain": [
       "                Model       R^2 Adjusted R^2      MAE     MSE     RMSE\n",
       "0  CatBoost Regressor  0.879081     0.878116  246.641  297063  545.035"
      ]
     },
     "execution_count": 79,
     "metadata": {},
     "output_type": "execute_result"
    }
   ],
   "source": [
    "# Store results as dataframe\n",
    "catboost_dict = {'Model':'CatBoost Regressor',\n",
    "          'R^2':metrics.r2_score(y_val, y_pred_val),\n",
    "          'Adjusted R^2':(1 - (1-metrics.r2_score(y_val, y_pred_val))*(len(y_val)-1)/(len(y_val)-X_val.shape[1]-1)),\n",
    "          'MAE':metrics.mean_absolute_error(y_val, y_pred_val),\n",
    "          'MSE':metrics.mean_squared_error(y_val, y_pred_val),\n",
    "          'RMSE':np.sqrt(metrics.mean_squared_error(y_val, y_pred_val))}\n",
    "\n",
    "catboost_metrics = pd.DataFrame.from_dict(catboost_dict, orient = 'index').T\n",
    "catboost_metrics"
   ]
  },
  {
   "cell_type": "code",
   "execution_count": 80,
   "metadata": {},
   "outputs": [
    {
     "data": {
      "text/html": [
       "<div>\n",
       "<style scoped>\n",
       "    .dataframe tbody tr th:only-of-type {\n",
       "        vertical-align: middle;\n",
       "    }\n",
       "\n",
       "    .dataframe tbody tr th {\n",
       "        vertical-align: top;\n",
       "    }\n",
       "\n",
       "    .dataframe thead th {\n",
       "        text-align: right;\n",
       "    }\n",
       "</style>\n",
       "<table border=\"1\" class=\"dataframe\">\n",
       "  <thead>\n",
       "    <tr style=\"text-align: right;\">\n",
       "      <th></th>\n",
       "      <th>Feature</th>\n",
       "      <th>Importance Score</th>\n",
       "    </tr>\n",
       "  </thead>\n",
       "  <tbody>\n",
       "    <tr>\n",
       "      <th>4</th>\n",
       "      <td>SDSH DAP</td>\n",
       "      <td>46.5298</td>\n",
       "    </tr>\n",
       "    <tr>\n",
       "      <th>3</th>\n",
       "      <td>Previous Hour Price</td>\n",
       "      <td>28.1643</td>\n",
       "    </tr>\n",
       "    <tr>\n",
       "      <th>6</th>\n",
       "      <td>Sgn0 VolumeDir</td>\n",
       "      <td>5.19088</td>\n",
       "    </tr>\n",
       "    <tr>\n",
       "      <th>11</th>\n",
       "      <td>month</td>\n",
       "      <td>3.68137</td>\n",
       "    </tr>\n",
       "    <tr>\n",
       "      <th>5</th>\n",
       "      <td>SDSH Volume</td>\n",
       "      <td>3.59549</td>\n",
       "    </tr>\n",
       "    <tr>\n",
       "      <th>7</th>\n",
       "      <td>P24HA Price</td>\n",
       "      <td>3.5816</td>\n",
       "    </tr>\n",
       "    <tr>\n",
       "      <th>9</th>\n",
       "      <td>PWSH Price</td>\n",
       "      <td>2.16878</td>\n",
       "    </tr>\n",
       "    <tr>\n",
       "      <th>8</th>\n",
       "      <td>PDSH Price</td>\n",
       "      <td>2.12478</td>\n",
       "    </tr>\n",
       "    <tr>\n",
       "      <th>10</th>\n",
       "      <td>PWA Price</td>\n",
       "      <td>1.832</td>\n",
       "    </tr>\n",
       "    <tr>\n",
       "      <th>0</th>\n",
       "      <td>Hour</td>\n",
       "      <td>1.27689</td>\n",
       "    </tr>\n",
       "    <tr>\n",
       "      <th>2</th>\n",
       "      <td>Is Working Day</td>\n",
       "      <td>0.983712</td>\n",
       "    </tr>\n",
       "    <tr>\n",
       "      <th>1</th>\n",
       "      <td>Weekday</td>\n",
       "      <td>0.870376</td>\n",
       "    </tr>\n",
       "  </tbody>\n",
       "</table>\n",
       "</div>"
      ],
      "text/plain": [
       "                Feature Importance Score\n",
       "4              SDSH DAP          46.5298\n",
       "3   Previous Hour Price          28.1643\n",
       "6        Sgn0 VolumeDir          5.19088\n",
       "11                month          3.68137\n",
       "5           SDSH Volume          3.59549\n",
       "7           P24HA Price           3.5816\n",
       "9            PWSH Price          2.16878\n",
       "8            PDSH Price          2.12478\n",
       "10            PWA Price            1.832\n",
       "0                  Hour          1.27689\n",
       "2        Is Working Day         0.983712\n",
       "1               Weekday         0.870376"
      ]
     },
     "execution_count": 80,
     "metadata": {},
     "output_type": "execute_result"
    }
   ],
   "source": [
    "catboost_features = pd.DataFrame([X_train.columns, best_catboost_reg.feature_importances_]).T\n",
    "catboost_features = catboost_features.rename(columns={0: 'Feature', 1: 'Importance Score'})\n",
    "catboost_features.sort_values(by = 'Importance Score', ascending = False).head(15)"
   ]
  },
  {
   "cell_type": "markdown",
   "metadata": {},
   "source": [
    "## On test unseen data"
   ]
  },
  {
   "cell_type": "code",
   "execution_count": 81,
   "metadata": {},
   "outputs": [
    {
     "data": {
      "text/html": [
       "<div>\n",
       "<style scoped>\n",
       "    .dataframe tbody tr th:only-of-type {\n",
       "        vertical-align: middle;\n",
       "    }\n",
       "\n",
       "    .dataframe tbody tr th {\n",
       "        vertical-align: top;\n",
       "    }\n",
       "\n",
       "    .dataframe thead th {\n",
       "        text-align: right;\n",
       "    }\n",
       "</style>\n",
       "<table border=\"1\" class=\"dataframe\">\n",
       "  <thead>\n",
       "    <tr style=\"text-align: right;\">\n",
       "      <th></th>\n",
       "      <th>Hour</th>\n",
       "      <th>Weekday</th>\n",
       "      <th>Is Working Day</th>\n",
       "      <th>Previous Hour Price</th>\n",
       "      <th>SDSH DAP</th>\n",
       "      <th>SDSH Volume</th>\n",
       "      <th>Sgn0 VolumeDir</th>\n",
       "      <th>P24HA Price</th>\n",
       "      <th>PDSH Price</th>\n",
       "      <th>PWSH Price</th>\n",
       "      <th>PWA Price</th>\n",
       "      <th>month</th>\n",
       "    </tr>\n",
       "  </thead>\n",
       "  <tbody>\n",
       "    <tr>\n",
       "      <th>0</th>\n",
       "      <td>1</td>\n",
       "      <td>5</td>\n",
       "      <td>5</td>\n",
       "      <td>1501.96</td>\n",
       "      <td>1501.70</td>\n",
       "      <td>1563.7</td>\n",
       "      <td>-50.6</td>\n",
       "      <td>1622.125000</td>\n",
       "      <td>1513.71</td>\n",
       "      <td>593.880</td>\n",
       "      <td>1458.818810</td>\n",
       "      <td>11</td>\n",
       "    </tr>\n",
       "    <tr>\n",
       "      <th>1</th>\n",
       "      <td>2</td>\n",
       "      <td>5</td>\n",
       "      <td>5</td>\n",
       "      <td>1475.95</td>\n",
       "      <td>1508.89</td>\n",
       "      <td>1522.3</td>\n",
       "      <td>-41.4</td>\n",
       "      <td>1620.551667</td>\n",
       "      <td>1487.63</td>\n",
       "      <td>1004.500</td>\n",
       "      <td>1464.069226</td>\n",
       "      <td>11</td>\n",
       "    </tr>\n",
       "    <tr>\n",
       "      <th>2</th>\n",
       "      <td>3</td>\n",
       "      <td>5</td>\n",
       "      <td>5</td>\n",
       "      <td>1479.86</td>\n",
       "      <td>1379.23</td>\n",
       "      <td>1468.5</td>\n",
       "      <td>-53.8</td>\n",
       "      <td>1620.227917</td>\n",
       "      <td>1368.59</td>\n",
       "      <td>1025.598</td>\n",
       "      <td>1466.898750</td>\n",
       "      <td>11</td>\n",
       "    </tr>\n",
       "    <tr>\n",
       "      <th>3</th>\n",
       "      <td>4</td>\n",
       "      <td>5</td>\n",
       "      <td>5</td>\n",
       "      <td>1484.50</td>\n",
       "      <td>1335.80</td>\n",
       "      <td>1443.3</td>\n",
       "      <td>-25.2</td>\n",
       "      <td>1625.057500</td>\n",
       "      <td>1321.87</td>\n",
       "      <td>1046.696</td>\n",
       "      <td>1469.630310</td>\n",
       "      <td>11</td>\n",
       "    </tr>\n",
       "    <tr>\n",
       "      <th>4</th>\n",
       "      <td>5</td>\n",
       "      <td>5</td>\n",
       "      <td>5</td>\n",
       "      <td>1318.03</td>\n",
       "      <td>1329.68</td>\n",
       "      <td>1445.1</td>\n",
       "      <td>1.8</td>\n",
       "      <td>1624.897500</td>\n",
       "      <td>1317.43</td>\n",
       "      <td>1067.794</td>\n",
       "      <td>1471.245393</td>\n",
       "      <td>11</td>\n",
       "    </tr>\n",
       "  </tbody>\n",
       "</table>\n",
       "</div>"
      ],
      "text/plain": [
       "   Hour  Weekday  Is Working Day  Previous Hour Price  SDSH DAP  SDSH Volume  \\\n",
       "0     1        5               5              1501.96   1501.70       1563.7   \n",
       "1     2        5               5              1475.95   1508.89       1522.3   \n",
       "2     3        5               5              1479.86   1379.23       1468.5   \n",
       "3     4        5               5              1484.50   1335.80       1443.3   \n",
       "4     5        5               5              1318.03   1329.68       1445.1   \n",
       "\n",
       "   Sgn0 VolumeDir  P24HA Price  PDSH Price  PWSH Price    PWA Price  month  \n",
       "0           -50.6  1622.125000     1513.71     593.880  1458.818810     11  \n",
       "1           -41.4  1620.551667     1487.63    1004.500  1464.069226     11  \n",
       "2           -53.8  1620.227917     1368.59    1025.598  1466.898750     11  \n",
       "3           -25.2  1625.057500     1321.87    1046.696  1469.630310     11  \n",
       "4             1.8  1624.897500     1317.43    1067.794  1471.245393     11  "
      ]
     },
     "execution_count": 81,
     "metadata": {},
     "output_type": "execute_result"
    }
   ],
   "source": [
    "test=test_df.copy()\n",
    "test = test.drop({'Date','target'},axis=1)\n",
    "test.head()"
   ]
  },
  {
   "cell_type": "code",
   "execution_count": 82,
   "metadata": {},
   "outputs": [
    {
     "data": {
      "text/plain": [
       "array([8940.88961927, 8859.08304388, 8859.08304388, 8859.08304388,\n",
       "       9323.78959709, 9278.34688938, 8859.08304388, 9278.34688938,\n",
       "       9278.34688938, 9278.34688938, 9278.34688938, 8859.08304388,\n",
       "       8859.08304388, 9278.34688938, 8859.08304388, 8859.08304388,\n",
       "       8859.08304388, 9278.34688938, 8859.08304388, 8859.08304388,\n",
       "       8859.08304388, 8859.08304388, 8859.08304388, 8859.08304388,\n",
       "       8940.88961927, 8859.08304388, 8859.08304388, 8859.08304388,\n",
       "       9278.34688938, 9278.34688938, 9278.34688938, 9278.34688938,\n",
       "       9278.34688938, 9278.34688938, 9278.34688938, 8859.08304388,\n",
       "       8859.08304388, 9278.34688938, 8859.08304388, 8859.08304388,\n",
       "       8859.08304388, 9278.34688938, 8859.08304388, 8859.08304388,\n",
       "       8859.08304388, 8859.08304388, 8859.08304388, 8859.08304388,\n",
       "       8940.88961927, 8859.08304388, 8859.08304388, 8859.08304388,\n",
       "       8859.08304388, 9278.34688938, 8859.08304388, 9278.34688938,\n",
       "       9278.34688938, 9278.34688938, 9278.34688938, 8859.08304388,\n",
       "       8859.08304388, 9278.34688938, 9278.34688938, 8859.08304388,\n",
       "       8859.08304388, 9278.34688938, 8859.08304388, 8859.08304388,\n",
       "       8859.08304388, 8859.08304388, 8859.08304388, 8859.08304388,\n",
       "       9152.80913186, 9071.00255647, 9071.00255647, 9071.00255647,\n",
       "       9591.5191599 , 9071.00255647, 9071.00255647, 9490.26640196,\n",
       "       9490.26640196, 9490.26640196, 9490.26640196, 9071.00255647,\n",
       "       9490.26640196, 9071.00255647, 9384.18860814, 9071.00255647,\n",
       "       9490.26640196, 9490.26640196, 9071.00255647, 9071.00255647,\n",
       "       9071.00255647, 9071.00255647, 9071.00255647, 9071.00255647])"
      ]
     },
     "execution_count": 82,
     "metadata": {},
     "output_type": "execute_result"
    }
   ],
   "source": [
    "y_pred_test = best_catboost_reg.predict(test)\n",
    "y_pred_test"
   ]
  },
  {
   "cell_type": "markdown",
   "metadata": {},
   "source": [
    "### Compare Models"
   ]
  },
  {
   "cell_type": "code",
   "execution_count": 83,
   "metadata": {},
   "outputs": [
    {
     "data": {
      "text/html": [
       "<div>\n",
       "<style scoped>\n",
       "    .dataframe tbody tr th:only-of-type {\n",
       "        vertical-align: middle;\n",
       "    }\n",
       "\n",
       "    .dataframe tbody tr th {\n",
       "        vertical-align: top;\n",
       "    }\n",
       "\n",
       "    .dataframe thead th {\n",
       "        text-align: right;\n",
       "    }\n",
       "</style>\n",
       "<table border=\"1\" class=\"dataframe\">\n",
       "  <thead>\n",
       "    <tr style=\"text-align: right;\">\n",
       "      <th></th>\n",
       "      <th>Model</th>\n",
       "      <th>R^2</th>\n",
       "      <th>Adjusted R^2</th>\n",
       "      <th>MAE</th>\n",
       "      <th>MSE</th>\n",
       "      <th>RMSE</th>\n",
       "    </tr>\n",
       "  </thead>\n",
       "  <tbody>\n",
       "    <tr>\n",
       "      <th>0</th>\n",
       "      <td>Random Forest Regressor</td>\n",
       "      <td>0.880056</td>\n",
       "      <td>0.879099</td>\n",
       "      <td>245.179</td>\n",
       "      <td>294666</td>\n",
       "      <td>542.831</td>\n",
       "    </tr>\n",
       "    <tr>\n",
       "      <th>0</th>\n",
       "      <td>CatBoost Regressor</td>\n",
       "      <td>0.879081</td>\n",
       "      <td>0.878116</td>\n",
       "      <td>246.641</td>\n",
       "      <td>297063</td>\n",
       "      <td>545.035</td>\n",
       "    </tr>\n",
       "    <tr>\n",
       "      <th>0</th>\n",
       "      <td>XGBoost Regressor</td>\n",
       "      <td>0.868303</td>\n",
       "      <td>0.867252</td>\n",
       "      <td>254.051</td>\n",
       "      <td>323540</td>\n",
       "      <td>568.806</td>\n",
       "    </tr>\n",
       "    <tr>\n",
       "      <th>0</th>\n",
       "      <td>LightGBM Regressor</td>\n",
       "      <td>0.86512</td>\n",
       "      <td>0.864043</td>\n",
       "      <td>260.231</td>\n",
       "      <td>331361</td>\n",
       "      <td>575.64</td>\n",
       "    </tr>\n",
       "    <tr>\n",
       "      <th>0</th>\n",
       "      <td>Multi-Linear Regression</td>\n",
       "      <td>0.857144</td>\n",
       "      <td>0.856004</td>\n",
       "      <td>280.904</td>\n",
       "      <td>350955</td>\n",
       "      <td>592.415</td>\n",
       "    </tr>\n",
       "  </tbody>\n",
       "</table>\n",
       "</div>"
      ],
      "text/plain": [
       "                     Model       R^2 Adjusted R^2      MAE     MSE     RMSE\n",
       "0  Random Forest Regressor  0.880056     0.879099  245.179  294666  542.831\n",
       "0       CatBoost Regressor  0.879081     0.878116  246.641  297063  545.035\n",
       "0        XGBoost Regressor  0.868303     0.867252  254.051  323540  568.806\n",
       "0       LightGBM Regressor   0.86512     0.864043  260.231  331361   575.64\n",
       "0  Multi-Linear Regression  0.857144     0.856004  280.904  350955  592.415"
      ]
     },
     "execution_count": 83,
     "metadata": {},
     "output_type": "execute_result"
    }
   ],
   "source": [
    "df_metrics = pd.concat([linear_reg_metrics, rf_reg_metrics, xgb_metrics, lgbm_metrics, catboost_metrics])\n",
    "df_metrics.sort_values(by = 'RMSE', ascending = True)"
   ]
  },
  {
   "cell_type": "code",
   "execution_count": 84,
   "metadata": {},
   "outputs": [
    {
     "data": {
      "text/html": [
       "<div>\n",
       "<style scoped>\n",
       "    .dataframe tbody tr th:only-of-type {\n",
       "        vertical-align: middle;\n",
       "    }\n",
       "\n",
       "    .dataframe tbody tr th {\n",
       "        vertical-align: top;\n",
       "    }\n",
       "\n",
       "    .dataframe thead th {\n",
       "        text-align: right;\n",
       "    }\n",
       "</style>\n",
       "<table border=\"1\" class=\"dataframe\">\n",
       "  <thead>\n",
       "    <tr style=\"text-align: right;\">\n",
       "      <th></th>\n",
       "      <th>Model</th>\n",
       "      <th>R^2</th>\n",
       "      <th>Adjusted R^2</th>\n",
       "      <th>MAE</th>\n",
       "      <th>MSE</th>\n",
       "      <th>RMSE</th>\n",
       "    </tr>\n",
       "  </thead>\n",
       "  <tbody>\n",
       "    <tr>\n",
       "      <th>0</th>\n",
       "      <td>Random Forest Regressor</td>\n",
       "      <td>0.880056</td>\n",
       "      <td>0.879099</td>\n",
       "      <td>245.179</td>\n",
       "      <td>294666</td>\n",
       "      <td>542.831</td>\n",
       "    </tr>\n",
       "    <tr>\n",
       "      <th>0</th>\n",
       "      <td>XGBoost Regressor</td>\n",
       "      <td>0.868303</td>\n",
       "      <td>0.867252</td>\n",
       "      <td>254.051</td>\n",
       "      <td>323540</td>\n",
       "      <td>568.806</td>\n",
       "    </tr>\n",
       "    <tr>\n",
       "      <th>0</th>\n",
       "      <td>LightGBM Regressor</td>\n",
       "      <td>0.86512</td>\n",
       "      <td>0.864043</td>\n",
       "      <td>260.231</td>\n",
       "      <td>331361</td>\n",
       "      <td>575.64</td>\n",
       "    </tr>\n",
       "    <tr>\n",
       "      <th>0</th>\n",
       "      <td>Multi-Linear Regression</td>\n",
       "      <td>0.857144</td>\n",
       "      <td>0.856004</td>\n",
       "      <td>280.904</td>\n",
       "      <td>350955</td>\n",
       "      <td>592.415</td>\n",
       "    </tr>\n",
       "  </tbody>\n",
       "</table>\n",
       "</div>"
      ],
      "text/plain": [
       "                     Model       R^2 Adjusted R^2      MAE     MSE     RMSE\n",
       "0  Random Forest Regressor  0.880056     0.879099  245.179  294666  542.831\n",
       "0        XGBoost Regressor  0.868303     0.867252  254.051  323540  568.806\n",
       "0       LightGBM Regressor   0.86512     0.864043  260.231  331361   575.64\n",
       "0  Multi-Linear Regression  0.857144     0.856004  280.904  350955  592.415"
      ]
     },
     "execution_count": 84,
     "metadata": {},
     "output_type": "execute_result"
    }
   ],
   "source": [
    "# Omitting CatBoost result\n",
    "df_metrics = pd.concat([linear_reg_metrics, rf_reg_metrics, xgb_metrics, lgbm_metrics])\n",
    "df_metrics.sort_values(by = 'RMSE', ascending = True)"
   ]
  },
  {
   "cell_type": "code",
   "execution_count": null,
   "metadata": {},
   "outputs": [],
   "source": []
  },
  {
   "cell_type": "markdown",
   "metadata": {},
   "source": [
    "### Test with Liner Regression"
   ]
  },
  {
   "cell_type": "code",
   "execution_count": 93,
   "metadata": {},
   "outputs": [
    {
     "data": {
      "text/plain": [
       "array([-7.70042183e+00, -1.12856045e+01, -1.67438873e+01,  6.17701897e+02,\n",
       "        8.11047092e+02,  4.91757279e+01,  1.10947752e+02,  8.13785165e+01,\n",
       "        7.97052730e+01,  7.23486701e+00, -2.00247905e+01, -3.18515447e-01])"
      ]
     },
     "execution_count": 93,
     "metadata": {},
     "output_type": "execute_result"
    }
   ],
   "source": [
    "#Liner Regression\n",
    "from sklearn.linear_model import LinearRegression\n",
    "\n",
    "regressor = LinearRegression()  \n",
    "regressor.fit(X_train, y_train)\n",
    "\n",
    "#evaluate the model (intercept and slope)\n",
    "regressor.intercept_\n",
    "regressor.coef_"
   ]
  },
  {
   "cell_type": "code",
   "execution_count": 94,
   "metadata": {},
   "outputs": [
    {
     "data": {
      "text/html": [
       "<div>\n",
       "<style scoped>\n",
       "    .dataframe tbody tr th:only-of-type {\n",
       "        vertical-align: middle;\n",
       "    }\n",
       "\n",
       "    .dataframe tbody tr th {\n",
       "        vertical-align: top;\n",
       "    }\n",
       "\n",
       "    .dataframe thead th {\n",
       "        text-align: right;\n",
       "    }\n",
       "</style>\n",
       "<table border=\"1\" class=\"dataframe\">\n",
       "  <thead>\n",
       "    <tr style=\"text-align: right;\">\n",
       "      <th></th>\n",
       "      <th>Actual</th>\n",
       "      <th>Predicted</th>\n",
       "    </tr>\n",
       "  </thead>\n",
       "  <tbody>\n",
       "    <tr>\n",
       "      <th>5907</th>\n",
       "      <td>2041.18</td>\n",
       "      <td>2117.992722</td>\n",
       "    </tr>\n",
       "    <tr>\n",
       "      <th>3762</th>\n",
       "      <td>1475.46</td>\n",
       "      <td>1681.346340</td>\n",
       "    </tr>\n",
       "    <tr>\n",
       "      <th>2956</th>\n",
       "      <td>1579.12</td>\n",
       "      <td>1562.492392</td>\n",
       "    </tr>\n",
       "    <tr>\n",
       "      <th>7024</th>\n",
       "      <td>1552.67</td>\n",
       "      <td>1510.391689</td>\n",
       "    </tr>\n",
       "    <tr>\n",
       "      <th>3015</th>\n",
       "      <td>1721.17</td>\n",
       "      <td>1702.394862</td>\n",
       "    </tr>\n",
       "    <tr>\n",
       "      <th>4365</th>\n",
       "      <td>2633.26</td>\n",
       "      <td>2408.718824</td>\n",
       "    </tr>\n",
       "    <tr>\n",
       "      <th>5703</th>\n",
       "      <td>2593.13</td>\n",
       "      <td>2530.193176</td>\n",
       "    </tr>\n",
       "    <tr>\n",
       "      <th>1522</th>\n",
       "      <td>2499.16</td>\n",
       "      <td>3374.634153</td>\n",
       "    </tr>\n",
       "    <tr>\n",
       "      <th>3165</th>\n",
       "      <td>6890.68</td>\n",
       "      <td>6634.052599</td>\n",
       "    </tr>\n",
       "    <tr>\n",
       "      <th>7371</th>\n",
       "      <td>1345.45</td>\n",
       "      <td>1281.221067</td>\n",
       "    </tr>\n",
       "  </tbody>\n",
       "</table>\n",
       "</div>"
      ],
      "text/plain": [
       "       Actual    Predicted\n",
       "5907  2041.18  2117.992722\n",
       "3762  1475.46  1681.346340\n",
       "2956  1579.12  1562.492392\n",
       "7024  1552.67  1510.391689\n",
       "3015  1721.17  1702.394862\n",
       "4365  2633.26  2408.718824\n",
       "5703  2593.13  2530.193176\n",
       "1522  2499.16  3374.634153\n",
       "3165  6890.68  6634.052599\n",
       "7371  1345.45  1281.221067"
      ]
     },
     "execution_count": 94,
     "metadata": {},
     "output_type": "execute_result"
    }
   ],
   "source": [
    "y_predd = regressor.predict(X_val)\n",
    "df = pd.DataFrame({'Actual': y_val, 'Predicted': y_predd})\n",
    "df1 = df.head(10)\n",
    "df1"
   ]
  },
  {
   "cell_type": "code",
   "execution_count": 95,
   "metadata": {},
   "outputs": [
    {
     "data": {
      "text/plain": [
       "<AxesSubplot:xlabel='target', ylabel='Density'>"
      ]
     },
     "execution_count": 95,
     "metadata": {},
     "output_type": "execute_result"
    },
    {
     "data": {
      "image/png": "[encoded data removed]",
      "text/plain": [
       "<Figure size 720x360 with 1 Axes>"
      ]
     },
     "metadata": {
      "needs_background": "light"
     },
     "output_type": "display_data"
    }
   ],
   "source": [
    "fig = plt.figure(figsize=(10,5))\n",
    "residuals = (y_val- y_predd)\n",
    "sns.distplot(residuals)"
   ]
  },
  {
   "cell_type": "code",
   "execution_count": 96,
   "metadata": {},
   "outputs": [
    {
     "name": "stdout",
     "output_type": "stream",
     "text": [
      "Mean Absolute Error: 280.90\n",
      "Mean Squared Error:350955.32\n",
      "Root Mean Squared Error:592.41\n",
      "Variance score is: 0.86\n"
     ]
    }
   ],
   "source": [
    "from sklearn import metrics\n",
    "\n",
    "print('Mean Absolute Error: {:.2f}'.format(metrics.mean_absolute_error(y_val, y_predd))) \n",
    "print('Mean Squared Error:{:.2f}'.format(metrics.mean_squared_error(y_val, y_predd)))  \n",
    "print('Root Mean Squared Error:{:.2f}'.format(np.sqrt(metrics.mean_squared_error(y_val, y_predd))))\n",
    "print('Variance score is: {:.2f}'.format(metrics.explained_variance_score(y_val,y_predd)))"
   ]
  },
  {
   "cell_type": "code",
   "execution_count": 97,
   "metadata": {},
   "outputs": [
    {
     "name": "stdout",
     "output_type": "stream",
     "text": [
      "Linear Regression Model:\n",
      "Train Score 0.84\n",
      "Validation Score 0.86\n"
     ]
    }
   ],
   "source": [
    "print('Linear Regression Model:')\n",
    "print(\"Train Score {:.2f}\".format(regressor.score(X_train,y_train)))\n",
    "print(\"Validation Score {:.2f}\".format(regressor.score(X_val, y_val)))"
   ]
  },
  {
   "cell_type": "code",
   "execution_count": 99,
   "metadata": {},
   "outputs": [
    {
     "data": {
      "text/plain": [
       "array([2131.42963327, 2091.98100861, 1605.26988017, 1497.51765814,\n",
       "       1116.29862305, 1254.59300367, 1823.37434476, 2157.99143318,\n",
       "       3370.60318214, 4685.0822919 , 6667.37769626, 3881.14520273,\n",
       "       3290.22209563, 4995.90793698, 5531.98222576, 4243.70924163,\n",
       "       3145.16222721, 4745.19968957, 3607.45334828, 2059.97738787,\n",
       "       2056.44675653, 3710.07964463, 4098.58597747, 2368.92960133,\n",
       "       2756.20711325, 2259.14352887, 2153.449257  , 2122.7973152 ,\n",
       "       1811.85963207, 1249.62941662, 1435.68752511, 1716.94662204,\n",
       "       2284.63359494, 1946.43984407, 2775.14909588, 2982.75384217,\n",
       "       2539.11868828, 3237.14946247, 4450.50823191, 4013.06719916,\n",
       "       3046.19818447, 4128.62097916, 3994.15888152, 3090.07561629,\n",
       "       3848.57815533, 4472.51317658, 5699.46968798, 2855.78313471,\n",
       "       2095.76208417, 1966.43290592, 2144.75046696, 1461.47550935,\n",
       "       1661.3245665 , 1454.45661748, 1513.85584244,  548.1370444 ,\n",
       "       2684.92205107, 3156.79738023, 3849.28669182, 2005.42795555,\n",
       "       2684.95756009, 2512.86646287, 2455.62167003, 2144.00869629,\n",
       "       3011.18589753, 3940.95069416, 3496.90031818, 2446.52774751,\n",
       "       2372.50392494, 1436.56392654, 1732.56720418, 1312.46781643,\n",
       "       1222.59884822, 2207.54784701, 1978.44189872, 1679.1837238 ,\n",
       "       1333.39322515,  744.99128325,  577.47171949,  579.8286633 ,\n",
       "        814.05682407,  910.38638876, 1547.61614294, 1452.60207343,\n",
       "       1360.03907145,  723.8767274 ,  771.55158584,  752.40909082,\n",
       "        871.88468272, 2980.2071344 , 2416.89151321, 1835.78592814,\n",
       "       1815.1682107 , 1698.49239997, 1298.90953626,  723.72952757])"
      ]
     },
     "execution_count": 99,
     "metadata": {},
     "output_type": "execute_result"
    }
   ],
   "source": [
    "test[numerical_cols] = scaler.fit_transform(test[numerical_cols])\n",
    "y_pred_test = regressor.predict(test)\n",
    "y_pred_test"
   ]
  },
  {
   "cell_type": "code",
   "execution_count": null,
   "metadata": {},
   "outputs": [],
   "source": []
  },
  {
   "cell_type": "markdown",
   "metadata": {},
   "source": [
    "### Ensembling & Stacking models"
   ]
  },
  {
   "cell_type": "code",
   "execution_count": 101,
   "metadata": {},
   "outputs": [],
   "source": [
    "# Import libraries\n",
    "\n",
    "from sklearn.model_selection import GridSearchCV,learning_curve, cross_val_score, KFold\n",
    "from sklearn.preprocessing import StandardScaler, RobustScaler\n",
    "from sklearn.svm import SVR\n",
    "from sklearn.ensemble import RandomForestRegressor\n",
    "from sklearn.linear_model import LogisticRegression\n",
    "from sklearn.tree import DecisionTreeClassifier\n",
    "from sklearn.metrics import accuracy_score, mean_squared_error\n",
    "\n",
    "from sklearn.linear_model import LassoCV,ElasticNetCV,Lasso,ElasticNet\n",
    "from sklearn.kernel_ridge import KernelRidge\n",
    "\n",
    "from mlxtend.regressor import StackingRegressor\n",
    "from xgboost import XGBRegressor\n",
    "\n",
    "# split a dataset into train and test sets\n",
    "from sklearn.datasets import make_blobs\n",
    "from sklearn.model_selection import train_test_split"
   ]
  },
  {
   "cell_type": "code",
   "execution_count": 102,
   "metadata": {},
   "outputs": [],
   "source": [
    "# segregating dataset into features i.e., X and target variables i.e., y\n",
    "X = train_df.drop(['target','Date'],axis=1)\n",
    "y = train_df['target']"
   ]
  },
  {
   "cell_type": "code",
   "execution_count": 103,
   "metadata": {},
   "outputs": [],
   "source": [
    "# split into train test sets\n",
    "X_train, X_val, y_train, y_val = train_test_split(X, y, test_size=0.2)"
   ]
  },
  {
   "cell_type": "code",
   "execution_count": 104,
   "metadata": {},
   "outputs": [
    {
     "name": "stdout",
     "output_type": "stream",
     "text": [
      "(6067, 12) (1517, 12) (6067,) (1517,)\n"
     ]
    }
   ],
   "source": [
    "print(X_train.shape, X_val.shape, y_train.shape, y_val.shape)"
   ]
  },
  {
   "cell_type": "markdown",
   "metadata": {},
   "source": [
    "### Feature Scaling"
   ]
  },
  {
   "cell_type": "code",
   "execution_count": 105,
   "metadata": {},
   "outputs": [],
   "source": [
    "scaler = StandardScaler()\n",
    "scaler.fit(X_train)\n",
    "\n",
    "X_train = scaler.fit_transform(X_train)\n",
    "X_val = scaler.fit_transform(X_val)\n"
   ]
  },
  {
   "cell_type": "markdown",
   "metadata": {},
   "source": [
    "### Simple Modeling\n",
    "\n",
    "We will be evaluating below algorithms' root-mean-squared-error for train dataset.\n",
    "\n",
    "- Ridge Regression\n",
    "- Lasso Regression\n",
    "- ElasticNet Regression\n",
    "- Support Vector Machine\n",
    "- Random Forest\n",
    "- XG Boost"
   ]
  },
  {
   "cell_type": "code",
   "execution_count": 106,
   "metadata": {},
   "outputs": [],
   "source": [
    "kfold = KFold(n_splits=20, random_state= 0, shuffle = True)"
   ]
  },
  {
   "cell_type": "code",
   "execution_count": 107,
   "metadata": {},
   "outputs": [],
   "source": [
    "def rmsle_cv(model):\n",
    "    rmse= np.sqrt(-cross_val_score(model, X_train, y_train, scoring=\"neg_mean_squared_error\", cv = kfold))\n",
    "    return(rmse)"
   ]
  },
  {
   "cell_type": "markdown",
   "metadata": {},
   "source": [
    "## Ridge Regression"
   ]
  },
  {
   "cell_type": "code",
   "execution_count": 110,
   "metadata": {},
   "outputs": [
    {
     "name": "stdout",
     "output_type": "stream",
     "text": [
      "Fitting 20 folds for each of 96 candidates, totalling 1920 fits\n"
     ]
    },
    {
     "name": "stderr",
     "output_type": "stream",
     "text": [
      "[Parallel(n_jobs=-1)]: Using backend LokyBackend with 4 concurrent workers.\n",
      "[Parallel(n_jobs=-1)]: Done  42 tasks      | elapsed:  4.9min\n",
      "[Parallel(n_jobs=-1)]: Done 192 tasks      | elapsed: 19.8min\n",
      "[Parallel(n_jobs=-1)]: Done 442 tasks      | elapsed: 55.3min\n",
      "[Parallel(n_jobs=-1)]: Done 792 tasks      | elapsed: 114.7min\n",
      "[Parallel(n_jobs=-1)]: Done 1242 tasks      | elapsed: 180.2min\n",
      "[Parallel(n_jobs=-1)]: Done 1792 tasks      | elapsed: 251.8min\n",
      "[Parallel(n_jobs=-1)]: Done 1920 out of 1920 | elapsed: 266.4min finished\n"
     ]
    },
    {
     "name": "stdout",
     "output_type": "stream",
     "text": [
      "KernelRidge(alpha=0.1, coef0=1.5, gamma=0.01, kernel='rbf')\n"
     ]
    }
   ],
   "source": [
    "KR = KernelRidge()\n",
    "\n",
    "KR_param_grid = {\n",
    "    'alpha' : [10, 5, 1e0, 1e-1, 1e-2, 1e-3, 1e-4, 1e-5],\n",
    "    'kernel' : ['rbf','poly'],\n",
    "    'gamma':[1e0, 1e-1, 1e-2, 1e-3, 1e-4, 1e-5],\n",
    "    'degree': [3],\n",
    "    'coef0': [1.5]\n",
    "}\n",
    "\n",
    "KR_CV = GridSearchCV(KR, param_grid = KR_param_grid, cv = kfold, scoring = \"neg_mean_squared_error\",n_jobs = -1, verbose = 1)\n",
    "KR_CV.fit(X_train, y_train)\n",
    "KR_best = KR_CV.best_estimator_\n",
    "print(KR_best)"
   ]
  },
  {
   "cell_type": "code",
   "execution_count": 114,
   "metadata": {},
   "outputs": [],
   "source": [
    "y_pred_val = KR_best.predict(X_val)"
   ]
  },
  {
   "cell_type": "code",
   "execution_count": 115,
   "metadata": {},
   "outputs": [
    {
     "data": {
      "text/html": [
       "<div>\n",
       "<style scoped>\n",
       "    .dataframe tbody tr th:only-of-type {\n",
       "        vertical-align: middle;\n",
       "    }\n",
       "\n",
       "    .dataframe tbody tr th {\n",
       "        vertical-align: top;\n",
       "    }\n",
       "\n",
       "    .dataframe thead th {\n",
       "        text-align: right;\n",
       "    }\n",
       "</style>\n",
       "<table border=\"1\" class=\"dataframe\">\n",
       "  <thead>\n",
       "    <tr style=\"text-align: right;\">\n",
       "      <th></th>\n",
       "      <th>Actual</th>\n",
       "      <th>Prediction</th>\n",
       "    </tr>\n",
       "  </thead>\n",
       "  <tbody>\n",
       "    <tr>\n",
       "      <th>0</th>\n",
       "      <td>1440.21</td>\n",
       "      <td>1593.094702</td>\n",
       "    </tr>\n",
       "    <tr>\n",
       "      <th>1</th>\n",
       "      <td>1953.76</td>\n",
       "      <td>2122.175633</td>\n",
       "    </tr>\n",
       "    <tr>\n",
       "      <th>2</th>\n",
       "      <td>1470.31</td>\n",
       "      <td>1550.883562</td>\n",
       "    </tr>\n",
       "    <tr>\n",
       "      <th>3</th>\n",
       "      <td>1938.13</td>\n",
       "      <td>2248.842872</td>\n",
       "    </tr>\n",
       "    <tr>\n",
       "      <th>4</th>\n",
       "      <td>1663.24</td>\n",
       "      <td>1725.733975</td>\n",
       "    </tr>\n",
       "    <tr>\n",
       "      <th>...</th>\n",
       "      <td>...</td>\n",
       "      <td>...</td>\n",
       "    </tr>\n",
       "    <tr>\n",
       "      <th>1512</th>\n",
       "      <td>1607.03</td>\n",
       "      <td>1501.878678</td>\n",
       "    </tr>\n",
       "    <tr>\n",
       "      <th>1513</th>\n",
       "      <td>2451.94</td>\n",
       "      <td>2568.449239</td>\n",
       "    </tr>\n",
       "    <tr>\n",
       "      <th>1514</th>\n",
       "      <td>1598.88</td>\n",
       "      <td>1487.551199</td>\n",
       "    </tr>\n",
       "    <tr>\n",
       "      <th>1515</th>\n",
       "      <td>2314.20</td>\n",
       "      <td>2422.654001</td>\n",
       "    </tr>\n",
       "    <tr>\n",
       "      <th>1516</th>\n",
       "      <td>1695.64</td>\n",
       "      <td>1626.325769</td>\n",
       "    </tr>\n",
       "  </tbody>\n",
       "</table>\n",
       "<p>1517 rows × 2 columns</p>\n",
       "</div>"
      ],
      "text/plain": [
       "       Actual   Prediction\n",
       "0     1440.21  1593.094702\n",
       "1     1953.76  2122.175633\n",
       "2     1470.31  1550.883562\n",
       "3     1938.13  2248.842872\n",
       "4     1663.24  1725.733975\n",
       "...       ...          ...\n",
       "1512  1607.03  1501.878678\n",
       "1513  2451.94  2568.449239\n",
       "1514  1598.88  1487.551199\n",
       "1515  2314.20  2422.654001\n",
       "1516  1695.64  1626.325769\n",
       "\n",
       "[1517 rows x 2 columns]"
      ]
     },
     "execution_count": 115,
     "metadata": {},
     "output_type": "execute_result"
    }
   ],
   "source": [
    "result_df = pd.DataFrame({'Actual':np.array(y_val), 'Prediction':y_pred_val})\n",
    "result_df"
   ]
  },
  {
   "cell_type": "code",
   "execution_count": 112,
   "metadata": {},
   "outputs": [
    {
     "name": "stdout",
     "output_type": "stream",
     "text": [
      "Kernel Ridge mean score: 597.724339535025\n",
      "Kernel Ridge std: 125.95400077891573\n"
     ]
    }
   ],
   "source": [
    "score = rmsle_cv(KR_best)\n",
    "print(\"Kernel Ridge mean score:\", score.mean())\n",
    "print(\"Kernel Ridge std:\", score.std())"
   ]
  },
  {
   "cell_type": "code",
   "execution_count": 122,
   "metadata": {},
   "outputs": [
    {
     "data": {
      "text/html": [
       "<div>\n",
       "<style scoped>\n",
       "    .dataframe tbody tr th:only-of-type {\n",
       "        vertical-align: middle;\n",
       "    }\n",
       "\n",
       "    .dataframe tbody tr th {\n",
       "        vertical-align: top;\n",
       "    }\n",
       "\n",
       "    .dataframe thead th {\n",
       "        text-align: right;\n",
       "    }\n",
       "</style>\n",
       "<table border=\"1\" class=\"dataframe\">\n",
       "  <thead>\n",
       "    <tr style=\"text-align: right;\">\n",
       "      <th></th>\n",
       "      <th>Model</th>\n",
       "      <th>R^2</th>\n",
       "      <th>Adjusted R^2</th>\n",
       "      <th>MAE</th>\n",
       "      <th>MSE</th>\n",
       "      <th>RMSE</th>\n",
       "    </tr>\n",
       "  </thead>\n",
       "  <tbody>\n",
       "    <tr>\n",
       "      <th>0</th>\n",
       "      <td>Ridge Regression Regressor</td>\n",
       "      <td>0.861377</td>\n",
       "      <td>0.860271</td>\n",
       "      <td>268.775</td>\n",
       "      <td>334840</td>\n",
       "      <td>578.653</td>\n",
       "    </tr>\n",
       "  </tbody>\n",
       "</table>\n",
       "</div>"
      ],
      "text/plain": [
       "                        Model       R^2 Adjusted R^2      MAE     MSE     RMSE\n",
       "0  Ridge Regression Regressor  0.861377     0.860271  268.775  334840  578.653"
      ]
     },
     "execution_count": 122,
     "metadata": {},
     "output_type": "execute_result"
    }
   ],
   "source": [
    "# Store results as dataframe\n",
    "KR_dict = {'Model':'Ridge Regression Regressor',\n",
    "          'R^2':metrics.r2_score(y_val, y_pred_val),\n",
    "          'Adjusted R^2':(1 - (1-metrics.r2_score(y_val, y_pred_val))*(len(y_val)-1)/(len(y_val)-X_val.shape[1]-1)),\n",
    "          'MAE':metrics.mean_absolute_error(y_val, y_pred_val),\n",
    "          'MSE':metrics.mean_squared_error(y_val, y_pred_val),\n",
    "          'RMSE':np.sqrt(metrics.mean_squared_error(y_val, y_pred_val))}\n",
    "\n",
    "KR_metrics = pd.DataFrame.from_dict(KR_dict, orient = 'index').T\n",
    "KR_metrics"
   ]
  },
  {
   "cell_type": "code",
   "execution_count": 120,
   "metadata": {},
   "outputs": [],
   "source": [
    "test=test_df.copy()\n",
    "test = test.drop({'Date','target'},axis=1)\n",
    "test.head()\n",
    "test = scaler.fit_transform(test)"
   ]
  },
  {
   "cell_type": "code",
   "execution_count": 121,
   "metadata": {},
   "outputs": [
    {
     "data": {
      "text/plain": [
       "array([1934.04873441, 1876.76497821, 1547.52819267, 1446.11795564,\n",
       "       1065.08352345, 1141.27564578, 1605.64479346, 1786.97285947,\n",
       "       3171.20230809, 4766.44346387, 7001.85480704, 3720.79808287,\n",
       "       3098.03119004, 5321.74604798, 5838.91285857, 4078.05766412,\n",
       "       2984.34165313, 5069.9031465 , 3426.50715034, 1953.05614348,\n",
       "       1953.45973744, 3181.18659541, 3874.4607874 , 2294.3646853 ,\n",
       "       2614.77165707, 2161.98294819, 2069.24349482, 2100.58407711,\n",
       "       1832.41201657, 1232.52093807, 1399.90119445, 1384.77568432,\n",
       "       2083.27022915, 1774.80429885, 2737.63386152, 2863.57627547,\n",
       "       2491.69174962, 3385.41816588, 4775.50294028, 4125.95331853,\n",
       "       2988.38883824, 4642.06738957, 3878.66328988, 3129.16327619,\n",
       "       3875.3698862 , 4059.62482121, 5153.90293149, 2823.93178678,\n",
       "       2253.42414309, 2079.24182676, 2239.24397926, 1780.79857891,\n",
       "       1753.82275144, 1682.19710124, 1791.35963519,  339.09960675,\n",
       "       2534.06378031, 3169.57148565, 4145.84897748, 1948.34447197,\n",
       "       2671.54953673, 2515.21038489, 2455.36617039, 2163.58813776,\n",
       "       3075.30383741, 4280.65130264, 3497.04730977, 2497.09913903,\n",
       "       2413.26992162, 1673.82698328, 1909.77075099, 1668.71028317,\n",
       "       1356.65404223, 2202.61310332, 2024.40163488, 1763.17646275,\n",
       "       1460.05186988, 1001.1788384 ,  864.95285531,  781.4260176 ,\n",
       "        854.8794283 ,  852.95775847, 1387.14907689, 1429.07470564,\n",
       "       1309.31554096,  883.77254921,  915.17562763,  942.7831652 ,\n",
       "        953.24379695, 2429.55675848, 2130.41168973, 1742.45302821,\n",
       "       1702.45622865, 1754.54844708, 1554.27750074, 1189.55069284])"
      ]
     },
     "execution_count": 121,
     "metadata": {},
     "output_type": "execute_result"
    }
   ],
   "source": [
    "y_pred_test = KR_best.predict(test)\n",
    "y_pred_test"
   ]
  },
  {
   "cell_type": "markdown",
   "metadata": {},
   "source": [
    "## Lasso Regression"
   ]
  },
  {
   "cell_type": "code",
   "execution_count": 123,
   "metadata": {},
   "outputs": [
    {
     "name": "stderr",
     "output_type": "stream",
     "text": [
      "[Parallel(n_jobs=-1)]: Using backend ThreadingBackend with 4 concurrent workers.\n",
      "...............................................................................................[Parallel(n_jobs=-1)]: Done   5 out of   5 | elapsed:    2.8s finished\n"
     ]
    },
    {
     "name": "stdout",
     "output_type": "stream",
     "text": [
      "Optimized Alpha: 1.2\n",
      "Final Alpha: 1.7999999999999998\n"
     ]
    }
   ],
   "source": [
    "lasso = LassoCV(alphas = [0.0001, 0.0003, 0.0005, 0.0008, 0.001, 0.003, 0.007, 0.009, 0.01,\n",
    "                          0.03, 0.05, 0.07, 0.09, 0.2, 0.4, 0.6, 0.8, 1, 1.2], random_state = 1, n_jobs = -1, verbose = 1)\n",
    "lasso.fit(X_train, y_train)\n",
    "alpha = lasso.alpha_\n",
    "print(\"Optimized Alpha:\", alpha)\n",
    "\n",
    "lasso = LassoCV(alphas = alpha * np.linspace(0.5,1.5,20), cv = kfold, random_state = 1, n_jobs = -1)\n",
    "lasso.fit(X_train, y_train)\n",
    "alpha = lasso.alpha_\n",
    "print(\"Final Alpha:\", alpha)"
   ]
  },
  {
   "cell_type": "code",
   "execution_count": 124,
   "metadata": {},
   "outputs": [],
   "source": [
    "y_pred_val = lasso.predict(X_val)"
   ]
  },
  {
   "cell_type": "code",
   "execution_count": 125,
   "metadata": {},
   "outputs": [
    {
     "data": {
      "text/html": [
       "<div>\n",
       "<style scoped>\n",
       "    .dataframe tbody tr th:only-of-type {\n",
       "        vertical-align: middle;\n",
       "    }\n",
       "\n",
       "    .dataframe tbody tr th {\n",
       "        vertical-align: top;\n",
       "    }\n",
       "\n",
       "    .dataframe thead th {\n",
       "        text-align: right;\n",
       "    }\n",
       "</style>\n",
       "<table border=\"1\" class=\"dataframe\">\n",
       "  <thead>\n",
       "    <tr style=\"text-align: right;\">\n",
       "      <th></th>\n",
       "      <th>Actual</th>\n",
       "      <th>Prediction</th>\n",
       "    </tr>\n",
       "  </thead>\n",
       "  <tbody>\n",
       "    <tr>\n",
       "      <th>0</th>\n",
       "      <td>1440.21</td>\n",
       "      <td>1480.287622</td>\n",
       "    </tr>\n",
       "    <tr>\n",
       "      <th>1</th>\n",
       "      <td>1953.76</td>\n",
       "      <td>2118.062991</td>\n",
       "    </tr>\n",
       "    <tr>\n",
       "      <th>2</th>\n",
       "      <td>1470.31</td>\n",
       "      <td>1433.514367</td>\n",
       "    </tr>\n",
       "    <tr>\n",
       "      <th>3</th>\n",
       "      <td>1938.13</td>\n",
       "      <td>2308.973200</td>\n",
       "    </tr>\n",
       "    <tr>\n",
       "      <th>4</th>\n",
       "      <td>1663.24</td>\n",
       "      <td>1703.110880</td>\n",
       "    </tr>\n",
       "    <tr>\n",
       "      <th>...</th>\n",
       "      <td>...</td>\n",
       "      <td>...</td>\n",
       "    </tr>\n",
       "    <tr>\n",
       "      <th>1512</th>\n",
       "      <td>1607.03</td>\n",
       "      <td>1451.819968</td>\n",
       "    </tr>\n",
       "    <tr>\n",
       "      <th>1513</th>\n",
       "      <td>2451.94</td>\n",
       "      <td>2581.962815</td>\n",
       "    </tr>\n",
       "    <tr>\n",
       "      <th>1514</th>\n",
       "      <td>1598.88</td>\n",
       "      <td>1302.712723</td>\n",
       "    </tr>\n",
       "    <tr>\n",
       "      <th>1515</th>\n",
       "      <td>2314.20</td>\n",
       "      <td>2299.246824</td>\n",
       "    </tr>\n",
       "    <tr>\n",
       "      <th>1516</th>\n",
       "      <td>1695.64</td>\n",
       "      <td>1618.022851</td>\n",
       "    </tr>\n",
       "  </tbody>\n",
       "</table>\n",
       "<p>1517 rows × 2 columns</p>\n",
       "</div>"
      ],
      "text/plain": [
       "       Actual   Prediction\n",
       "0     1440.21  1480.287622\n",
       "1     1953.76  2118.062991\n",
       "2     1470.31  1433.514367\n",
       "3     1938.13  2308.973200\n",
       "4     1663.24  1703.110880\n",
       "...       ...          ...\n",
       "1512  1607.03  1451.819968\n",
       "1513  2451.94  2581.962815\n",
       "1514  1598.88  1302.712723\n",
       "1515  2314.20  2299.246824\n",
       "1516  1695.64  1618.022851\n",
       "\n",
       "[1517 rows x 2 columns]"
      ]
     },
     "execution_count": 125,
     "metadata": {},
     "output_type": "execute_result"
    }
   ],
   "source": [
    "result_df = pd.DataFrame({'Actual':np.array(y_val), 'Prediction':y_pred_val})\n",
    "result_df"
   ]
  },
  {
   "cell_type": "code",
   "execution_count": 126,
   "metadata": {},
   "outputs": [
    {
     "data": {
      "text/html": [
       "<div>\n",
       "<style scoped>\n",
       "    .dataframe tbody tr th:only-of-type {\n",
       "        vertical-align: middle;\n",
       "    }\n",
       "\n",
       "    .dataframe tbody tr th {\n",
       "        vertical-align: top;\n",
       "    }\n",
       "\n",
       "    .dataframe thead th {\n",
       "        text-align: right;\n",
       "    }\n",
       "</style>\n",
       "<table border=\"1\" class=\"dataframe\">\n",
       "  <thead>\n",
       "    <tr style=\"text-align: right;\">\n",
       "      <th></th>\n",
       "      <th>Model</th>\n",
       "      <th>R^2</th>\n",
       "      <th>Adjusted R^2</th>\n",
       "      <th>MAE</th>\n",
       "      <th>MSE</th>\n",
       "      <th>RMSE</th>\n",
       "    </tr>\n",
       "  </thead>\n",
       "  <tbody>\n",
       "    <tr>\n",
       "      <th>0</th>\n",
       "      <td>lasso Regression Regressor</td>\n",
       "      <td>0.839561</td>\n",
       "      <td>0.838281</td>\n",
       "      <td>291.154</td>\n",
       "      <td>387536</td>\n",
       "      <td>622.524</td>\n",
       "    </tr>\n",
       "  </tbody>\n",
       "</table>\n",
       "</div>"
      ],
      "text/plain": [
       "                        Model       R^2 Adjusted R^2      MAE     MSE     RMSE\n",
       "0  lasso Regression Regressor  0.839561     0.838281  291.154  387536  622.524"
      ]
     },
     "execution_count": 126,
     "metadata": {},
     "output_type": "execute_result"
    }
   ],
   "source": [
    "# Store results as dataframe\n",
    "lasso_dict = {'Model':'lasso Regression Regressor',\n",
    "          'R^2':metrics.r2_score(y_val, y_pred_val),\n",
    "          'Adjusted R^2':(1 - (1-metrics.r2_score(y_val, y_pred_val))*(len(y_val)-1)/(len(y_val)-X_val.shape[1]-1)),\n",
    "          'MAE':metrics.mean_absolute_error(y_val, y_pred_val),\n",
    "          'MSE':metrics.mean_squared_error(y_val, y_pred_val),\n",
    "          'RMSE':np.sqrt(metrics.mean_squared_error(y_val, y_pred_val))}\n",
    "\n",
    "lasso_metrics = pd.DataFrame.from_dict(lasso_dict, orient = 'index').T\n",
    "lasso_metrics"
   ]
  },
  {
   "cell_type": "code",
   "execution_count": 127,
   "metadata": {},
   "outputs": [
    {
     "name": "stdout",
     "output_type": "stream",
     "text": [
      "Lasso mean score: 622.6103395730108\n",
      "Lasso std: 134.29936540070872\n"
     ]
    }
   ],
   "source": [
    "print(\"Lasso mean score:\", rmsle_cv(lasso).mean())\n",
    "print(\"Lasso std:\", rmsle_cv(lasso).std())"
   ]
  },
  {
   "cell_type": "code",
   "execution_count": null,
   "metadata": {},
   "outputs": [],
   "source": []
  },
  {
   "cell_type": "code",
   "execution_count": 128,
   "metadata": {},
   "outputs": [
    {
     "data": {
      "text/plain": [
       "array([2126.7224585 , 2080.46002937, 1595.47581425, 1488.63460351,\n",
       "       1100.4563812 , 1237.89115479, 1801.81201243, 2144.65080309,\n",
       "       3347.28325411, 4672.98781092, 6662.21849748, 3900.20514673,\n",
       "       3276.21620021, 4984.17025724, 5567.85752177, 4249.92665562,\n",
       "       3152.2660533 , 4712.19697658, 3613.32654643, 2037.90840351,\n",
       "       2036.73964271, 3682.16254028, 4102.34670957, 2358.94768893,\n",
       "       2756.27379274, 2268.68788897, 2165.23421412, 2131.61304933,\n",
       "       1817.19399936, 1262.83740583, 1452.32256258, 1724.67956963,\n",
       "       2294.5752376 , 1973.49275834, 2809.00588086, 3006.67612898,\n",
       "       2553.9067769 , 3271.12540297, 4509.26335781, 4068.85486058,\n",
       "       3093.34631851, 4122.1236044 , 4030.37793423, 3081.76364912,\n",
       "       3829.95079561, 4454.96437225, 5700.31072377, 2875.11256466,\n",
       "       2083.08681334, 1958.65359669, 2130.67601146, 1421.77656089,\n",
       "       1640.07089304, 1418.87915549, 1478.68089466,  545.78743584,\n",
       "       2689.81668739, 3169.01028134, 3852.58563801, 2030.08728274,\n",
       "       2697.90804321, 2510.75140074, 2466.09598649, 2154.50037178,\n",
       "       3013.03880168, 3956.79862072, 3511.49410648, 2440.3910453 ,\n",
       "       2364.57142521, 1438.36520872, 1749.83092669, 1332.72953236,\n",
       "       1247.32718798, 2223.10520334, 1996.41792675, 1699.04189167,\n",
       "       1348.10896769,  760.15401602,  592.54122505,  592.71933193,\n",
       "        830.38823693,  935.71328384, 1569.02761045, 1479.58115674,\n",
       "       1386.03337768,  755.26839552,  803.95774599,  782.90625103,\n",
       "        902.17813649, 3014.21051546, 2473.04051888, 1864.39844842,\n",
       "       1851.37108708, 1722.20707061, 1326.54875194,  743.7738615 ])"
      ]
     },
     "execution_count": 128,
     "metadata": {},
     "output_type": "execute_result"
    }
   ],
   "source": [
    "y_pred_test = lasso.predict(test)\n",
    "y_pred_test"
   ]
  },
  {
   "cell_type": "code",
   "execution_count": null,
   "metadata": {},
   "outputs": [],
   "source": []
  },
  {
   "cell_type": "code",
   "execution_count": null,
   "metadata": {},
   "outputs": [],
   "source": []
  },
  {
   "cell_type": "markdown",
   "metadata": {},
   "source": [
    "### ElasticNet Regression"
   ]
  },
  {
   "cell_type": "code",
   "execution_count": 129,
   "metadata": {},
   "outputs": [
    {
     "name": "stdout",
     "output_type": "stream",
     "text": [
      "Optimized Alpha: 1.2\n",
      "Optimized l1_ratio: 1.0\n",
      "Final Alpha: 0.6\n",
      "Final l1_ratio: 0.98\n"
     ]
    }
   ],
   "source": [
    "elnet = ElasticNetCV(alphas = [0.0001, 0.0003, 0.0005, 0.0008, 0.001, 0.003, 0.007, 0.009, 0.01, 0.03, 0.05, 0.07, 0.09, 0.2, 0.4, 0.6, 0.8, 1, 1.2] \n",
    "                ,l1_ratio = [0.1, 0.3, 0.5, 0.7, 0.9, 1]\n",
    "                ,cv = kfold, random_state = 1, n_jobs = -1)\n",
    "\n",
    "elnet.fit(X_train, y_train)\n",
    "\n",
    "alpha = elnet.alpha_\n",
    "ratio = elnet.l1_ratio_\n",
    "\n",
    "print(\"Optimized Alpha:\", alpha)\n",
    "print(\"Optimized l1_ratio:\", ratio)\n",
    "\n",
    "elnet = ElasticNetCV(alphas = alpha * np.linspace(0.5,1.5,20), l1_ratio = ratio * np.linspace(0.9,1.3,6), \n",
    "                     cv = kfold, random_state = 1, n_jobs = -1)\n",
    "elnet.fit(X_train, y_train)\n",
    "\n",
    "alpha = elnet.alpha_\n",
    "ratio = elnet.l1_ratio_\n",
    "\n",
    "print(\"Final Alpha:\", alpha)\n",
    "print(\"Final l1_ratio:\", ratio)"
   ]
  },
  {
   "cell_type": "code",
   "execution_count": 130,
   "metadata": {},
   "outputs": [],
   "source": [
    "y_pred_val = elnet.predict(X_val)"
   ]
  },
  {
   "cell_type": "code",
   "execution_count": 131,
   "metadata": {},
   "outputs": [
    {
     "data": {
      "text/html": [
       "<div>\n",
       "<style scoped>\n",
       "    .dataframe tbody tr th:only-of-type {\n",
       "        vertical-align: middle;\n",
       "    }\n",
       "\n",
       "    .dataframe tbody tr th {\n",
       "        vertical-align: top;\n",
       "    }\n",
       "\n",
       "    .dataframe thead th {\n",
       "        text-align: right;\n",
       "    }\n",
       "</style>\n",
       "<table border=\"1\" class=\"dataframe\">\n",
       "  <thead>\n",
       "    <tr style=\"text-align: right;\">\n",
       "      <th></th>\n",
       "      <th>Actual</th>\n",
       "      <th>Prediction</th>\n",
       "    </tr>\n",
       "  </thead>\n",
       "  <tbody>\n",
       "    <tr>\n",
       "      <th>0</th>\n",
       "      <td>1440.21</td>\n",
       "      <td>1476.888587</td>\n",
       "    </tr>\n",
       "    <tr>\n",
       "      <th>1</th>\n",
       "      <td>1953.76</td>\n",
       "      <td>2110.398580</td>\n",
       "    </tr>\n",
       "    <tr>\n",
       "      <th>2</th>\n",
       "      <td>1470.31</td>\n",
       "      <td>1440.173675</td>\n",
       "    </tr>\n",
       "    <tr>\n",
       "      <th>3</th>\n",
       "      <td>1938.13</td>\n",
       "      <td>2310.361529</td>\n",
       "    </tr>\n",
       "    <tr>\n",
       "      <th>4</th>\n",
       "      <td>1663.24</td>\n",
       "      <td>1701.469102</td>\n",
       "    </tr>\n",
       "    <tr>\n",
       "      <th>...</th>\n",
       "      <td>...</td>\n",
       "      <td>...</td>\n",
       "    </tr>\n",
       "    <tr>\n",
       "      <th>1512</th>\n",
       "      <td>1607.03</td>\n",
       "      <td>1454.901886</td>\n",
       "    </tr>\n",
       "    <tr>\n",
       "      <th>1513</th>\n",
       "      <td>2451.94</td>\n",
       "      <td>2584.869054</td>\n",
       "    </tr>\n",
       "    <tr>\n",
       "      <th>1514</th>\n",
       "      <td>1598.88</td>\n",
       "      <td>1301.954132</td>\n",
       "    </tr>\n",
       "    <tr>\n",
       "      <th>1515</th>\n",
       "      <td>2314.20</td>\n",
       "      <td>2296.110314</td>\n",
       "    </tr>\n",
       "    <tr>\n",
       "      <th>1516</th>\n",
       "      <td>1695.64</td>\n",
       "      <td>1621.656483</td>\n",
       "    </tr>\n",
       "  </tbody>\n",
       "</table>\n",
       "<p>1517 rows × 2 columns</p>\n",
       "</div>"
      ],
      "text/plain": [
       "       Actual   Prediction\n",
       "0     1440.21  1476.888587\n",
       "1     1953.76  2110.398580\n",
       "2     1470.31  1440.173675\n",
       "3     1938.13  2310.361529\n",
       "4     1663.24  1701.469102\n",
       "...       ...          ...\n",
       "1512  1607.03  1454.901886\n",
       "1513  2451.94  2584.869054\n",
       "1514  1598.88  1301.954132\n",
       "1515  2314.20  2296.110314\n",
       "1516  1695.64  1621.656483\n",
       "\n",
       "[1517 rows x 2 columns]"
      ]
     },
     "execution_count": 131,
     "metadata": {},
     "output_type": "execute_result"
    }
   ],
   "source": [
    "\n",
    "result_df = pd.DataFrame({'Actual':np.array(y_val), 'Prediction':y_pred_val})\n",
    "result_df"
   ]
  },
  {
   "cell_type": "code",
   "execution_count": 133,
   "metadata": {},
   "outputs": [
    {
     "data": {
      "text/html": [
       "<div>\n",
       "<style scoped>\n",
       "    .dataframe tbody tr th:only-of-type {\n",
       "        vertical-align: middle;\n",
       "    }\n",
       "\n",
       "    .dataframe tbody tr th {\n",
       "        vertical-align: top;\n",
       "    }\n",
       "\n",
       "    .dataframe thead th {\n",
       "        text-align: right;\n",
       "    }\n",
       "</style>\n",
       "<table border=\"1\" class=\"dataframe\">\n",
       "  <thead>\n",
       "    <tr style=\"text-align: right;\">\n",
       "      <th></th>\n",
       "      <th>Model</th>\n",
       "      <th>R^2</th>\n",
       "      <th>Adjusted R^2</th>\n",
       "      <th>MAE</th>\n",
       "      <th>MSE</th>\n",
       "      <th>RMSE</th>\n",
       "    </tr>\n",
       "  </thead>\n",
       "  <tbody>\n",
       "    <tr>\n",
       "      <th>0</th>\n",
       "      <td>ElasticNet Regressor</td>\n",
       "      <td>0.839722</td>\n",
       "      <td>0.838443</td>\n",
       "      <td>292.92</td>\n",
       "      <td>387148</td>\n",
       "      <td>622.212</td>\n",
       "    </tr>\n",
       "  </tbody>\n",
       "</table>\n",
       "</div>"
      ],
      "text/plain": [
       "                  Model       R^2 Adjusted R^2     MAE     MSE     RMSE\n",
       "0  ElasticNet Regressor  0.839722     0.838443  292.92  387148  622.212"
      ]
     },
     "execution_count": 133,
     "metadata": {},
     "output_type": "execute_result"
    }
   ],
   "source": [
    "# Store results as dataframe\n",
    "elnet_dict = {'Model':'ElasticNet Regressor',\n",
    "          'R^2':metrics.r2_score(y_val, y_pred_val),\n",
    "          'Adjusted R^2':(1 - (1-metrics.r2_score(y_val, y_pred_val))*(len(y_val)-1)/(len(y_val)-X_val.shape[1]-1)),\n",
    "          'MAE':metrics.mean_absolute_error(y_val, y_pred_val),\n",
    "          'MSE':metrics.mean_squared_error(y_val, y_pred_val),\n",
    "          'RMSE':np.sqrt(metrics.mean_squared_error(y_val, y_pred_val))}\n",
    "\n",
    "elnet_metrics = pd.DataFrame.from_dict(elnet_dict, orient = 'index').T\n",
    "elnet_metrics"
   ]
  },
  {
   "cell_type": "code",
   "execution_count": 134,
   "metadata": {},
   "outputs": [
    {
     "name": "stdout",
     "output_type": "stream",
     "text": [
      "ElasticNet mean score: 622.734724799149\n",
      "ElasticNet std: 133.81754220147084\n"
     ]
    }
   ],
   "source": [
    "print(\"ElasticNet mean score:\", rmsle_cv(elnet).mean())\n",
    "print(\"ElasticNet std:\", rmsle_cv(elnet).std())"
   ]
  },
  {
   "cell_type": "code",
   "execution_count": null,
   "metadata": {},
   "outputs": [],
   "source": []
  },
  {
   "cell_type": "markdown",
   "metadata": {},
   "source": [
    "## Support Vector Machine"
   ]
  },
  {
   "cell_type": "code",
   "execution_count": 135,
   "metadata": {},
   "outputs": [
    {
     "name": "stdout",
     "output_type": "stream",
     "text": [
      "Fitting 20 folds for each of 1 candidates, totalling 20 fits\n"
     ]
    },
    {
     "name": "stderr",
     "output_type": "stream",
     "text": [
      "[Parallel(n_jobs=-1)]: Using backend LokyBackend with 4 concurrent workers.\n",
      "[Parallel(n_jobs=-1)]: Done  20 out of  20 | elapsed:   28.0s finished\n"
     ]
    },
    {
     "name": "stdout",
     "output_type": "stream",
     "text": [
      "{'C': 0.1, 'coef0': 1.6, 'degree': 2, 'epsilon': 0.03, 'gamma': 'auto', 'kernel': 'poly'}\n"
     ]
    }
   ],
   "source": [
    "epsilons = [0.03]\n",
    "degrees = [2]\n",
    "coef0s = [1.6]\n",
    "\n",
    "gammas = ['auto']\n",
    "Cs = [0.1]\n",
    "kernels = ['poly']\n",
    "\n",
    "param_grid = dict(C=Cs, epsilon = epsilons, gamma=gammas, kernel=kernels, degree= degrees, coef0=coef0s)\n",
    "SVMR = GridSearchCV(SVR(), param_grid = param_grid, cv = kfold, scoring = \"neg_mean_squared_error\",n_jobs = -1,verbose = 1)\n",
    "\n",
    "SVMR.fit(X_train,y_train)\n",
    "SVMR_best = SVMR.best_estimator_\n",
    "print(SVMR.best_params_)"
   ]
  },
  {
   "cell_type": "code",
   "execution_count": 136,
   "metadata": {},
   "outputs": [
    {
     "data": {
      "text/html": [
       "<div>\n",
       "<style scoped>\n",
       "    .dataframe tbody tr th:only-of-type {\n",
       "        vertical-align: middle;\n",
       "    }\n",
       "\n",
       "    .dataframe tbody tr th {\n",
       "        vertical-align: top;\n",
       "    }\n",
       "\n",
       "    .dataframe thead th {\n",
       "        text-align: right;\n",
       "    }\n",
       "</style>\n",
       "<table border=\"1\" class=\"dataframe\">\n",
       "  <thead>\n",
       "    <tr style=\"text-align: right;\">\n",
       "      <th></th>\n",
       "      <th>Actual</th>\n",
       "      <th>Prediction</th>\n",
       "    </tr>\n",
       "  </thead>\n",
       "  <tbody>\n",
       "    <tr>\n",
       "      <th>0</th>\n",
       "      <td>1440.21</td>\n",
       "      <td>1771.397075</td>\n",
       "    </tr>\n",
       "    <tr>\n",
       "      <th>1</th>\n",
       "      <td>1953.76</td>\n",
       "      <td>1950.739568</td>\n",
       "    </tr>\n",
       "    <tr>\n",
       "      <th>2</th>\n",
       "      <td>1470.31</td>\n",
       "      <td>1796.008759</td>\n",
       "    </tr>\n",
       "    <tr>\n",
       "      <th>3</th>\n",
       "      <td>1938.13</td>\n",
       "      <td>1989.240315</td>\n",
       "    </tr>\n",
       "    <tr>\n",
       "      <th>4</th>\n",
       "      <td>1663.24</td>\n",
       "      <td>1826.543076</td>\n",
       "    </tr>\n",
       "    <tr>\n",
       "      <th>...</th>\n",
       "      <td>...</td>\n",
       "      <td>...</td>\n",
       "    </tr>\n",
       "    <tr>\n",
       "      <th>1512</th>\n",
       "      <td>1607.03</td>\n",
       "      <td>1851.420150</td>\n",
       "    </tr>\n",
       "    <tr>\n",
       "      <th>1513</th>\n",
       "      <td>2451.94</td>\n",
       "      <td>2021.141118</td>\n",
       "    </tr>\n",
       "    <tr>\n",
       "      <th>1514</th>\n",
       "      <td>1598.88</td>\n",
       "      <td>1831.307519</td>\n",
       "    </tr>\n",
       "    <tr>\n",
       "      <th>1515</th>\n",
       "      <td>2314.20</td>\n",
       "      <td>1974.754863</td>\n",
       "    </tr>\n",
       "    <tr>\n",
       "      <th>1516</th>\n",
       "      <td>1695.64</td>\n",
       "      <td>1807.056891</td>\n",
       "    </tr>\n",
       "  </tbody>\n",
       "</table>\n",
       "<p>1517 rows × 2 columns</p>\n",
       "</div>"
      ],
      "text/plain": [
       "       Actual   Prediction\n",
       "0     1440.21  1771.397075\n",
       "1     1953.76  1950.739568\n",
       "2     1470.31  1796.008759\n",
       "3     1938.13  1989.240315\n",
       "4     1663.24  1826.543076\n",
       "...       ...          ...\n",
       "1512  1607.03  1851.420150\n",
       "1513  2451.94  2021.141118\n",
       "1514  1598.88  1831.307519\n",
       "1515  2314.20  1974.754863\n",
       "1516  1695.64  1807.056891\n",
       "\n",
       "[1517 rows x 2 columns]"
      ]
     },
     "execution_count": 136,
     "metadata": {},
     "output_type": "execute_result"
    }
   ],
   "source": [
    "y_pred_val = SVMR.predict(X_val)\n",
    "result_df = pd.DataFrame({'Actual':np.array(y_val), 'Prediction':y_pred_val})\n",
    "result_df"
   ]
  },
  {
   "cell_type": "code",
   "execution_count": 137,
   "metadata": {},
   "outputs": [
    {
     "data": {
      "text/html": [
       "<div>\n",
       "<style scoped>\n",
       "    .dataframe tbody tr th:only-of-type {\n",
       "        vertical-align: middle;\n",
       "    }\n",
       "\n",
       "    .dataframe tbody tr th {\n",
       "        vertical-align: top;\n",
       "    }\n",
       "\n",
       "    .dataframe thead th {\n",
       "        text-align: right;\n",
       "    }\n",
       "</style>\n",
       "<table border=\"1\" class=\"dataframe\">\n",
       "  <thead>\n",
       "    <tr style=\"text-align: right;\">\n",
       "      <th></th>\n",
       "      <th>Model</th>\n",
       "      <th>R^2</th>\n",
       "      <th>Adjusted R^2</th>\n",
       "      <th>MAE</th>\n",
       "      <th>MSE</th>\n",
       "      <th>RMSE</th>\n",
       "    </tr>\n",
       "  </thead>\n",
       "  <tbody>\n",
       "    <tr>\n",
       "      <th>0</th>\n",
       "      <td>SVM Regression Regressor</td>\n",
       "      <td>0.307168</td>\n",
       "      <td>0.30164</td>\n",
       "      <td>604.432</td>\n",
       "      <td>1.67352e+06</td>\n",
       "      <td>1293.64</td>\n",
       "    </tr>\n",
       "  </tbody>\n",
       "</table>\n",
       "</div>"
      ],
      "text/plain": [
       "                      Model       R^2 Adjusted R^2      MAE          MSE  \\\n",
       "0  SVM Regression Regressor  0.307168      0.30164  604.432  1.67352e+06   \n",
       "\n",
       "      RMSE  \n",
       "0  1293.64  "
      ]
     },
     "execution_count": 137,
     "metadata": {},
     "output_type": "execute_result"
    }
   ],
   "source": [
    "# Store results as dataframe\n",
    "SVMR_dict = {'Model':'SVM Regression Regressor',\n",
    "          'R^2':metrics.r2_score(y_val, y_pred_val),\n",
    "          'Adjusted R^2':(1 - (1-metrics.r2_score(y_val, y_pred_val))*(len(y_val)-1)/(len(y_val)-X_val.shape[1]-1)),\n",
    "          'MAE':metrics.mean_absolute_error(y_val, y_pred_val),\n",
    "          'MSE':metrics.mean_squared_error(y_val, y_pred_val),\n",
    "          'RMSE':np.sqrt(metrics.mean_squared_error(y_val, y_pred_val))}\n",
    "\n",
    "SVMR_metrics = pd.DataFrame.from_dict(SVMR_dict, orient = 'index').T\n",
    "SVMR_metrics"
   ]
  },
  {
   "cell_type": "code",
   "execution_count": 138,
   "metadata": {},
   "outputs": [
    {
     "name": "stdout",
     "output_type": "stream",
     "text": [
      "SVM mean score: 1349.289483337768\n",
      "SVM std: 209.11302367262775\n"
     ]
    }
   ],
   "source": [
    "print(\"SVM mean score:\", rmsle_cv(SVMR_best).mean())\n",
    "print(\"SVM std:\", rmsle_cv(SVMR_best).std())"
   ]
  },
  {
   "cell_type": "code",
   "execution_count": null,
   "metadata": {},
   "outputs": [],
   "source": []
  },
  {
   "cell_type": "code",
   "execution_count": null,
   "metadata": {},
   "outputs": [],
   "source": []
  },
  {
   "cell_type": "markdown",
   "metadata": {},
   "source": [
    "## Random Forest"
   ]
  },
  {
   "cell_type": "code",
   "execution_count": 139,
   "metadata": {},
   "outputs": [
    {
     "name": "stdout",
     "output_type": "stream",
     "text": [
      "Fitting 20 folds for each of 1 candidates, totalling 20 fits\n"
     ]
    },
    {
     "name": "stderr",
     "output_type": "stream",
     "text": [
      "[Parallel(n_jobs=-1)]: Using backend LokyBackend with 4 concurrent workers.\n",
      "[Parallel(n_jobs=-1)]: Done  20 out of  20 | elapsed:  5.4min finished\n"
     ]
    },
    {
     "name": "stdout",
     "output_type": "stream",
     "text": [
      "{'max_depth': None, 'max_features': 11, 'min_samples_leaf': 1, 'n_estimators': 570}\n"
     ]
    }
   ],
   "source": [
    "RFC = RandomForestRegressor(random_state = 1)\n",
    "\n",
    "rf_param_grid = {\"max_depth\": [None],\n",
    "              \"max_features\": [11],\n",
    "              \"min_samples_leaf\": [1],\n",
    "              \"n_estimators\" :[570]\n",
    "                }\n",
    "\n",
    "gsRFC = GridSearchCV(RFC,param_grid = rf_param_grid, cv = kfold, scoring = \"neg_mean_squared_error\", n_jobs = -1, verbose = 1)\n",
    "gsRFC.fit(X_train,y_train)\n",
    "RFC_best = gsRFC.best_estimator_\n",
    "print(gsRFC.best_params_)\n",
    "\n",
    "\n",
    "# cv = 20 (Scaler)\n",
    "# {'max_depth': None, 'min_samples_leaf': 1, 'max_features': 88, 'n_estimators': 600}\n",
    "# {'max_depth': None, 'min_samples_leaf': 1, 'max_features': 88, 'n_estimators': 570} - 0.13778"
   ]
  },
  {
   "cell_type": "code",
   "execution_count": 140,
   "metadata": {},
   "outputs": [
    {
     "data": {
      "text/html": [
       "<div>\n",
       "<style scoped>\n",
       "    .dataframe tbody tr th:only-of-type {\n",
       "        vertical-align: middle;\n",
       "    }\n",
       "\n",
       "    .dataframe tbody tr th {\n",
       "        vertical-align: top;\n",
       "    }\n",
       "\n",
       "    .dataframe thead th {\n",
       "        text-align: right;\n",
       "    }\n",
       "</style>\n",
       "<table border=\"1\" class=\"dataframe\">\n",
       "  <thead>\n",
       "    <tr style=\"text-align: right;\">\n",
       "      <th></th>\n",
       "      <th>Actual</th>\n",
       "      <th>Prediction</th>\n",
       "    </tr>\n",
       "  </thead>\n",
       "  <tbody>\n",
       "    <tr>\n",
       "      <th>0</th>\n",
       "      <td>1440.21</td>\n",
       "      <td>1643.433222</td>\n",
       "    </tr>\n",
       "    <tr>\n",
       "      <th>1</th>\n",
       "      <td>1953.76</td>\n",
       "      <td>2235.765351</td>\n",
       "    </tr>\n",
       "    <tr>\n",
       "      <th>2</th>\n",
       "      <td>1470.31</td>\n",
       "      <td>1523.798657</td>\n",
       "    </tr>\n",
       "    <tr>\n",
       "      <th>3</th>\n",
       "      <td>1938.13</td>\n",
       "      <td>2232.721544</td>\n",
       "    </tr>\n",
       "    <tr>\n",
       "      <th>4</th>\n",
       "      <td>1663.24</td>\n",
       "      <td>1697.301477</td>\n",
       "    </tr>\n",
       "    <tr>\n",
       "      <th>...</th>\n",
       "      <td>...</td>\n",
       "      <td>...</td>\n",
       "    </tr>\n",
       "    <tr>\n",
       "      <th>1512</th>\n",
       "      <td>1607.03</td>\n",
       "      <td>1467.027018</td>\n",
       "    </tr>\n",
       "    <tr>\n",
       "      <th>1513</th>\n",
       "      <td>2451.94</td>\n",
       "      <td>2571.948719</td>\n",
       "    </tr>\n",
       "    <tr>\n",
       "      <th>1514</th>\n",
       "      <td>1598.88</td>\n",
       "      <td>1481.316487</td>\n",
       "    </tr>\n",
       "    <tr>\n",
       "      <th>1515</th>\n",
       "      <td>2314.20</td>\n",
       "      <td>2357.710684</td>\n",
       "    </tr>\n",
       "    <tr>\n",
       "      <th>1516</th>\n",
       "      <td>1695.64</td>\n",
       "      <td>1644.165058</td>\n",
       "    </tr>\n",
       "  </tbody>\n",
       "</table>\n",
       "<p>1517 rows × 2 columns</p>\n",
       "</div>"
      ],
      "text/plain": [
       "       Actual   Prediction\n",
       "0     1440.21  1643.433222\n",
       "1     1953.76  2235.765351\n",
       "2     1470.31  1523.798657\n",
       "3     1938.13  2232.721544\n",
       "4     1663.24  1697.301477\n",
       "...       ...          ...\n",
       "1512  1607.03  1467.027018\n",
       "1513  2451.94  2571.948719\n",
       "1514  1598.88  1481.316487\n",
       "1515  2314.20  2357.710684\n",
       "1516  1695.64  1644.165058\n",
       "\n",
       "[1517 rows x 2 columns]"
      ]
     },
     "execution_count": 140,
     "metadata": {},
     "output_type": "execute_result"
    }
   ],
   "source": [
    "y_pred_val = gsRFC.predict(X_val)\n",
    "result_df = pd.DataFrame({'Actual':np.array(y_val), 'Prediction':y_pred_val})\n",
    "result_df"
   ]
  },
  {
   "cell_type": "code",
   "execution_count": 141,
   "metadata": {},
   "outputs": [
    {
     "data": {
      "text/html": [
       "<div>\n",
       "<style scoped>\n",
       "    .dataframe tbody tr th:only-of-type {\n",
       "        vertical-align: middle;\n",
       "    }\n",
       "\n",
       "    .dataframe tbody tr th {\n",
       "        vertical-align: top;\n",
       "    }\n",
       "\n",
       "    .dataframe thead th {\n",
       "        text-align: right;\n",
       "    }\n",
       "</style>\n",
       "<table border=\"1\" class=\"dataframe\">\n",
       "  <thead>\n",
       "    <tr style=\"text-align: right;\">\n",
       "      <th></th>\n",
       "      <th>Model</th>\n",
       "      <th>R^2</th>\n",
       "      <th>Adjusted R^2</th>\n",
       "      <th>MAE</th>\n",
       "      <th>MSE</th>\n",
       "      <th>RMSE</th>\n",
       "    </tr>\n",
       "  </thead>\n",
       "  <tbody>\n",
       "    <tr>\n",
       "      <th>0</th>\n",
       "      <td>gsRFC Regression Regressor</td>\n",
       "      <td>0.848837</td>\n",
       "      <td>0.847631</td>\n",
       "      <td>259.392</td>\n",
       "      <td>365131</td>\n",
       "      <td>604.261</td>\n",
       "    </tr>\n",
       "  </tbody>\n",
       "</table>\n",
       "</div>"
      ],
      "text/plain": [
       "                        Model       R^2 Adjusted R^2      MAE     MSE     RMSE\n",
       "0  gsRFC Regression Regressor  0.848837     0.847631  259.392  365131  604.261"
      ]
     },
     "execution_count": 141,
     "metadata": {},
     "output_type": "execute_result"
    }
   ],
   "source": [
    "# Store results as dataframe\n",
    "gsRFC_dict = {'Model':'gsRFC Regression Regressor',\n",
    "          'R^2':metrics.r2_score(y_val, y_pred_val),\n",
    "          'Adjusted R^2':(1 - (1-metrics.r2_score(y_val, y_pred_val))*(len(y_val)-1)/(len(y_val)-X_val.shape[1]-1)),\n",
    "          'MAE':metrics.mean_absolute_error(y_val, y_pred_val),\n",
    "          'MSE':metrics.mean_squared_error(y_val, y_pred_val),\n",
    "          'RMSE':np.sqrt(metrics.mean_squared_error(y_val, y_pred_val))}\n",
    "\n",
    "gsRFC_metrics = pd.DataFrame.from_dict(gsRFC_dict, orient = 'index').T\n",
    "gsRFC_metrics"
   ]
  },
  {
   "cell_type": "code",
   "execution_count": 142,
   "metadata": {},
   "outputs": [
    {
     "name": "stdout",
     "output_type": "stream",
     "text": [
      "Random Forest mean score: 607.8263564043357\n",
      "Random Forest std: 121.14123030268229\n"
     ]
    }
   ],
   "source": [
    "print(\"Random Forest mean score:\", rmsle_cv(RFC_best).mean())\n",
    "print(\"Random Forest std:\", rmsle_cv(RFC_best).std())"
   ]
  },
  {
   "cell_type": "code",
   "execution_count": null,
   "metadata": {},
   "outputs": [],
   "source": []
  },
  {
   "cell_type": "code",
   "execution_count": null,
   "metadata": {},
   "outputs": [],
   "source": []
  },
  {
   "cell_type": "markdown",
   "metadata": {},
   "source": [
    "## XG Boost"
   ]
  },
  {
   "cell_type": "code",
   "execution_count": 143,
   "metadata": {},
   "outputs": [
    {
     "name": "stdout",
     "output_type": "stream",
     "text": [
      "Fitting 20 folds for each of 1 candidates, totalling 20 fits\n"
     ]
    },
    {
     "name": "stderr",
     "output_type": "stream",
     "text": [
      "[Parallel(n_jobs=-1)]: Using backend LokyBackend with 4 concurrent workers.\n",
      "[Parallel(n_jobs=-1)]: Done  20 out of  20 | elapsed:  1.4min finished\n"
     ]
    },
    {
     "name": "stdout",
     "output_type": "stream",
     "text": [
      "{'colsample_bytree': 0.7, 'gamma': 0, 'learning_rate': 0.04, 'max_depth': 3, 'min_child_weight': 0.2, 'n_estimators': 870, 'subsample': 0.8}\n"
     ]
    }
   ],
   "source": [
    "XGB = XGBRegressor()\n",
    "\n",
    "xg_param_grid = {\n",
    "              'n_estimators' :[870],\n",
    "              'learning_rate': [0.04],\n",
    "              \n",
    "              'max_depth': [3],\n",
    "              'min_child_weight':[0.2],\n",
    "              \n",
    "              'gamma': [0],\n",
    "                \n",
    "              'subsample':[0.8],\n",
    "              'colsample_bytree':[0.7]\n",
    "    \n",
    "              #'reg_alpha':[0.08,0.09,0.095,0.1,0.15,0.2],\n",
    "              #'reg_lambda':[0,0.001,0.002]\n",
    "              }\n",
    "                \n",
    "gsXGB = GridSearchCV(XGB,param_grid = xg_param_grid, cv=kfold, scoring=\"neg_mean_squared_error\", n_jobs= -1, verbose = 1)\n",
    "gsXGB.fit(X_train,y_train)\n",
    "XGB_best = gsXGB.best_estimator_\n",
    "print(gsXGB.best_params_)"
   ]
  },
  {
   "cell_type": "code",
   "execution_count": 144,
   "metadata": {},
   "outputs": [
    {
     "data": {
      "text/html": [
       "<div>\n",
       "<style scoped>\n",
       "    .dataframe tbody tr th:only-of-type {\n",
       "        vertical-align: middle;\n",
       "    }\n",
       "\n",
       "    .dataframe tbody tr th {\n",
       "        vertical-align: top;\n",
       "    }\n",
       "\n",
       "    .dataframe thead th {\n",
       "        text-align: right;\n",
       "    }\n",
       "</style>\n",
       "<table border=\"1\" class=\"dataframe\">\n",
       "  <thead>\n",
       "    <tr style=\"text-align: right;\">\n",
       "      <th></th>\n",
       "      <th>Actual</th>\n",
       "      <th>Prediction</th>\n",
       "    </tr>\n",
       "  </thead>\n",
       "  <tbody>\n",
       "    <tr>\n",
       "      <th>0</th>\n",
       "      <td>1440.21</td>\n",
       "      <td>1589.607178</td>\n",
       "    </tr>\n",
       "    <tr>\n",
       "      <th>1</th>\n",
       "      <td>1953.76</td>\n",
       "      <td>2092.238770</td>\n",
       "    </tr>\n",
       "    <tr>\n",
       "      <th>2</th>\n",
       "      <td>1470.31</td>\n",
       "      <td>1589.040405</td>\n",
       "    </tr>\n",
       "    <tr>\n",
       "      <th>3</th>\n",
       "      <td>1938.13</td>\n",
       "      <td>2231.317871</td>\n",
       "    </tr>\n",
       "    <tr>\n",
       "      <th>4</th>\n",
       "      <td>1663.24</td>\n",
       "      <td>1677.630615</td>\n",
       "    </tr>\n",
       "    <tr>\n",
       "      <th>...</th>\n",
       "      <td>...</td>\n",
       "      <td>...</td>\n",
       "    </tr>\n",
       "    <tr>\n",
       "      <th>1512</th>\n",
       "      <td>1607.03</td>\n",
       "      <td>1533.190186</td>\n",
       "    </tr>\n",
       "    <tr>\n",
       "      <th>1513</th>\n",
       "      <td>2451.94</td>\n",
       "      <td>2493.547119</td>\n",
       "    </tr>\n",
       "    <tr>\n",
       "      <th>1514</th>\n",
       "      <td>1598.88</td>\n",
       "      <td>1540.558838</td>\n",
       "    </tr>\n",
       "    <tr>\n",
       "      <th>1515</th>\n",
       "      <td>2314.20</td>\n",
       "      <td>2366.571777</td>\n",
       "    </tr>\n",
       "    <tr>\n",
       "      <th>1516</th>\n",
       "      <td>1695.64</td>\n",
       "      <td>1640.773193</td>\n",
       "    </tr>\n",
       "  </tbody>\n",
       "</table>\n",
       "<p>1517 rows × 2 columns</p>\n",
       "</div>"
      ],
      "text/plain": [
       "       Actual   Prediction\n",
       "0     1440.21  1589.607178\n",
       "1     1953.76  2092.238770\n",
       "2     1470.31  1589.040405\n",
       "3     1938.13  2231.317871\n",
       "4     1663.24  1677.630615\n",
       "...       ...          ...\n",
       "1512  1607.03  1533.190186\n",
       "1513  2451.94  2493.547119\n",
       "1514  1598.88  1540.558838\n",
       "1515  2314.20  2366.571777\n",
       "1516  1695.64  1640.773193\n",
       "\n",
       "[1517 rows x 2 columns]"
      ]
     },
     "execution_count": 144,
     "metadata": {},
     "output_type": "execute_result"
    }
   ],
   "source": [
    "y_pred_val = gsXGB.predict(X_val)\n",
    "result_df = pd.DataFrame({'Actual':np.array(y_val), 'Prediction':y_pred_val})\n",
    "result_df"
   ]
  },
  {
   "cell_type": "code",
   "execution_count": 147,
   "metadata": {},
   "outputs": [
    {
     "data": {
      "text/html": [
       "<div>\n",
       "<style scoped>\n",
       "    .dataframe tbody tr th:only-of-type {\n",
       "        vertical-align: middle;\n",
       "    }\n",
       "\n",
       "    .dataframe tbody tr th {\n",
       "        vertical-align: top;\n",
       "    }\n",
       "\n",
       "    .dataframe thead th {\n",
       "        text-align: right;\n",
       "    }\n",
       "</style>\n",
       "<table border=\"1\" class=\"dataframe\">\n",
       "  <thead>\n",
       "    <tr style=\"text-align: right;\">\n",
       "      <th></th>\n",
       "      <th>Model</th>\n",
       "      <th>R^2</th>\n",
       "      <th>Adjusted R^2</th>\n",
       "      <th>MAE</th>\n",
       "      <th>MSE</th>\n",
       "      <th>RMSE</th>\n",
       "    </tr>\n",
       "  </thead>\n",
       "  <tbody>\n",
       "    <tr>\n",
       "      <th>0</th>\n",
       "      <td>gsXGB Regression Regressor</td>\n",
       "      <td>0.840307</td>\n",
       "      <td>0.839033</td>\n",
       "      <td>271.627</td>\n",
       "      <td>385735</td>\n",
       "      <td>621.075</td>\n",
       "    </tr>\n",
       "  </tbody>\n",
       "</table>\n",
       "</div>"
      ],
      "text/plain": [
       "                        Model       R^2 Adjusted R^2      MAE     MSE     RMSE\n",
       "0  gsXGB Regression Regressor  0.840307     0.839033  271.627  385735  621.075"
      ]
     },
     "execution_count": 147,
     "metadata": {},
     "output_type": "execute_result"
    }
   ],
   "source": [
    "# Store results as dataframe\n",
    "gsXGB_dict = {'Model':'gsXGB Regression Regressor',\n",
    "          'R^2':metrics.r2_score(y_val, y_pred_val),\n",
    "          'Adjusted R^2':(1 - (1-metrics.r2_score(y_val, y_pred_val))*(len(y_val)-1)/(len(y_val)-X_val.shape[1]-1)),\n",
    "          'MAE':metrics.mean_absolute_error(y_val, y_pred_val),\n",
    "          'MSE':metrics.mean_squared_error(y_val, y_pred_val),\n",
    "          'RMSE':np.sqrt(metrics.mean_squared_error(y_val, y_pred_val))}\n",
    "\n",
    "gsXGB_metrics = pd.DataFrame.from_dict(gsXGB_dict, orient = 'index').T\n",
    "gsXGB_metrics"
   ]
  },
  {
   "cell_type": "code",
   "execution_count": 146,
   "metadata": {},
   "outputs": [
    {
     "name": "stdout",
     "output_type": "stream",
     "text": [
      "XG Boost mean score: 595.3835967708266\n",
      "XG Boost std: 128.37972258315313\n"
     ]
    }
   ],
   "source": [
    "print(\"XG Boost mean score:\", rmsle_cv(XGB_best).mean())\n",
    "print(\"XG Boost std:\", rmsle_cv(XGB_best).std())"
   ]
  },
  {
   "cell_type": "code",
   "execution_count": null,
   "metadata": {},
   "outputs": [],
   "source": []
  },
  {
   "cell_type": "code",
   "execution_count": null,
   "metadata": {},
   "outputs": [],
   "source": []
  },
  {
   "cell_type": "code",
   "execution_count": null,
   "metadata": {},
   "outputs": [],
   "source": []
  },
  {
   "cell_type": "code",
   "execution_count": null,
   "metadata": {},
   "outputs": [],
   "source": []
  }
 ],
 "metadata": {
  "kernelspec": {
   "display_name": "Python 3",
   "language": "python",
   "name": "python3"
  },
  "language_info": {
   "codemirror_mode": {
    "name": "ipython",
    "version": 3
   },
   "file_extension": ".py",
   "mimetype": "text/x-python",
   "name": "python",
   "nbconvert_exporter": "python",
   "pygments_lexer": "ipython3",
   "version": "3.8.5"
  }
 },
 "nbformat": 4,
 "nbformat_minor": 4
}
