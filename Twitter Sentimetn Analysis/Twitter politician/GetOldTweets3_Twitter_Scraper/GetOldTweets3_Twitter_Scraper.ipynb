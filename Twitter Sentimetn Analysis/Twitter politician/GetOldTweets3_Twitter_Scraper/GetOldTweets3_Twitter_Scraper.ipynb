{
 "cells": [
  {
   "cell_type": "markdown",
   "metadata": {
    "colab_type": "text",
    "id": "3MDPXp5-X80r"
   },
   "source": [
    "# Scraper for Twitter using GetOldTweets3\n",
    "\n",
    "Package: https://github.com/Mottl/GetOldTweets3\n",
    "\n",
    "### Notebook Author: Martin Beck"
   ]
  },
  {
   "cell_type": "code",
   "execution_count": 1,
   "metadata": {
    "colab": {
     "base_uri": "https://localhost:8080/",
     "height": 1000
    },
    "colab_type": "code",
    "id": "vp7x7kWeYABh",
    "outputId": "af1a20c2-2262-47f8-e27f-90076bd7860b",
    "scrolled": true
   },
   "outputs": [],
   "source": [
    "# Pip install GetOldTweets3 if you don't already have the package\n",
    "# !pip install GetOldTweets3\n",
    "\n",
    "# Imports\n",
    "import GetOldTweets3 as got\n",
    "import pandas as pd"
   ]
  },
  {
   "cell_type": "markdown",
   "metadata": {
    "colab_type": "text",
    "id": "he3accCbyaWG"
   },
   "source": [
    "## Query by Username\n",
    "Creation of queries using GetOldTweets3\n",
    "\n",
    "Function is focused on completing the query then providing a CSV file of that query using pandas"
   ]
  },
  {
   "cell_type": "code",
   "execution_count": 2,
   "metadata": {
    "colab": {},
    "colab_type": "code",
    "id": "54rhT5wfZVXD"
   },
   "outputs": [],
   "source": [
    "# Function the pulls tweets from a specific username and turns to csv file\n",
    "\n",
    "# Parameters: (list of twitter usernames), (max number of most recent tweets to pull from)\n",
    "def username_tweets_to_csv(username, count):\n",
    "    # Creation of query object\n",
    "    tweetCriteria = got.manager.TweetCriteria().setUsername(username)\\\n",
    "                                            .setMaxTweets(count)\n",
    "    # Creation of list that contains all tweets\n",
    "    tweets = got.manager.TweetManager.getTweets(tweetCriteria)\n",
    "\n",
    "    # Creating list of chosen tweet data\n",
    "    user_tweets = [[tweet.username,tweet.date, tweet.text,tweet.retweets,tweet.favorites,tweet.hashtags ] for tweet in tweets]\n",
    "\n",
    "    # Creation of dataframe from tweets list\n",
    "    tweets_df = pd.DataFrame(user_tweets, columns = ['Username','Datetime', 'Text', 'retweets', 'favorites','hashtags' ])\n",
    "\n",
    "    # Converting dataframe to CSV\n",
    "    tweets_df.to_csv('{}-{}k-tweets.csv'.format(username, int(count/1000)), sep=',')"
   ]
  },
  {
   "cell_type": "markdown",
   "metadata": {
    "colab_type": "text",
    "id": "G7r4McYgyoQy"
   },
   "source": [
    "## Query by Text Search\n",
    "Function is focused on completing the query then providing a CSV file of that query using pandas"
   ]
  },
  {
   "cell_type": "code",
   "execution_count": null,
   "metadata": {
    "colab": {},
    "colab_type": "code",
    "id": "JSjpix_9A5e6"
   },
   "outputs": [],
   "source": [
    "# Function that pulls tweets based on a general search query and turns to csv file\n",
    "\n",
    "# Parameters: (text query you want to search), (max number of most recent tweets to pull from)\n",
    "def text_query_to_csv(text_query, count):\n",
    "    # Creation of query object\n",
    "    tweetCriteria = got.manager.TweetCriteria().setQuerySearch(text_query)\\\n",
    "                                                .setMaxTweets(count)\n",
    "    # Creation of list that contains all tweets\n",
    "    tweets = got.manager.TweetManager.getTweets(tweetCriteria)\n",
    "\n",
    "    # Creating list of chosen tweet data\n",
    "    text_tweets = [[tweet.date, tweet.text] for tweet in tweets]\n",
    "\n",
    "    # Creation of dataframe from tweets\n",
    "    tweets_df = pd.DataFrame(text_tweets, columns = ['Datetime', 'Text'])\n",
    "\n",
    "    # Converting tweets dataframe to csv file\n",
    "    tweets_df.to_csv('{}-{}k-tweets.csv'.format(text_query, int(count/1000)), sep=',')"
   ]
  },
  {
   "cell_type": "markdown",
   "metadata": {
    "colab_type": "text",
    "id": "wWyvF9CQykPz"
   },
   "source": [
    "## Query Function Calls\n",
    "Putting it all together and using functions created."
   ]
  },
  {
   "cell_type": "code",
   "execution_count": 3,
   "metadata": {
    "colab": {},
    "colab_type": "code",
    "id": "kQfm6LdhZafM"
   },
   "outputs": [],
   "source": [
    "# Input username(s) to scrape tweets and name csv file\n",
    "# Max recent tweets pulls x amount of most recent tweets from that user\n",
    "usernames = ['Khamenei_fa','Khamenei_ir', 'Rouhani_ir', 'Eshaq_jahangiri' , 'Dr_Vaezi', 'MB_Nobakht' , 'azarijahromi' \n",
    "                 ,'sm_bathaei', 'shariatmadari_m', 'BijanZanganeh' , 'Alirabiei_ir', 'S_A_Salehi' , 'ebtekarm_ir' , 'rezarahmanii'\n",
    "                 ,'jamshid_ansari' , 'msoltanifar_ir', 'mounesan_ir' , 'JZarif' , 'amirnazemy', 'fatahi_ir', 'araghchi'\n",
    "                 , 'barari_ir', 'kabiri_mj', 'tondgouyan','sadjadb', 'shohre_naseri', 'HaniyehSamei', 'saeed272727'\n",
    "                 ,'RVahidianS', 'shahla_osouli', 'torabianIR', 'alilarijani' , 'ir_aref' , 'alimotahari_ir','mah_sadeghi'\n",
    "                 , 'behroznemati' , 'SoroushAbolfazl' , 'AliSari1397', 'mahkiaee', 'kolivand98' ,'jalali_kazem'\n",
    "                 ,'mehdi_mahdavian', 'mirmeysamasad' , 'zahrasaei_ir' , 'Badamchi_Media', 'AK_Hosseinzadeh','mazaniahmad'\n",
    "                 ,'S_FatemeHoseini','a_rahimi_mp','ParvanehMafi','elyashazrati','Nahid_Tajedin','oladghobad_f','shirankhorasani'\n",
    "                 ,'P_Salahshouri','saeidiftm','mahdi_sheykh','Zahedi_ir','ahmadamirabadi1','Drjalilrahimi','Ghheidari'\n",
    "                 ,'TayebehSiavash','Khojasteh_ir','Jafarzadeh_ir','AliNajafi_ir','k_karampour','A_Yarmohammadi','ParsaeiB'\n",
    "                 ,'drmdehghan','ahadazadikhah','HassanNooroozi','ahmadhematii','homayonhashemi','yagob_shivyari'\n",
    "                 ,'yousefnejad_ir','KarimiGhodousi','zonnour','HajiDeligani','j_mohebinia','sfaridmousavi','moh_rafsanjani'\n",
    "                 ,'ArvinBahare','salari_mohamad','shrbamani','HoseinNaghashi','AfshinHabibzade','AMasjedjamei','hojjat_nazari'\n",
    "                 ,'aminimedia_ir','AliEtaMedia','MjHaghshenas','zahra_nezhad','N_Khodakarami','ElhamFakhari','hasanrasouli'\n",
    "                 ,'HKhalilAbadi','farahani52','MMirlohii','sadrazamnouri','milani_arash','Bagheri_org','ghasemsoleimane'\n",
    "                 ,'Azizjafaari_ir','mesbahyazdi_ir','rafsanjani_fa','Khatamimedia','Kadkhodaee_ir','HaddadAdel_ir','ir_rezaee'\n",
    "                 ,'mb_ghalibaf','mowlaverdi','DrSaeedJalili','DrAboutalebi','Ahmadinejad_fa','Ahmadinejad1956','Zarghami_ez'\n",
    "                 ,'Smmirsalim','pirouzhanachi','raisi_org','ar_moezi','hesamodin1','baeidinejad','NiknamSepanta','ZahraAhmadipour'\n",
    "                 ,'Nahavandian_ir','alamolhoda_','qasemian_ir','kabi_abbas','Panahian_IR','Hn_jalali','sadighi_ir','Qarati_ir'\n",
    "                 ,'Ahmadkhatami_ir','HassanKhomeini','alia_peyvandi','Fassih_F','AshrafBrujerdi','alishakourirad','v_seif'\n",
    "                 ,'Dastjerdi_ir','hojatmirzaei','hajmajid47','fazelmaybodi','HadiKhaniki','1alpr','alirezaghanadan','hoseinipouya'\n",
    "                 ,'HasankarimiG','mjnanakar','Shahin_Arpanahi','seyedmajidsadr2','EsmaeiliParviz','mohsenmirdamadi','IRIMFA'\n",
    "            ]\n",
    "# usernames = ['behdad_ka']\n",
    "count = 3500\n",
    "\n",
    "# Calling function to turn username's past X amount of tweets into a CSV file\n",
    "for user in usernames:\n",
    "    username_tweets_to_csv(user, count)"
   ]
  },
  {
   "cell_type": "code",
   "execution_count": null,
   "metadata": {
    "colab": {},
    "colab_type": "code",
    "id": "k3xppry-1XM0"
   },
   "outputs": [],
   "source": [
    "# Input search query to scrape tweets and name csv file\n",
    "# Max recent tweets pulls x amount of most recent tweets from that user\n",
    "text_query = 'USA Election 2020'\n",
    "count = 5000\n",
    "\n",
    "# Calling function to query X amount of relevant tweets and create a CSV file\n",
    "text_query_to_csv(text_query, count)"
   ]
  }
 ],
 "metadata": {
  "colab": {
   "collapsed_sections": [],
   "name": "GetOldTweets3 Twitter Scraper",
   "provenance": []
  },
  "kernelspec": {
   "display_name": "Python 3",
   "language": "python",
   "name": "python3"
  },
  "language_info": {
   "codemirror_mode": {
    "name": "ipython",
    "version": 3
   },
   "file_extension": ".py",
   "mimetype": "text/x-python",
   "name": "python",
   "nbconvert_exporter": "python",
   "pygments_lexer": "ipython3",
   "version": "3.7.4"
  }
 },
 "nbformat": 4,
 "nbformat_minor": 4
}
